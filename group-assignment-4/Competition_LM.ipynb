{
 "cells": [
  {
   "cell_type": "markdown",
   "metadata": {},
   "source": [
    "<font color=\"#CC3D3D\"><p>\n",
    "# [Competition] Building a `Linear Model` with `Pipeline+Optuna`"
   ]
  },
  {
   "cell_type": "markdown",
   "metadata": {},
   "source": [
    "<font color=\"blue\"><p>\n",
    "#### LM 모형 구축절차\n",
    "1. 수치형 피처\n",
    " - 결측값처리: SimpleImputer(strategy=`???`)\n",
    " - 이상값처리: FunctionTransformer((remove_outlier, kw_args={'q':`???`})))\n",
    " - 스케일링: PowerTransformer()\n",
    "2. 범주형 피처\n",
    " - 결측값처리: SimpleImputer(strategy=\"most_frequent\")\n",
    " - 인코딩: OneHotEncoder(handle_unknown=\"ignore\", sparse=True)\n",
    "3. 공통\n",
    " - Feature Selection: SelectPercentile(percentile=`???`)\n",
    "    feature가 그렇게 많지 않아서 굳이 할 필요가 있는가 의구심이...\n",
    " - Modeling: Ridge(alpha=`???`)\n",
    " - Hyperparametor Optimization: `OptunaSearchCV`\n",
    " - OOF Prediction   \n",
    "    실무와 cmp의 차이! test/train 데이터가 나눠져 있느냐 아니냐의 차이~\n",
    "    교차검증해서 overfitting 여부만 확인해보면 됨"
   ]
  },
  {
   "cell_type": "markdown",
   "metadata": {},
   "source": [
    "**feature - 알고리즘 - tuning**\n",
    "그 외에는 그냥 이 템플릿을 그대로 쓰면 되는 거 아냐?"
   ]
  },
  {
   "cell_type": "code",
   "execution_count": 1,
   "metadata": {},
   "outputs": [],
   "source": [
    "LM_VERSION = 1.0"
   ]
  },
  {
   "cell_type": "code",
   "execution_count": 2,
   "metadata": {},
   "outputs": [],
   "source": [
    "%matplotlib inline\n",
    "import warnings\n",
    "warnings.filterwarnings(\"ignore\")\n",
    "\n",
    "import pandas as pd\n",
    "import numpy as np\n",
    "import matplotlib.pyplot as plt\n",
    "import seaborn as sns\n",
    "from sklearn.pipeline import Pipeline\n",
    "from sklearn.compose import ColumnTransformer\n",
    "from sklearn.preprocessing import FunctionTransformer\n",
    "from sklearn.base import BaseEstimator, TransformerMixin\n",
    "from sklearn.impute import SimpleImputer\n",
    "from sklearn.preprocessing import PowerTransformer \n",
    "from sklearn.preprocessing import OrdinalEncoder, OneHotEncoder\n",
    "from category_encoders import TargetEncoder, BinaryEncoder\n",
    "from sklearn.feature_selection import SelectPercentile\n",
    "from sklearn.model_selection import train_test_split, cross_val_score, cross_validate\n",
    "from sklearn.metrics import mean_squared_error\n",
    "from sklearn import set_config\n",
    "from sklearn.linear_model import LinearRegression, Ridge, Lasso\n",
    "import optuna\n",
    "from optuna.distributions import CategoricalDistribution, IntDistribution, FloatDistribution\n",
    "from optuna.integration import OptunaSearchCV, ShapleyImportanceEvaluator"
   ]
  },
  {
   "cell_type": "markdown",
   "metadata": {},
   "source": [
    "#### Load data"
   ]
  },
  {
   "cell_type": "code",
   "execution_count": 4,
   "metadata": {},
   "outputs": [],
   "source": [
    "X_train = pd.read_csv('X_train.csv', encoding='cp949').drop(columns='ID')\n",
    "y_train = pd.read_csv('y_train.csv', encoding='cp949').Salary\n",
    "\n",
    "X_test = pd.read_csv('X_test.csv', encoding='cp949')\n",
    "test_id = X_test.ID\n",
    "X_test = X_test.drop(columns='ID')"
   ]
  },
  {
   "cell_type": "code",
   "execution_count": 5,
   "metadata": {},
   "outputs": [
    {
     "name": "stdout",
     "output_type": "stream",
     "text": [
      "<class 'pandas.core.frame.DataFrame'>\n",
      "RangeIndex: 16570 entries, 0 to 16569\n",
      "Data columns (total 11 columns):\n",
      " #   Column  Non-Null Count  Dtype  \n",
      "---  ------  --------------  -----  \n",
      " 0   직종      16570 non-null  object \n",
      " 1   세부직종    16570 non-null  object \n",
      " 2   직무태그    14055 non-null  object \n",
      " 3   근무경력    16570 non-null  object \n",
      " 4   근무형태    6661 non-null   object \n",
      " 5   근무지역    16570 non-null  object \n",
      " 6   출신대학    16570 non-null  object \n",
      " 7   대학전공    16570 non-null  object \n",
      " 8   어학시험    4988 non-null   object \n",
      " 9   자격증     16570 non-null  object \n",
      " 10  대학성적    14600 non-null  float64\n",
      "dtypes: float64(1), object(10)\n",
      "memory usage: 1.4+ MB\n"
     ]
    }
   ],
   "source": [
    "X_train.info()"
   ]
  },
  {
   "cell_type": "code",
   "execution_count": 6,
   "metadata": {},
   "outputs": [
    {
     "data": {
      "text/html": [
       "<div>\n",
       "<style scoped>\n",
       "    .dataframe tbody tr th:only-of-type {\n",
       "        vertical-align: middle;\n",
       "    }\n",
       "\n",
       "    .dataframe tbody tr th {\n",
       "        vertical-align: top;\n",
       "    }\n",
       "\n",
       "    .dataframe thead th {\n",
       "        text-align: right;\n",
       "    }\n",
       "</style>\n",
       "<table border=\"1\" class=\"dataframe\">\n",
       "  <thead>\n",
       "    <tr style=\"text-align: right;\">\n",
       "      <th></th>\n",
       "      <th>직종</th>\n",
       "      <th>세부직종</th>\n",
       "      <th>직무태그</th>\n",
       "      <th>근무경력</th>\n",
       "      <th>근무형태</th>\n",
       "      <th>근무지역</th>\n",
       "      <th>출신대학</th>\n",
       "      <th>대학전공</th>\n",
       "      <th>어학시험</th>\n",
       "      <th>자격증</th>\n",
       "      <th>대학성적</th>\n",
       "    </tr>\n",
       "  </thead>\n",
       "  <tbody>\n",
       "    <tr>\n",
       "      <th>0</th>\n",
       "      <td>문화·예술·신문·방송</td>\n",
       "      <td>영상·음향·사진·카메라</td>\n",
       "      <td>취재기자, 편집 기사, 유아 사이트 기획, 시나리오 작성</td>\n",
       "      <td>0개월</td>\n",
       "      <td>NaN</td>\n",
       "      <td>서울,경기,서울</td>\n",
       "      <td>성균관대학교</td>\n",
       "      <td>국문</td>\n",
       "      <td>NaN</td>\n",
       "      <td>無</td>\n",
       "      <td>70.0</td>\n",
       "    </tr>\n",
       "    <tr>\n",
       "      <th>1</th>\n",
       "      <td>경영·기획·회계·사무</td>\n",
       "      <td>사무·총무·법무</td>\n",
       "      <td>NaN</td>\n",
       "      <td>2년 11개월</td>\n",
       "      <td>정규직</td>\n",
       "      <td>부산,서울,일본</td>\n",
       "      <td>신라대학교</td>\n",
       "      <td>관광경영</td>\n",
       "      <td>JLPT</td>\n",
       "      <td>無</td>\n",
       "      <td>NaN</td>\n",
       "    </tr>\n",
       "    <tr>\n",
       "      <th>2</th>\n",
       "      <td>IT·게임</td>\n",
       "      <td>하드웨어설계·개발·관리</td>\n",
       "      <td>하드웨어 , 무선통신 , MICOM , ASM , RF , CDMA , Firm W...</td>\n",
       "      <td>0개월</td>\n",
       "      <td>NaN</td>\n",
       "      <td>서울,경기,</td>\n",
       "      <td>수원대학교</td>\n",
       "      <td>정보통신공</td>\n",
       "      <td>NaN</td>\n",
       "      <td>有</td>\n",
       "      <td>60.0</td>\n",
       "    </tr>\n",
       "    <tr>\n",
       "      <th>3</th>\n",
       "      <td>영업·판매·TM</td>\n",
       "      <td>기술영업</td>\n",
       "      <td>반도체</td>\n",
       "      <td>1년 0개월</td>\n",
       "      <td>정규직</td>\n",
       "      <td>경기,서울,충북</td>\n",
       "      <td>수원대학교</td>\n",
       "      <td>정보통신</td>\n",
       "      <td>NaN</td>\n",
       "      <td>有</td>\n",
       "      <td>70.0</td>\n",
       "    </tr>\n",
       "    <tr>\n",
       "      <th>4</th>\n",
       "      <td>기술·과학·산업</td>\n",
       "      <td>기타 기술·과학·산업</td>\n",
       "      <td>기술직</td>\n",
       "      <td>0개월</td>\n",
       "      <td>NaN</td>\n",
       "      <td>전국,전국,전국</td>\n",
       "      <td>한밭대학교</td>\n",
       "      <td>화학공학과</td>\n",
       "      <td>NaN</td>\n",
       "      <td>無</td>\n",
       "      <td>70.0</td>\n",
       "    </tr>\n",
       "  </tbody>\n",
       "</table>\n",
       "</div>"
      ],
      "text/plain": [
       "            직종          세부직종  \\\n",
       "0  문화·예술·신문·방송  영상·음향·사진·카메라   \n",
       "1  경영·기획·회계·사무      사무·총무·법무   \n",
       "2        IT·게임  하드웨어설계·개발·관리   \n",
       "3     영업·판매·TM          기술영업   \n",
       "4     기술·과학·산업   기타 기술·과학·산업   \n",
       "\n",
       "                                                직무태그     근무경력 근무형태      근무지역  \\\n",
       "0                    취재기자, 편집 기사, 유아 사이트 기획, 시나리오 작성      0개월  NaN  서울,경기,서울   \n",
       "1                                                NaN  2년 11개월  정규직  부산,서울,일본   \n",
       "2  하드웨어 , 무선통신 , MICOM , ASM , RF , CDMA , Firm W...      0개월  NaN    서울,경기,   \n",
       "3                                                반도체   1년 0개월  정규직  경기,서울,충북   \n",
       "4                                                기술직      0개월  NaN  전국,전국,전국   \n",
       "\n",
       "     출신대학   대학전공  어학시험 자격증  대학성적  \n",
       "0  성균관대학교     국문   NaN   無  70.0  \n",
       "1   신라대학교   관광경영  JLPT   無   NaN  \n",
       "2   수원대학교  정보통신공   NaN   有  60.0  \n",
       "3   수원대학교   정보통신   NaN   有  70.0  \n",
       "4   한밭대학교  화학공학과   NaN   無  70.0  "
      ]
     },
     "execution_count": 6,
     "metadata": {},
     "output_type": "execute_result"
    }
   ],
   "source": [
    "X_train.head()"
   ]
  },
  {
   "cell_type": "code",
   "execution_count": 7,
   "metadata": {},
   "outputs": [
    {
     "data": {
      "image/png": "[encoded data removed]",
      "text/plain": [
       "<Figure size 432x288 with 1 Axes>"
      ]
     },
     "metadata": {
      "needs_background": "light"
     },
     "output_type": "display_data"
    }
   ],
   "source": [
    "sns.distplot(y_train); plt.show() "
   ]
  },
  {
   "cell_type": "markdown",
   "metadata": {},
   "source": [
    "#### 수치형/범주형 피처 분리 & 학습/평가 데이터 분할"
   ]
  },
  {
   "cell_type": "code",
   "execution_count": 8,
   "metadata": {},
   "outputs": [],
   "source": [
    "numeric_features = ['대학성적']\n",
    "categorical_features = ['직종','세부직종','직무태그','근무경력','근무형태','근무지역','출신대학','대학전공','어학시험','자격증']\n",
    "\n",
    "X_train = X_train[numeric_features+categorical_features]  # 순서 주의!!!\n",
    "X_test = X_test[numeric_features+categorical_features]"
   ]
  },
  {
   "cell_type": "markdown",
   "metadata": {},
   "source": [
    "####  파이프라인 구축"
   ]
  },
  {
   "cell_type": "code",
   "execution_count": 9,
   "metadata": {},
   "outputs": [
    {
     "data": {
      "text/html": [
       "<style>#sk-container-id-1 {color: black;background-color: white;}#sk-container-id-1 pre{padding: 0;}#sk-container-id-1 div.sk-toggleable {background-color: white;}#sk-container-id-1 label.sk-toggleable__label {cursor: pointer;display: block;width: 100%;margin-bottom: 0;padding: 0.3em;box-sizing: border-box;text-align: center;}#sk-container-id-1 label.sk-toggleable__label-arrow:before {content: \"▸\";float: left;margin-right: 0.25em;color: #696969;}#sk-container-id-1 label.sk-toggleable__label-arrow:hover:before {color: black;}#sk-container-id-1 div.sk-estimator:hover label.sk-toggleable__label-arrow:before {color: black;}#sk-container-id-1 div.sk-toggleable__content {max-height: 0;max-width: 0;overflow: hidden;text-align: left;background-color: #f0f8ff;}#sk-container-id-1 div.sk-toggleable__content pre {margin: 0.2em;color: black;border-radius: 0.25em;background-color: #f0f8ff;}#sk-container-id-1 input.sk-toggleable__control:checked~div.sk-toggleable__content {max-height: 200px;max-width: 100%;overflow: auto;}#sk-container-id-1 input.sk-toggleable__control:checked~label.sk-toggleable__label-arrow:before {content: \"▾\";}#sk-container-id-1 div.sk-estimator input.sk-toggleable__control:checked~label.sk-toggleable__label {background-color: #d4ebff;}#sk-container-id-1 div.sk-label input.sk-toggleable__control:checked~label.sk-toggleable__label {background-color: #d4ebff;}#sk-container-id-1 input.sk-hidden--visually {border: 0;clip: rect(1px 1px 1px 1px);clip: rect(1px, 1px, 1px, 1px);height: 1px;margin: -1px;overflow: hidden;padding: 0;position: absolute;width: 1px;}#sk-container-id-1 div.sk-estimator {font-family: monospace;background-color: #f0f8ff;border: 1px dotted black;border-radius: 0.25em;box-sizing: border-box;margin-bottom: 0.5em;}#sk-container-id-1 div.sk-estimator:hover {background-color: #d4ebff;}#sk-container-id-1 div.sk-parallel-item::after {content: \"\";width: 100%;border-bottom: 1px solid gray;flex-grow: 1;}#sk-container-id-1 div.sk-label:hover label.sk-toggleable__label {background-color: #d4ebff;}#sk-container-id-1 div.sk-serial::before {content: \"\";position: absolute;border-left: 1px solid gray;box-sizing: border-box;top: 0;bottom: 0;left: 50%;z-index: 0;}#sk-container-id-1 div.sk-serial {display: flex;flex-direction: column;align-items: center;background-color: white;padding-right: 0.2em;padding-left: 0.2em;position: relative;}#sk-container-id-1 div.sk-item {position: relative;z-index: 1;}#sk-container-id-1 div.sk-parallel {display: flex;align-items: stretch;justify-content: center;background-color: white;position: relative;}#sk-container-id-1 div.sk-item::before, #sk-container-id-1 div.sk-parallel-item::before {content: \"\";position: absolute;border-left: 1px solid gray;box-sizing: border-box;top: 0;bottom: 0;left: 50%;z-index: -1;}#sk-container-id-1 div.sk-parallel-item {display: flex;flex-direction: column;z-index: 1;position: relative;background-color: white;}#sk-container-id-1 div.sk-parallel-item:first-child::after {align-self: flex-end;width: 50%;}#sk-container-id-1 div.sk-parallel-item:last-child::after {align-self: flex-start;width: 50%;}#sk-container-id-1 div.sk-parallel-item:only-child::after {width: 0;}#sk-container-id-1 div.sk-dashed-wrapped {border: 1px dashed gray;margin: 0 0.4em 0.5em 0.4em;box-sizing: border-box;padding-bottom: 0.4em;background-color: white;}#sk-container-id-1 div.sk-label label {font-family: monospace;font-weight: bold;display: inline-block;line-height: 1.2em;}#sk-container-id-1 div.sk-label-container {text-align: center;}#sk-container-id-1 div.sk-container {/* jupyter's `normalize.less` sets `[hidden] { display: none; }` but bootstrap.min.css set `[hidden] { display: none !important; }` so we also need the `!important` here to be able to override the default hidden behavior on the sphinx rendered scikit-learn.org. See: https://github.com/scikit-learn/scikit-learn/issues/21755 */display: inline-block !important;position: relative;}#sk-container-id-1 div.sk-text-repr-fallback {display: none;}</style><div id=\"sk-container-id-1\" class=\"sk-top-container\"><div class=\"sk-text-repr-fallback\"><pre>Pipeline(steps=[(&#x27;preprocessor&#x27;,\n",
       "                 Pipeline(steps=[(&#x27;column&#x27;,\n",
       "                                  ColumnTransformer(transformers=[(&#x27;num&#x27;,\n",
       "                                                                   Pipeline(steps=[(&#x27;imputer&#x27;,\n",
       "                                                                                    SimpleImputer(strategy=&#x27;median&#x27;)),\n",
       "                                                                                   (&#x27;outlier&#x27;,\n",
       "                                                                                    FunctionTransformer(func=&lt;function remove_outlier at 0x0000027C556614C0&gt;,\n",
       "                                                                                                        kw_args={&#x27;q&#x27;: 0.05})),\n",
       "                                                                                   (&#x27;scaler&#x27;,\n",
       "                                                                                    PowerTransformer())]),\n",
       "                                                                   [&#x27;대학성적&#x27;]),\n",
       "                                                                  (&#x27;cat&#x27;,\n",
       "                                                                   Pipeline(steps=[(&#x27;imputer&#x27;,\n",
       "                                                                                    SimpleImputer(strategy=&#x27;most_frequent&#x27;)),\n",
       "                                                                                   (&#x27;encoder&#x27;,\n",
       "                                                                                    OneHotEncoder(handle_unknown=&#x27;ignore&#x27;))]),\n",
       "                                                                   [&#x27;직종&#x27;,\n",
       "                                                                    &#x27;세부직종&#x27;,\n",
       "                                                                    &#x27;직무태그&#x27;,\n",
       "                                                                    &#x27;근무경력&#x27;,\n",
       "                                                                    &#x27;근무형태&#x27;,\n",
       "                                                                    &#x27;근무지역&#x27;,\n",
       "                                                                    &#x27;출신대학&#x27;,\n",
       "                                                                    &#x27;대학전공&#x27;,\n",
       "                                                                    &#x27;어학시험&#x27;,\n",
       "                                                                    &#x27;자격증&#x27;])])),\n",
       "                                 (&#x27;selector&#x27;,\n",
       "                                  SelectPercentile(percentile=100))])),\n",
       "                (&#x27;classifier&#x27;, Ridge())])</pre><b>In a Jupyter environment, please rerun this cell to show the HTML representation or trust the notebook. <br />On GitHub, the HTML representation is unable to render, please try loading this page with nbviewer.org.</b></div><div class=\"sk-container\" hidden><div class=\"sk-item sk-dashed-wrapped\"><div class=\"sk-label-container\"><div class=\"sk-label sk-toggleable\"><input class=\"sk-toggleable__control sk-hidden--visually\" id=\"sk-estimator-id-1\" type=\"checkbox\" ><label for=\"sk-estimator-id-1\" class=\"sk-toggleable__label sk-toggleable__label-arrow\">Pipeline</label><div class=\"sk-toggleable__content\"><pre>Pipeline(steps=[(&#x27;preprocessor&#x27;,\n",
       "                 Pipeline(steps=[(&#x27;column&#x27;,\n",
       "                                  ColumnTransformer(transformers=[(&#x27;num&#x27;,\n",
       "                                                                   Pipeline(steps=[(&#x27;imputer&#x27;,\n",
       "                                                                                    SimpleImputer(strategy=&#x27;median&#x27;)),\n",
       "                                                                                   (&#x27;outlier&#x27;,\n",
       "                                                                                    FunctionTransformer(func=&lt;function remove_outlier at 0x0000027C556614C0&gt;,\n",
       "                                                                                                        kw_args={&#x27;q&#x27;: 0.05})),\n",
       "                                                                                   (&#x27;scaler&#x27;,\n",
       "                                                                                    PowerTransformer())]),\n",
       "                                                                   [&#x27;대학성적&#x27;]),\n",
       "                                                                  (&#x27;cat&#x27;,\n",
       "                                                                   Pipeline(steps=[(&#x27;imputer&#x27;,\n",
       "                                                                                    SimpleImputer(strategy=&#x27;most_frequent&#x27;)),\n",
       "                                                                                   (&#x27;encoder&#x27;,\n",
       "                                                                                    OneHotEncoder(handle_unknown=&#x27;ignore&#x27;))]),\n",
       "                                                                   [&#x27;직종&#x27;,\n",
       "                                                                    &#x27;세부직종&#x27;,\n",
       "                                                                    &#x27;직무태그&#x27;,\n",
       "                                                                    &#x27;근무경력&#x27;,\n",
       "                                                                    &#x27;근무형태&#x27;,\n",
       "                                                                    &#x27;근무지역&#x27;,\n",
       "                                                                    &#x27;출신대학&#x27;,\n",
       "                                                                    &#x27;대학전공&#x27;,\n",
       "                                                                    &#x27;어학시험&#x27;,\n",
       "                                                                    &#x27;자격증&#x27;])])),\n",
       "                                 (&#x27;selector&#x27;,\n",
       "                                  SelectPercentile(percentile=100))])),\n",
       "                (&#x27;classifier&#x27;, Ridge())])</pre></div></div></div><div class=\"sk-serial\"><div class=\"sk-item\"><div class=\"sk-label-container\"><div class=\"sk-label sk-toggleable\"><input class=\"sk-toggleable__control sk-hidden--visually\" id=\"sk-estimator-id-2\" type=\"checkbox\" ><label for=\"sk-estimator-id-2\" class=\"sk-toggleable__label sk-toggleable__label-arrow\">preprocessor: Pipeline</label><div class=\"sk-toggleable__content\"><pre>Pipeline(steps=[(&#x27;column&#x27;,\n",
       "                 ColumnTransformer(transformers=[(&#x27;num&#x27;,\n",
       "                                                  Pipeline(steps=[(&#x27;imputer&#x27;,\n",
       "                                                                   SimpleImputer(strategy=&#x27;median&#x27;)),\n",
       "                                                                  (&#x27;outlier&#x27;,\n",
       "                                                                   FunctionTransformer(func=&lt;function remove_outlier at 0x0000027C556614C0&gt;,\n",
       "                                                                                       kw_args={&#x27;q&#x27;: 0.05})),\n",
       "                                                                  (&#x27;scaler&#x27;,\n",
       "                                                                   PowerTransformer())]),\n",
       "                                                  [&#x27;대학성적&#x27;]),\n",
       "                                                 (&#x27;cat&#x27;,\n",
       "                                                  Pipeline(steps=[(&#x27;imputer&#x27;,\n",
       "                                                                   SimpleImputer(strategy=&#x27;most_frequent&#x27;)),\n",
       "                                                                  (&#x27;encoder&#x27;,\n",
       "                                                                   OneHotEncoder(handle_unknown=&#x27;ignore&#x27;))]),\n",
       "                                                  [&#x27;직종&#x27;, &#x27;세부직종&#x27;, &#x27;직무태그&#x27;, &#x27;근무경력&#x27;,\n",
       "                                                   &#x27;근무형태&#x27;, &#x27;근무지역&#x27;, &#x27;출신대학&#x27;,\n",
       "                                                   &#x27;대학전공&#x27;, &#x27;어학시험&#x27;, &#x27;자격증&#x27;])])),\n",
       "                (&#x27;selector&#x27;, SelectPercentile(percentile=100))])</pre></div></div></div><div class=\"sk-serial\"><div class=\"sk-item sk-dashed-wrapped\"><div class=\"sk-label-container\"><div class=\"sk-label sk-toggleable\"><input class=\"sk-toggleable__control sk-hidden--visually\" id=\"sk-estimator-id-3\" type=\"checkbox\" ><label for=\"sk-estimator-id-3\" class=\"sk-toggleable__label sk-toggleable__label-arrow\">column: ColumnTransformer</label><div class=\"sk-toggleable__content\"><pre>ColumnTransformer(transformers=[(&#x27;num&#x27;,\n",
       "                                 Pipeline(steps=[(&#x27;imputer&#x27;,\n",
       "                                                  SimpleImputer(strategy=&#x27;median&#x27;)),\n",
       "                                                 (&#x27;outlier&#x27;,\n",
       "                                                  FunctionTransformer(func=&lt;function remove_outlier at 0x0000027C556614C0&gt;,\n",
       "                                                                      kw_args={&#x27;q&#x27;: 0.05})),\n",
       "                                                 (&#x27;scaler&#x27;,\n",
       "                                                  PowerTransformer())]),\n",
       "                                 [&#x27;대학성적&#x27;]),\n",
       "                                (&#x27;cat&#x27;,\n",
       "                                 Pipeline(steps=[(&#x27;imputer&#x27;,\n",
       "                                                  SimpleImputer(strategy=&#x27;most_frequent&#x27;)),\n",
       "                                                 (&#x27;encoder&#x27;,\n",
       "                                                  OneHotEncoder(handle_unknown=&#x27;ignore&#x27;))]),\n",
       "                                 [&#x27;직종&#x27;, &#x27;세부직종&#x27;, &#x27;직무태그&#x27;, &#x27;근무경력&#x27;, &#x27;근무형태&#x27;, &#x27;근무지역&#x27;,\n",
       "                                  &#x27;출신대학&#x27;, &#x27;대학전공&#x27;, &#x27;어학시험&#x27;, &#x27;자격증&#x27;])])</pre></div></div></div><div class=\"sk-parallel\"><div class=\"sk-parallel-item\"><div class=\"sk-item\"><div class=\"sk-label-container\"><div class=\"sk-label sk-toggleable\"><input class=\"sk-toggleable__control sk-hidden--visually\" id=\"sk-estimator-id-4\" type=\"checkbox\" ><label for=\"sk-estimator-id-4\" class=\"sk-toggleable__label sk-toggleable__label-arrow\">num</label><div class=\"sk-toggleable__content\"><pre>[&#x27;대학성적&#x27;]</pre></div></div></div><div class=\"sk-serial\"><div class=\"sk-item\"><div class=\"sk-serial\"><div class=\"sk-item\"><div class=\"sk-estimator sk-toggleable\"><input class=\"sk-toggleable__control sk-hidden--visually\" id=\"sk-estimator-id-5\" type=\"checkbox\" ><label for=\"sk-estimator-id-5\" class=\"sk-toggleable__label sk-toggleable__label-arrow\">SimpleImputer</label><div class=\"sk-toggleable__content\"><pre>SimpleImputer(strategy=&#x27;median&#x27;)</pre></div></div></div><div class=\"sk-item\"><div class=\"sk-estimator sk-toggleable\"><input class=\"sk-toggleable__control sk-hidden--visually\" id=\"sk-estimator-id-6\" type=\"checkbox\" ><label for=\"sk-estimator-id-6\" class=\"sk-toggleable__label sk-toggleable__label-arrow\">FunctionTransformer</label><div class=\"sk-toggleable__content\"><pre>FunctionTransformer(func=&lt;function remove_outlier at 0x0000027C556614C0&gt;,\n",
       "                    kw_args={&#x27;q&#x27;: 0.05})</pre></div></div></div><div class=\"sk-item\"><div class=\"sk-estimator sk-toggleable\"><input class=\"sk-toggleable__control sk-hidden--visually\" id=\"sk-estimator-id-7\" type=\"checkbox\" ><label for=\"sk-estimator-id-7\" class=\"sk-toggleable__label sk-toggleable__label-arrow\">PowerTransformer</label><div class=\"sk-toggleable__content\"><pre>PowerTransformer()</pre></div></div></div></div></div></div></div></div><div class=\"sk-parallel-item\"><div class=\"sk-item\"><div class=\"sk-label-container\"><div class=\"sk-label sk-toggleable\"><input class=\"sk-toggleable__control sk-hidden--visually\" id=\"sk-estimator-id-8\" type=\"checkbox\" ><label for=\"sk-estimator-id-8\" class=\"sk-toggleable__label sk-toggleable__label-arrow\">cat</label><div class=\"sk-toggleable__content\"><pre>[&#x27;직종&#x27;, &#x27;세부직종&#x27;, &#x27;직무태그&#x27;, &#x27;근무경력&#x27;, &#x27;근무형태&#x27;, &#x27;근무지역&#x27;, &#x27;출신대학&#x27;, &#x27;대학전공&#x27;, &#x27;어학시험&#x27;, &#x27;자격증&#x27;]</pre></div></div></div><div class=\"sk-serial\"><div class=\"sk-item\"><div class=\"sk-serial\"><div class=\"sk-item\"><div class=\"sk-estimator sk-toggleable\"><input class=\"sk-toggleable__control sk-hidden--visually\" id=\"sk-estimator-id-9\" type=\"checkbox\" ><label for=\"sk-estimator-id-9\" class=\"sk-toggleable__label sk-toggleable__label-arrow\">SimpleImputer</label><div class=\"sk-toggleable__content\"><pre>SimpleImputer(strategy=&#x27;most_frequent&#x27;)</pre></div></div></div><div class=\"sk-item\"><div class=\"sk-estimator sk-toggleable\"><input class=\"sk-toggleable__control sk-hidden--visually\" id=\"sk-estimator-id-10\" type=\"checkbox\" ><label for=\"sk-estimator-id-10\" class=\"sk-toggleable__label sk-toggleable__label-arrow\">OneHotEncoder</label><div class=\"sk-toggleable__content\"><pre>OneHotEncoder(handle_unknown=&#x27;ignore&#x27;)</pre></div></div></div></div></div></div></div></div></div></div><div class=\"sk-item\"><div class=\"sk-estimator sk-toggleable\"><input class=\"sk-toggleable__control sk-hidden--visually\" id=\"sk-estimator-id-11\" type=\"checkbox\" ><label for=\"sk-estimator-id-11\" class=\"sk-toggleable__label sk-toggleable__label-arrow\">SelectPercentile</label><div class=\"sk-toggleable__content\"><pre>SelectPercentile(percentile=100)</pre></div></div></div></div></div><div class=\"sk-item\"><div class=\"sk-estimator sk-toggleable\"><input class=\"sk-toggleable__control sk-hidden--visually\" id=\"sk-estimator-id-12\" type=\"checkbox\" ><label for=\"sk-estimator-id-12\" class=\"sk-toggleable__label sk-toggleable__label-arrow\">Ridge</label><div class=\"sk-toggleable__content\"><pre>Ridge()</pre></div></div></div></div></div></div></div>"
      ],
      "text/plain": [
       "Pipeline(steps=[('preprocessor',\n",
       "                 Pipeline(steps=[('column',\n",
       "                                  ColumnTransformer(transformers=[('num',\n",
       "                                                                   Pipeline(steps=[('imputer',\n",
       "                                                                                    SimpleImputer(strategy='median')),\n",
       "                                                                                   ('outlier',\n",
       "                                                                                    FunctionTransformer(func=<function remove_outlier at 0x0000027C556614C0>,\n",
       "                                                                                                        kw_args={'q': 0.05})),\n",
       "                                                                                   ('scaler',\n",
       "                                                                                    PowerTransformer())]),\n",
       "                                                                   ['대학성적']),\n",
       "                                                                  ('cat',\n",
       "                                                                   Pipeline(steps=[('imputer',\n",
       "                                                                                    SimpleImputer(strategy='most_frequent')),\n",
       "                                                                                   ('encoder',\n",
       "                                                                                    OneHotEncoder(handle_unknown='ignore'))]),\n",
       "                                                                   ['직종',\n",
       "                                                                    '세부직종',\n",
       "                                                                    '직무태그',\n",
       "                                                                    '근무경력',\n",
       "                                                                    '근무형태',\n",
       "                                                                    '근무지역',\n",
       "                                                                    '출신대학',\n",
       "                                                                    '대학전공',\n",
       "                                                                    '어학시험',\n",
       "                                                                    '자격증'])])),\n",
       "                                 ('selector',\n",
       "                                  SelectPercentile(percentile=100))])),\n",
       "                ('classifier', Ridge())])"
      ]
     },
     "execution_count": 9,
     "metadata": {},
     "output_type": "execute_result"
    }
   ],
   "source": [
    "def remove_outlier(X, q=0.05):  \n",
    "    df = pd.DataFrame(X)\n",
    "    return df.apply(lambda x: x.clip(x.quantile(q), x.quantile(1-q)), axis=0).values\n",
    "\n",
    "numeric_transformer = Pipeline(\n",
    "    steps=[\n",
    "        (\"imputer\", SimpleImputer(strategy=\"median\")),\n",
    "        (\"outlier\", FunctionTransformer(remove_outlier, kw_args={'q':0.05})), #kw_args : 어디까지 잘리는 거냐구\n",
    "        (\"scaler\", PowerTransformer()),\n",
    "    ]\n",
    ")\n",
    "\n",
    "categorical_transformer = Pipeline(\n",
    "    steps=[\n",
    "        (\"imputer\", SimpleImputer(strategy=\"most_frequent\")), \n",
    "        (\"encoder\", OneHotEncoder(handle_unknown=\"ignore\", sparse=True)),\n",
    "    ]\n",
    ")\n",
    "\n",
    "column_transformer = ColumnTransformer(\n",
    "    transformers=[\n",
    "        (\"num\", numeric_transformer, numeric_features),\n",
    "        (\"cat\", categorical_transformer, categorical_features),\n",
    "    ]\n",
    ")\n",
    "\n",
    "preprocessor = Pipeline(\n",
    "    steps=[\n",
    "        (\"column\", column_transformer), \n",
    "        (\"selector\", SelectPercentile(percentile=100)),\n",
    "    ]\n",
    ")\n",
    "\n",
    "model = Pipeline(\n",
    "    steps=[\n",
    "        (\"preprocessor\", preprocessor), \n",
    "        (\"classifier\", Ridge(alpha=1.0)), #alpha값 작아질수록 과적합 가능성 높아짐\n",
    "    ]\n",
    ")\n",
    "\n",
    "set_config(display=\"diagram\")  # To view the text pipeline, change to display='text'.\n",
    "model"
   ]
  },
  {
   "cell_type": "markdown",
   "metadata": {},
   "source": [
    "#### LM Baseline 성능 확인"
   ]
  },
  {
   "cell_type": "code",
   "execution_count": 10,
   "metadata": {},
   "outputs": [
    {
     "name": "stdout",
     "output_type": "stream",
     "text": [
      "Default LM CV scores:  [ 839.69400327  808.78072379  905.51525037  945.11111326 1101.33295126]\n",
      "Default LM CV mean = 925.78 with std = 443.60\n"
     ]
    }
   ],
   "source": [
    "scores = cross_val_score(model, X_train, y_train, scoring='neg_mean_squared_error', cv=5)\n",
    "# cross_val_score는 무조건 값이 크면 클수록 좋다고 판단.\n",
    "# 때문에 neg_mse를 사용하여 mse 앞에 -를 붙여서 절댓값이 작은 수가 출력되도록!\n",
    "\n",
    "print(\"Default LM CV scores: \", np.sqrt(-1*scores))\n",
    "print(\"Default LM CV mean = %.2f\" % np.sqrt(-1*scores.mean()), \"with std = %.2f\" % np.sqrt(scores.std()))\n",
    "\n",
    "# 평가지표 RMSE"
   ]
  },
  {
   "cell_type": "markdown",
   "metadata": {},
   "source": [
    "#### `파이프라인+Optuna`를 통한 LM 하이퍼파라미터 최적화"
   ]
  },
  {
   "cell_type": "code",
   "execution_count": 11,
   "metadata": {},
   "outputs": [
    {
     "name": "stdout",
     "output_type": "stream",
     "text": [
      "Wall time: 19.5 s\n"
     ]
    },
    {
     "data": {
      "text/html": [
       "<style>#sk-container-id-2 {color: black;background-color: white;}#sk-container-id-2 pre{padding: 0;}#sk-container-id-2 div.sk-toggleable {background-color: white;}#sk-container-id-2 label.sk-toggleable__label {cursor: pointer;display: block;width: 100%;margin-bottom: 0;padding: 0.3em;box-sizing: border-box;text-align: center;}#sk-container-id-2 label.sk-toggleable__label-arrow:before {content: \"▸\";float: left;margin-right: 0.25em;color: #696969;}#sk-container-id-2 label.sk-toggleable__label-arrow:hover:before {color: black;}#sk-container-id-2 div.sk-estimator:hover label.sk-toggleable__label-arrow:before {color: black;}#sk-container-id-2 div.sk-toggleable__content {max-height: 0;max-width: 0;overflow: hidden;text-align: left;background-color: #f0f8ff;}#sk-container-id-2 div.sk-toggleable__content pre {margin: 0.2em;color: black;border-radius: 0.25em;background-color: #f0f8ff;}#sk-container-id-2 input.sk-toggleable__control:checked~div.sk-toggleable__content {max-height: 200px;max-width: 100%;overflow: auto;}#sk-container-id-2 input.sk-toggleable__control:checked~label.sk-toggleable__label-arrow:before {content: \"▾\";}#sk-container-id-2 div.sk-estimator input.sk-toggleable__control:checked~label.sk-toggleable__label {background-color: #d4ebff;}#sk-container-id-2 div.sk-label input.sk-toggleable__control:checked~label.sk-toggleable__label {background-color: #d4ebff;}#sk-container-id-2 input.sk-hidden--visually {border: 0;clip: rect(1px 1px 1px 1px);clip: rect(1px, 1px, 1px, 1px);height: 1px;margin: -1px;overflow: hidden;padding: 0;position: absolute;width: 1px;}#sk-container-id-2 div.sk-estimator {font-family: monospace;background-color: #f0f8ff;border: 1px dotted black;border-radius: 0.25em;box-sizing: border-box;margin-bottom: 0.5em;}#sk-container-id-2 div.sk-estimator:hover {background-color: #d4ebff;}#sk-container-id-2 div.sk-parallel-item::after {content: \"\";width: 100%;border-bottom: 1px solid gray;flex-grow: 1;}#sk-container-id-2 div.sk-label:hover label.sk-toggleable__label {background-color: #d4ebff;}#sk-container-id-2 div.sk-serial::before {content: \"\";position: absolute;border-left: 1px solid gray;box-sizing: border-box;top: 0;bottom: 0;left: 50%;z-index: 0;}#sk-container-id-2 div.sk-serial {display: flex;flex-direction: column;align-items: center;background-color: white;padding-right: 0.2em;padding-left: 0.2em;position: relative;}#sk-container-id-2 div.sk-item {position: relative;z-index: 1;}#sk-container-id-2 div.sk-parallel {display: flex;align-items: stretch;justify-content: center;background-color: white;position: relative;}#sk-container-id-2 div.sk-item::before, #sk-container-id-2 div.sk-parallel-item::before {content: \"\";position: absolute;border-left: 1px solid gray;box-sizing: border-box;top: 0;bottom: 0;left: 50%;z-index: -1;}#sk-container-id-2 div.sk-parallel-item {display: flex;flex-direction: column;z-index: 1;position: relative;background-color: white;}#sk-container-id-2 div.sk-parallel-item:first-child::after {align-self: flex-end;width: 50%;}#sk-container-id-2 div.sk-parallel-item:last-child::after {align-self: flex-start;width: 50%;}#sk-container-id-2 div.sk-parallel-item:only-child::after {width: 0;}#sk-container-id-2 div.sk-dashed-wrapped {border: 1px dashed gray;margin: 0 0.4em 0.5em 0.4em;box-sizing: border-box;padding-bottom: 0.4em;background-color: white;}#sk-container-id-2 div.sk-label label {font-family: monospace;font-weight: bold;display: inline-block;line-height: 1.2em;}#sk-container-id-2 div.sk-label-container {text-align: center;}#sk-container-id-2 div.sk-container {/* jupyter's `normalize.less` sets `[hidden] { display: none; }` but bootstrap.min.css set `[hidden] { display: none !important; }` so we also need the `!important` here to be able to override the default hidden behavior on the sphinx rendered scikit-learn.org. See: https://github.com/scikit-learn/scikit-learn/issues/21755 */display: inline-block !important;position: relative;}#sk-container-id-2 div.sk-text-repr-fallback {display: none;}</style><div id=\"sk-container-id-2\" class=\"sk-top-container\"><div class=\"sk-text-repr-fallback\"><pre>OptunaSearchCV(estimator=Pipeline(steps=[(&#x27;preprocessor&#x27;,\n",
       "                                          Pipeline(steps=[(&#x27;column&#x27;,\n",
       "                                                           ColumnTransformer(transformers=[(&#x27;num&#x27;,\n",
       "                                                                                            Pipeline(steps=[(&#x27;imputer&#x27;,\n",
       "                                                                                                             SimpleImputer(strategy=&#x27;median&#x27;)),\n",
       "                                                                                                            (&#x27;outlier&#x27;,\n",
       "                                                                                                             FunctionTransformer(func=&lt;function remove_outlier at 0x0000027C556614C0&gt;,\n",
       "                                                                                                                                 kw_args={&#x27;q&#x27;: 0.05})),\n",
       "                                                                                                            (&#x27;scaler&#x27;,\n",
       "                                                                                                             PowerTransformer())]),\n",
       "                                                                                            [&#x27;대학성적&#x27;]),\n",
       "                                                                                           (&#x27;cat&#x27;,\n",
       "                                                                                            Pipeline(steps=[...\n",
       "                                    &#x27;preprocessor__column__num__imputer__strategy&#x27;: CategoricalDistribution(choices=(&#x27;mean&#x27;, &#x27;median&#x27;)),\n",
       "                                    &#x27;preprocessor__column__num__outlier__kw_args&#x27;: CategoricalDistribution(choices=({&#x27;q&#x27;: 0.01}, {&#x27;q&#x27;: 0.05}, {&#x27;q&#x27;: 0.1})),\n",
       "                                    &#x27;preprocessor__selector__percentile&#x27;: IntDistribution(high=100, log=False, low=50, step=10)},\n",
       "               scoring=&#x27;neg_mean_squared_error&#x27;,\n",
       "               study=&lt;optuna.study.study.Study object at 0x0000027C560AA520&gt;)</pre><b>In a Jupyter environment, please rerun this cell to show the HTML representation or trust the notebook. <br />On GitHub, the HTML representation is unable to render, please try loading this page with nbviewer.org.</b></div><div class=\"sk-container\" hidden><div class=\"sk-item sk-dashed-wrapped\"><div class=\"sk-label-container\"><div class=\"sk-label sk-toggleable\"><input class=\"sk-toggleable__control sk-hidden--visually\" id=\"sk-estimator-id-13\" type=\"checkbox\" ><label for=\"sk-estimator-id-13\" class=\"sk-toggleable__label sk-toggleable__label-arrow\">OptunaSearchCV</label><div class=\"sk-toggleable__content\"><pre>OptunaSearchCV(estimator=Pipeline(steps=[(&#x27;preprocessor&#x27;,\n",
       "                                          Pipeline(steps=[(&#x27;column&#x27;,\n",
       "                                                           ColumnTransformer(transformers=[(&#x27;num&#x27;,\n",
       "                                                                                            Pipeline(steps=[(&#x27;imputer&#x27;,\n",
       "                                                                                                             SimpleImputer(strategy=&#x27;median&#x27;)),\n",
       "                                                                                                            (&#x27;outlier&#x27;,\n",
       "                                                                                                             FunctionTransformer(func=&lt;function remove_outlier at 0x0000027C556614C0&gt;,\n",
       "                                                                                                                                 kw_args={&#x27;q&#x27;: 0.05})),\n",
       "                                                                                                            (&#x27;scaler&#x27;,\n",
       "                                                                                                             PowerTransformer())]),\n",
       "                                                                                            [&#x27;대학성적&#x27;]),\n",
       "                                                                                           (&#x27;cat&#x27;,\n",
       "                                                                                            Pipeline(steps=[...\n",
       "                                    &#x27;preprocessor__column__num__imputer__strategy&#x27;: CategoricalDistribution(choices=(&#x27;mean&#x27;, &#x27;median&#x27;)),\n",
       "                                    &#x27;preprocessor__column__num__outlier__kw_args&#x27;: CategoricalDistribution(choices=({&#x27;q&#x27;: 0.01}, {&#x27;q&#x27;: 0.05}, {&#x27;q&#x27;: 0.1})),\n",
       "                                    &#x27;preprocessor__selector__percentile&#x27;: IntDistribution(high=100, log=False, low=50, step=10)},\n",
       "               scoring=&#x27;neg_mean_squared_error&#x27;,\n",
       "               study=&lt;optuna.study.study.Study object at 0x0000027C560AA520&gt;)</pre></div></div></div><div class=\"sk-parallel\"><div class=\"sk-parallel-item\"><div class=\"sk-item\"><div class=\"sk-label-container\"><div class=\"sk-label sk-toggleable\"><input class=\"sk-toggleable__control sk-hidden--visually\" id=\"sk-estimator-id-14\" type=\"checkbox\" ><label for=\"sk-estimator-id-14\" class=\"sk-toggleable__label sk-toggleable__label-arrow\">estimator: Pipeline</label><div class=\"sk-toggleable__content\"><pre>Pipeline(steps=[(&#x27;preprocessor&#x27;,\n",
       "                 Pipeline(steps=[(&#x27;column&#x27;,\n",
       "                                  ColumnTransformer(transformers=[(&#x27;num&#x27;,\n",
       "                                                                   Pipeline(steps=[(&#x27;imputer&#x27;,\n",
       "                                                                                    SimpleImputer(strategy=&#x27;median&#x27;)),\n",
       "                                                                                   (&#x27;outlier&#x27;,\n",
       "                                                                                    FunctionTransformer(func=&lt;function remove_outlier at 0x0000027C556614C0&gt;,\n",
       "                                                                                                        kw_args={&#x27;q&#x27;: 0.05})),\n",
       "                                                                                   (&#x27;scaler&#x27;,\n",
       "                                                                                    PowerTransformer())]),\n",
       "                                                                   [&#x27;대학성적&#x27;]),\n",
       "                                                                  (&#x27;cat&#x27;,\n",
       "                                                                   Pipeline(steps=[(&#x27;imputer&#x27;,\n",
       "                                                                                    SimpleImputer(strategy=&#x27;most_frequent&#x27;)),\n",
       "                                                                                   (&#x27;encoder&#x27;,\n",
       "                                                                                    OneHotEncoder(handle_unknown=&#x27;ignore&#x27;))]),\n",
       "                                                                   [&#x27;직종&#x27;,\n",
       "                                                                    &#x27;세부직종&#x27;,\n",
       "                                                                    &#x27;직무태그&#x27;,\n",
       "                                                                    &#x27;근무경력&#x27;,\n",
       "                                                                    &#x27;근무형태&#x27;,\n",
       "                                                                    &#x27;근무지역&#x27;,\n",
       "                                                                    &#x27;출신대학&#x27;,\n",
       "                                                                    &#x27;대학전공&#x27;,\n",
       "                                                                    &#x27;어학시험&#x27;,\n",
       "                                                                    &#x27;자격증&#x27;])])),\n",
       "                                 (&#x27;selector&#x27;,\n",
       "                                  SelectPercentile(percentile=100))])),\n",
       "                (&#x27;classifier&#x27;, Ridge())])</pre></div></div></div><div class=\"sk-serial\"><div class=\"sk-item\"><div class=\"sk-serial\"><div class=\"sk-item\"><div class=\"sk-label-container\"><div class=\"sk-label sk-toggleable\"><input class=\"sk-toggleable__control sk-hidden--visually\" id=\"sk-estimator-id-15\" type=\"checkbox\" ><label for=\"sk-estimator-id-15\" class=\"sk-toggleable__label sk-toggleable__label-arrow\">preprocessor: Pipeline</label><div class=\"sk-toggleable__content\"><pre>Pipeline(steps=[(&#x27;column&#x27;,\n",
       "                 ColumnTransformer(transformers=[(&#x27;num&#x27;,\n",
       "                                                  Pipeline(steps=[(&#x27;imputer&#x27;,\n",
       "                                                                   SimpleImputer(strategy=&#x27;median&#x27;)),\n",
       "                                                                  (&#x27;outlier&#x27;,\n",
       "                                                                   FunctionTransformer(func=&lt;function remove_outlier at 0x0000027C556614C0&gt;,\n",
       "                                                                                       kw_args={&#x27;q&#x27;: 0.05})),\n",
       "                                                                  (&#x27;scaler&#x27;,\n",
       "                                                                   PowerTransformer())]),\n",
       "                                                  [&#x27;대학성적&#x27;]),\n",
       "                                                 (&#x27;cat&#x27;,\n",
       "                                                  Pipeline(steps=[(&#x27;imputer&#x27;,\n",
       "                                                                   SimpleImputer(strategy=&#x27;most_frequent&#x27;)),\n",
       "                                                                  (&#x27;encoder&#x27;,\n",
       "                                                                   OneHotEncoder(handle_unknown=&#x27;ignore&#x27;))]),\n",
       "                                                  [&#x27;직종&#x27;, &#x27;세부직종&#x27;, &#x27;직무태그&#x27;, &#x27;근무경력&#x27;,\n",
       "                                                   &#x27;근무형태&#x27;, &#x27;근무지역&#x27;, &#x27;출신대학&#x27;,\n",
       "                                                   &#x27;대학전공&#x27;, &#x27;어학시험&#x27;, &#x27;자격증&#x27;])])),\n",
       "                (&#x27;selector&#x27;, SelectPercentile(percentile=100))])</pre></div></div></div><div class=\"sk-serial\"><div class=\"sk-item sk-dashed-wrapped\"><div class=\"sk-label-container\"><div class=\"sk-label sk-toggleable\"><input class=\"sk-toggleable__control sk-hidden--visually\" id=\"sk-estimator-id-16\" type=\"checkbox\" ><label for=\"sk-estimator-id-16\" class=\"sk-toggleable__label sk-toggleable__label-arrow\">column: ColumnTransformer</label><div class=\"sk-toggleable__content\"><pre>ColumnTransformer(transformers=[(&#x27;num&#x27;,\n",
       "                                 Pipeline(steps=[(&#x27;imputer&#x27;,\n",
       "                                                  SimpleImputer(strategy=&#x27;median&#x27;)),\n",
       "                                                 (&#x27;outlier&#x27;,\n",
       "                                                  FunctionTransformer(func=&lt;function remove_outlier at 0x0000027C556614C0&gt;,\n",
       "                                                                      kw_args={&#x27;q&#x27;: 0.05})),\n",
       "                                                 (&#x27;scaler&#x27;,\n",
       "                                                  PowerTransformer())]),\n",
       "                                 [&#x27;대학성적&#x27;]),\n",
       "                                (&#x27;cat&#x27;,\n",
       "                                 Pipeline(steps=[(&#x27;imputer&#x27;,\n",
       "                                                  SimpleImputer(strategy=&#x27;most_frequent&#x27;)),\n",
       "                                                 (&#x27;encoder&#x27;,\n",
       "                                                  OneHotEncoder(handle_unknown=&#x27;ignore&#x27;))]),\n",
       "                                 [&#x27;직종&#x27;, &#x27;세부직종&#x27;, &#x27;직무태그&#x27;, &#x27;근무경력&#x27;, &#x27;근무형태&#x27;, &#x27;근무지역&#x27;,\n",
       "                                  &#x27;출신대학&#x27;, &#x27;대학전공&#x27;, &#x27;어학시험&#x27;, &#x27;자격증&#x27;])])</pre></div></div></div><div class=\"sk-parallel\"><div class=\"sk-parallel-item\"><div class=\"sk-item\"><div class=\"sk-label-container\"><div class=\"sk-label sk-toggleable\"><input class=\"sk-toggleable__control sk-hidden--visually\" id=\"sk-estimator-id-17\" type=\"checkbox\" ><label for=\"sk-estimator-id-17\" class=\"sk-toggleable__label sk-toggleable__label-arrow\">num</label><div class=\"sk-toggleable__content\"><pre>[&#x27;대학성적&#x27;]</pre></div></div></div><div class=\"sk-serial\"><div class=\"sk-item\"><div class=\"sk-serial\"><div class=\"sk-item\"><div class=\"sk-estimator sk-toggleable\"><input class=\"sk-toggleable__control sk-hidden--visually\" id=\"sk-estimator-id-18\" type=\"checkbox\" ><label for=\"sk-estimator-id-18\" class=\"sk-toggleable__label sk-toggleable__label-arrow\">SimpleImputer</label><div class=\"sk-toggleable__content\"><pre>SimpleImputer(strategy=&#x27;median&#x27;)</pre></div></div></div><div class=\"sk-item\"><div class=\"sk-estimator sk-toggleable\"><input class=\"sk-toggleable__control sk-hidden--visually\" id=\"sk-estimator-id-19\" type=\"checkbox\" ><label for=\"sk-estimator-id-19\" class=\"sk-toggleable__label sk-toggleable__label-arrow\">FunctionTransformer</label><div class=\"sk-toggleable__content\"><pre>FunctionTransformer(func=&lt;function remove_outlier at 0x0000027C556614C0&gt;,\n",
       "                    kw_args={&#x27;q&#x27;: 0.05})</pre></div></div></div><div class=\"sk-item\"><div class=\"sk-estimator sk-toggleable\"><input class=\"sk-toggleable__control sk-hidden--visually\" id=\"sk-estimator-id-20\" type=\"checkbox\" ><label for=\"sk-estimator-id-20\" class=\"sk-toggleable__label sk-toggleable__label-arrow\">PowerTransformer</label><div class=\"sk-toggleable__content\"><pre>PowerTransformer()</pre></div></div></div></div></div></div></div></div><div class=\"sk-parallel-item\"><div class=\"sk-item\"><div class=\"sk-label-container\"><div class=\"sk-label sk-toggleable\"><input class=\"sk-toggleable__control sk-hidden--visually\" id=\"sk-estimator-id-21\" type=\"checkbox\" ><label for=\"sk-estimator-id-21\" class=\"sk-toggleable__label sk-toggleable__label-arrow\">cat</label><div class=\"sk-toggleable__content\"><pre>[&#x27;직종&#x27;, &#x27;세부직종&#x27;, &#x27;직무태그&#x27;, &#x27;근무경력&#x27;, &#x27;근무형태&#x27;, &#x27;근무지역&#x27;, &#x27;출신대학&#x27;, &#x27;대학전공&#x27;, &#x27;어학시험&#x27;, &#x27;자격증&#x27;]</pre></div></div></div><div class=\"sk-serial\"><div class=\"sk-item\"><div class=\"sk-serial\"><div class=\"sk-item\"><div class=\"sk-estimator sk-toggleable\"><input class=\"sk-toggleable__control sk-hidden--visually\" id=\"sk-estimator-id-22\" type=\"checkbox\" ><label for=\"sk-estimator-id-22\" class=\"sk-toggleable__label sk-toggleable__label-arrow\">SimpleImputer</label><div class=\"sk-toggleable__content\"><pre>SimpleImputer(strategy=&#x27;most_frequent&#x27;)</pre></div></div></div><div class=\"sk-item\"><div class=\"sk-estimator sk-toggleable\"><input class=\"sk-toggleable__control sk-hidden--visually\" id=\"sk-estimator-id-23\" type=\"checkbox\" ><label for=\"sk-estimator-id-23\" class=\"sk-toggleable__label sk-toggleable__label-arrow\">OneHotEncoder</label><div class=\"sk-toggleable__content\"><pre>OneHotEncoder(handle_unknown=&#x27;ignore&#x27;)</pre></div></div></div></div></div></div></div></div></div></div><div class=\"sk-item\"><div class=\"sk-estimator sk-toggleable\"><input class=\"sk-toggleable__control sk-hidden--visually\" id=\"sk-estimator-id-24\" type=\"checkbox\" ><label for=\"sk-estimator-id-24\" class=\"sk-toggleable__label sk-toggleable__label-arrow\">SelectPercentile</label><div class=\"sk-toggleable__content\"><pre>SelectPercentile(percentile=100)</pre></div></div></div></div></div><div class=\"sk-item\"><div class=\"sk-estimator sk-toggleable\"><input class=\"sk-toggleable__control sk-hidden--visually\" id=\"sk-estimator-id-25\" type=\"checkbox\" ><label for=\"sk-estimator-id-25\" class=\"sk-toggleable__label sk-toggleable__label-arrow\">Ridge</label><div class=\"sk-toggleable__content\"><pre>Ridge()</pre></div></div></div></div></div></div></div></div></div></div></div></div>"
      ],
      "text/plain": [
       "OptunaSearchCV(estimator=Pipeline(steps=[('preprocessor',\n",
       "                                          Pipeline(steps=[('column',\n",
       "                                                           ColumnTransformer(transformers=[('num',\n",
       "                                                                                            Pipeline(steps=[('imputer',\n",
       "                                                                                                             SimpleImputer(strategy='median')),\n",
       "                                                                                                            ('outlier',\n",
       "                                                                                                             FunctionTransformer(func=<function remove_outlier at 0x0000027C556614C0>,\n",
       "                                                                                                                                 kw_args={'q': 0.05})),\n",
       "                                                                                                            ('scaler',\n",
       "                                                                                                             PowerTransformer())]),\n",
       "                                                                                            ['대학성적']),\n",
       "                                                                                           ('cat',\n",
       "                                                                                            Pipeline(steps=[...\n",
       "                                    'preprocessor__column__num__imputer__strategy': CategoricalDistribution(choices=('mean', 'median')),\n",
       "                                    'preprocessor__column__num__outlier__kw_args': CategoricalDistribution(choices=({'q': 0.01}, {'q': 0.05}, {'q': 0.1})),\n",
       "                                    'preprocessor__selector__percentile': IntDistribution(high=100, log=False, low=50, step=10)},\n",
       "               scoring='neg_mean_squared_error',\n",
       "               study=<optuna.study.study.Study object at 0x0000027C560AA520>)"
      ]
     },
     "execution_count": 11,
     "metadata": {},
     "output_type": "execute_result"
    }
   ],
   "source": [
    "%%time\n",
    "\n",
    "param_distributions = {\n",
    "    \"preprocessor__column__num__imputer__strategy\": CategoricalDistribution([\"mean\",\"median\"]),\n",
    "    \"preprocessor__column__num__outlier__kw_args\": CategoricalDistribution([{'q':0.01},{'q':0.05},{'q':0.1}]),  \n",
    "    \"preprocessor__selector__percentile\": IntDistribution(50,100,step=10), \n",
    "    \"classifier__alpha\": IntDistribution(1,10),\n",
    "}\n",
    "\n",
    "optuna.logging.set_verbosity(optuna.logging.WARNING)\n",
    "optuna_search = OptunaSearchCV(model, param_distributions, cv=5, \n",
    "                               scoring='neg_mean_squared_error', n_trials=20,\n",
    "                               study=optuna.create_study(sampler=optuna.samplers.TPESampler(seed=100), direction='maximize'))\n",
    "optuna_search.fit(X_train, y_train)"
   ]
  },
  {
   "cell_type": "code",
   "execution_count": 12,
   "metadata": {},
   "outputs": [
    {
     "name": "stdout",
     "output_type": "stream",
     "text": [
      "\n",
      "Best params: {'preprocessor__column__num__imputer__strategy': 'median', 'preprocessor__column__num__outlier__kw_args': {'q': 0.01}, 'preprocessor__selector__percentile': 90, 'classifier__alpha': 4}\n",
      "\n",
      "Best score: 915.65\n"
     ]
    }
   ],
   "source": [
    "print(f\"\\nBest params: {optuna_search.best_params_}\")\n",
    "print(f\"\\nBest score: {np.sqrt(-1*optuna_search.best_score_):.2f}\")\n",
    "\n",
    "#alpha가 4일 때 잘 나왔다 = 과적합이 심하다는 뜻\n",
    "#tuning 해보니 최적 파라미터가 바뀜"
   ]
  },
  {
   "cell_type": "markdown",
   "metadata": {},
   "source": [
    "#### Submission 생성"
   ]
  },
  {
   "cell_type": "code",
   "execution_count": 12,
   "metadata": {},
   "outputs": [
    {
     "name": "stdout",
     "output_type": "stream",
     "text": [
      "\n",
      "Tuned LM CV scores:  [ 819.94352263  792.65472856  890.39485316  942.44087148 1100.22612704]\n",
      "Tuned LM CV mean = 915.65 with std = 455.24\n"
     ]
    }
   ],
   "source": [
    "# 최적화된 하이퍼파라미터로 파이프라인 재설정\n",
    "model.set_params(**optuna_search.best_params_)\n",
    "\n",
    "# cross validation을 돌려서 5번 돌리기 => 5개의 모델이 생기는 셈 (파라미터는 똑같은데 학습 데이터가 바뀜)\n",
    "# 5개의 평가치를 모두 1/5로 평균 낸다\n",
    " \n",
    "# OOF Prediction (kaggle에서 많이 쓰는 방식!)\n",
    "models = cross_validate(model, \n",
    "                        X_train, y_train, \n",
    "                        cv=5, \n",
    "                        scoring='neg_mean_squared_error', \n",
    "                        return_estimator=True)\n",
    "oof_pred = np.array([m.predict(X_test) for m in models['estimator']]).mean(axis=0)\n",
    "\n",
    "scores = models['test_score']\n",
    "print(\"\\nTuned LM CV scores: \", np.sqrt(-1*scores))\n",
    "print(\"Tuned LM CV mean = %.2f\" % np.sqrt(-1*scores.mean()), \"with std = %.2f\" % np.sqrt(scores.std()))"
   ]
  },
  {
   "cell_type": "code",
   "execution_count": 13,
   "metadata": {},
   "outputs": [],
   "source": [
    "# submission 화일 생성\n",
    "filename = f'LM_{LM_VERSION}_{np.sqrt(-1*scores.mean()):.2f}.csv'\n",
    "pd.DataFrame({'ID':test_id, 'Salary':oof_pred}).to_csv(filename, index=False)"
   ]
  },
  {
   "cell_type": "markdown",
   "metadata": {},
   "source": [
    "<font color=\"#CC3D3D\"><p>\n",
    "# End"
   ]
  }
 ],
 "metadata": {
  "kernelspec": {
   "display_name": "Python 3 (ipykernel)",
   "language": "python",
   "name": "python3"
  },
  "language_info": {
   "codemirror_mode": {
    "name": "ipython",
    "version": 3
   },
   "file_extension": ".py",
   "mimetype": "text/x-python",
   "name": "python",
   "nbconvert_exporter": "python",
   "pygments_lexer": "ipython3",
   "version": "3.9.7"
  }
 },
 "nbformat": 4,
 "nbformat_minor": 1
}
