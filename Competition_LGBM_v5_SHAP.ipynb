{
 "cells": [
  {
   "cell_type": "markdown",
   "metadata": {},
   "source": [
    "<font color=\"#CC3D3D\"><p>\n",
    "# [Competition] Building a `LightGBM` Model with `Pipeline+Optuna`"
   ]
  },
  {
   "cell_type": "code",
   "execution_count": 1,
   "metadata": {},
   "outputs": [],
   "source": [
    "LGBM_VERSION = 2.0   # submission 화일명에 사용\n",
    "NFOLDS = 10\n",
    "SEED = 22\n",
    "TIMEOUT = 180"
   ]
  },
  {
   "cell_type": "code",
   "execution_count": 2,
   "metadata": {},
   "outputs": [],
   "source": [
    "%matplotlib inline\n",
    "import warnings\n",
    "warnings.filterwarnings(\"ignore\")\n",
    "\n",
    "import pandas as pd\n",
    "import numpy as np\n",
    "import matplotlib.pyplot as plt\n",
    "import seaborn as sns\n",
    "from sklearn.pipeline import Pipeline\n",
    "from sklearn.compose import ColumnTransformer\n",
    "from sklearn.preprocessing import FunctionTransformer\n",
    "from sklearn.base import BaseEstimator, TransformerMixin\n",
    "from sklearn.impute import SimpleImputer\n",
    "from sklearn.preprocessing import PowerTransformer \n",
    "from sklearn.preprocessing import OrdinalEncoder\n",
    "from sklearn.decomposition import PCA\n",
    "from sklearn.feature_selection import SelectPercentile\n",
    "from sklearn.model_selection import train_test_split, cross_val_score, cross_validate, ShuffleSplit\n",
    "from sklearn.metrics import mean_squared_error\n",
    "from sklearn import set_config\n",
    "from sklearn.feature_extraction.text import CountVectorizer\n",
    "from sklearn.compose import TransformedTargetRegressor\n",
    "from lightgbm import LGBMRegressor\n",
    "import lightgbm as lgb\n",
    "from category_encoders import CatBoostEncoder\n",
    "import optuna\n",
    "from optuna.distributions import CategoricalDistribution, IntDistribution, FloatDistribution\n",
    "from optuna.integration import OptunaSearchCV\n",
    "from optuna.integration.lightgbm import LightGBMTunerCV\n",
    "from scipy.sparse import csr_matrix\n",
    "import re\n",
    "import shap"
   ]
  },
  {
   "cell_type": "markdown",
   "metadata": {},
   "source": [
    "#### Load data"
   ]
  },
  {
   "cell_type": "code",
   "execution_count": 18,
   "metadata": {},
   "outputs": [],
   "source": [
    "X_train = pd.read_csv('X_train_fe_t11.csv', encoding='cp949')\n",
    "y_train = pd.read_csv('y_train.csv', encoding='cp949').Salary\n",
    "\n",
    "X_test = pd.read_csv('X_test_fe_t11.csv', encoding='cp949')\n",
    "test_id = pd.read_csv('X_test.csv', encoding='cp949').ID\n",
    "X_columns = X_train.columns"
   ]
  },
  {
   "cell_type": "markdown",
   "metadata": {},
   "source": [
    "#### 수치형/범주형 피처 분리"
   ]
  },
  {
   "cell_type": "code",
   "execution_count": 19,
   "metadata": {},
   "outputs": [],
   "source": [
    "numeric_features = [ '대학성적', '근무개월', '근무개월log', '대학랭킹', '출신대학수치', '출신대학수치*대학성적',\n",
    "       '직무태그개수','대학성적0.1+근무개월', '출신대학_근무개월_sum', '출신대학_근무개월_mean', '출신대학_근무개월_variance',\n",
    "       '출신대학_근무개월_standard_deviation', '직종_근무개월_sum', '직종_근무개월_mean',\n",
    "       '직종_근무개월_variance', '직종_근무개월_standard_deviation', '세부직종_근무개월_sum',\n",
    "       '세부직종_근무개월_mean', '세부직종_근무개월_variance', '세부직종_근무개월_standard_deviation',\n",
    "       '근무지역_1_근무개월_sum', '근무지역_1_근무개월_mean', '근무지역_1_근무개월_variance',\n",
    "       '근무지역_1_근무개월_standard_deviation', '근무지역_2_근무개월_sum', '근무지역_2_근무개월_mean',\n",
    "       '근무지역_2_근무개월_variance', '근무지역_2_근무개월_standard_deviation',\n",
    "       '근무지역_3_근무개월_sum', '근무지역_3_근무개월_mean', '근무지역_3_근무개월_variance',\n",
    "       '근무지역_3_근무개월_standard_deviation', '마지막근무형태_근무개월_sum',\n",
    "       '마지막근무형태_근무개월_mean', '마지막근무형태_근무개월_variance',\n",
    "       '마지막근무형태_근무개월_standard_deviation', '직무태그_1_근무개월_sum',\n",
    "       '직무태그_1_근무개월_mean', '직무태그_1_근무개월_variance',\n",
    "       '직무태그_1_근무개월_standard_deviation', '대학성적_근무개월_sum', '대학성적_근무개월_mean',\n",
    "       '대학성적_근무개월_variance', '대학성적_근무개월_standard_deviation', '대학전공_근무개월_sum',\n",
    "       '대학전공_근무개월_mean', '대학전공_근무개월_variance', '대학전공_근무개월_standard_deviation',\n",
    "       '어학시험_근무개월_sum', '어학시험_근무개월_mean', '어학시험_근무개월_variance',\n",
    "       '어학시험_근무개월_standard_deviation','수치형통합','직종_세부직종_근무개월_sum', '직종_세부직종_근무개월_mean',\n",
    "       '직종_세부직종_근무개월_variance', '직종_세부직종_근무개월_standard_deviation',\n",
    "       '직종_근무지역_1_근무개월_sum', '직종_근무지역_1_근무개월_mean', '직종_근무지역_1_근무개월_variance','직종_근무지역_1_근무개월_standard_deviation', '직종_근무지역_2_근무개월_sum',\n",
    "       '직종_근무지역_2_근무개월_mean', '직종_근무지역_2_근무개월_variance',\n",
    "       '직종_근무지역_2_근무개월_standard_deviation', '직종_근무지역_3_근무개월_sum',\n",
    "       '직종_근무지역_3_근무개월_mean', '직종_근무지역_3_근무개월_variance',\n",
    "       '직종_근무지역_3_근무개월_standard_deviation', '직종_마지막근무형태_근무개월_sum',\n",
    "       '직종_마지막근무형태_근무개월_mean', '직종_마지막근무형태_근무개월_variance',\n",
    "       '직종_마지막근무형태_근무개월_standard_deviation', '직종_직무태그_1_근무개월_sum',\n",
    "       '직종_직무태그_1_근무개월_mean', '직종_직무태그_1_근무개월_variance',\n",
    "       '직종_직무태그_1_근무개월_standard_deviation', '직종_대학성적_근무개월_sum',\n",
    "       '직종_대학성적_근무개월_mean', '직종_대학성적_근무개월_variance',\n",
    "       '직종_대학성적_근무개월_standard_deviation', '세부직종_근무지역_1_근무개월_sum',\n",
    "       '세부직종_근무지역_1_근무개월_mean', '세부직종_근무지역_1_근무개월_variance',\n",
    "       '세부직종_근무지역_1_근무개월_standard_deviation', '세부직종_근무지역_2_근무개월_sum',\n",
    "       '세부직종_근무지역_2_근무개월_mean', '세부직종_근무지역_2_근무개월_variance',\n",
    "       '세부직종_근무지역_2_근무개월_standard_deviation', '세부직종_근무지역_3_근무개월_sum',\n",
    "       '세부직종_근무지역_3_근무개월_mean', '세부직종_근무지역_3_근무개월_variance',\n",
    "       '세부직종_근무지역_3_근무개월_standard_deviation', '세부직종_마지막근무형태_근무개월_sum',\n",
    "       '세부직종_마지막근무형태_근무개월_mean', '세부직종_마지막근무형태_근무개월_variance',\n",
    "       '세부직종_마지막근무형태_근무개월_standard_deviation', '근무지역_1_근무지역_2_근무개월_sum',\n",
    "       '근무지역_1_근무지역_2_근무개월_mean', '근무지역_1_근무지역_2_근무개월_variance',\n",
    "       '근무지역_1_근무지역_2_근무개월_standard_deviation', '근무지역_1_근무지역_3_근무개월_sum',\n",
    "       '근무지역_1_근무지역_3_근무개월_mean', '근무지역_1_근무지역_3_근무개월_variance',\n",
    "       '근무지역_1_근무지역_3_근무개월_standard_deviation', '근무지역_2_근무지역_3_근무개월_sum',\n",
    "       '근무지역_2_근무지역_3_근무개월_mean', '근무지역_2_근무지역_3_근무개월_variance',\n",
    "       '근무지역_2_근무지역_3_근무개월_standard_deviation', '자격증_어학시험_근무개월_sum',\n",
    "       '자격증_어학시험_근무개월_mean', '자격증_어학시험_근무개월_variance',\n",
    "       '자격증_어학시험_근무개월_standard_deviation', '출신대학_수치형통합_sum',\n",
    "       '출신대학_수치형통합_mean', '출신대학_수치형통합_variance',\n",
    "       '출신대학_수치형통합_standard_deviation', '직종_수치형통합_sum', '직종_수치형통합_mean',\n",
    "       '직종_수치형통합_variance', '직종_수치형통합_standard_deviation', '세부직종_수치형통합_sum',\n",
    "       '세부직종_수치형통합_mean', '세부직종_수치형통합_variance',\n",
    "       '세부직종_수치형통합_standard_deviation', '근무지역_1_수치형통합_sum',\n",
    "       '근무지역_1_수치형통합_mean', '근무지역_1_수치형통합_variance',\n",
    "       '근무지역_1_수치형통합_standard_deviation', '근무지역_2_수치형통합_sum',\n",
    "       '근무지역_2_수치형통합_mean', '근무지역_2_수치형통합_variance',\n",
    "       '근무지역_2_수치형통합_standard_deviation', '근무지역_3_수치형통합_sum',\n",
    "       '근무지역_3_수치형통합_mean', '근무지역_3_수치형통합_variance',\n",
    "       '근무지역_3_수치형통합_standard_deviation', '마지막근무형태_수치형통합_sum',\n",
    "       '마지막근무형태_수치형통합_mean', '마지막근무형태_수치형통합_variance',\n",
    "       '마지막근무형태_수치형통합_standard_deviation', '직무태그_1_수치형통합_sum',\n",
    "       '직무태그_1_수치형통합_mean', '직무태그_1_수치형통합_variance',\n",
    "       '직무태그_1_수치형통합_standard_deviation', '대학성적_수치형통합_sum', '대학성적_수치형통합_mean',\n",
    "       '대학성적_수치형통합_variance', '대학성적_수치형통합_standard_deviation',\n",
    "       '대학전공_수치형통합_sum', '대학전공_수치형통합_mean', '대학전공_수치형통합_variance',\n",
    "       '대학전공_수치형통합_standard_deviation', '어학시험_수치형통합_sum', '어학시험_수치형통합_mean',\n",
    "       '어학시험_수치형통합_variance', '어학시험_수치형통합_standard_deviation',\n",
    "       '직종_세부직종_수치형통합_sum', '직종_세부직종_수치형통합_mean']\n",
    "\n",
    "categorical_features = ['직종', '세부직종', '직무태그', '근무경력', '근무형태', '근무지역', '출신대학', '대학전공', '어학시험',\n",
    "       '자격증','근무지역_1', '근무지역_2', '근무지역_3', '마지막근무형태', '직무태그_1', '직무태그_2', '직무태그_3',\n",
    "       '직무태그_4', '직무태그_5', '직무태그_6', '직무태그_7', '직무태그_8', '직무태그_9', '직무태그_10',\n",
    "       '직무태그_11', '직무태그_12', '직무태그_13', '직무태그_14', '직무태그_15', '직무태그_16',\n",
    "       '직무태그_17', '직무태그_18', '직무태그_19', '직무태그_20', '직무태그_21', '직무태그_22',\n",
    "       '직무태그_23', '직무태그_24', '직무태그_25', '직무태그_26', '직무태그_27',\n",
    "        '근무경력+근무지역_3', '근무경력+출신대학', '근무경력+근무형태', '근무경력+마지막근무형태', '대학전공+어학시험',\n",
    "       '대학전공+자격증', '대학전공+근무지역_1', '대학전공+근무지역_2', '대학전공+근무지역_3', '대학전공+출신대학',\n",
    "       '대학전공+근무형태', '대학전공+마지막근무형태', '어학시험+자격증', '어학시험+근무지역_1', '어학시험+근무지역_2',\n",
    "       '어학시험+근무지역_3', '어학시험+출신대학', '어학시험+근무형태', '어학시험+마지막근무형태', '자격증+근무지역_1',\n",
    "       '자격증+근무지역_2', '자격증+근무지역_3', '자격증+출신대학', '자격증+근무형태', '자격증+마지막근무형태',\n",
    "       '근무지역_1+출신대학', '근무지역_1+근무형태', '근무지역_1+마지막근무형태', '근무지역_2+출신대학',\n",
    "       '근무지역_2+근무형태', '근무지역_2+마지막근무형태', '근무지역_3+출신대학', '근무지역_3+근무형태',\n",
    "       '근무지역_3+마지막근무형태', '근무형태+출신대학', '마지막근무형태+출신대학',\n",
    "        \"('직종', '세부직종', '직무태그')\", \"('직종', '세부직종', '근무경력')\",\n",
    "       \"('직종', '세부직종', '근무형태')\", \"('직종', '세부직종', '출신대학')\",\n",
    "       \"('직종', '세부직종', '대학전공')\", \"('직종', '세부직종', '어학시험')\",\n",
    "       \"('직종', '세부직종', '자격증')\", \"('직종', '직무태그', '근무경력')\",\n",
    "       \"('직종', '직무태그', '근무형태')\", \"('직종', '직무태그', '출신대학')\",\n",
    "       \"('직종', '직무태그', '대학전공')\", \"('직종', '직무태그', '어학시험')\",\n",
    "       \"('직종', '직무태그', '자격증')\", \"('직종', '근무경력', '근무형태')\",\n",
    "       \"('직종', '근무경력', '출신대학')\", \"('직종', '근무경력', '대학전공')\",\n",
    "       \"('직종', '근무경력', '어학시험')\", \"('직종', '근무경력', '자격증')\",\n",
    "       \"('직종', '근무형태', '출신대학')\", \"('직종', '근무형태', '대학전공')\",\n",
    "       \"('직종', '근무형태', '어학시험')\", \"('직종', '근무형태', '자격증')\",\n",
    "       \"('직종', '출신대학', '대학전공')\", \"('직종', '출신대학', '어학시험')\",\n",
    "       \"('직종', '출신대학', '자격증')\", \"('직종', '대학전공', '어학시험')\",\n",
    "       \"('직종', '대학전공', '자격증')\", \"('직종', '어학시험', '자격증')\",\n",
    "       \"('세부직종', '직무태그', '근무경력')\", \"('세부직종', '직무태그', '근무형태')\",\n",
    "       \"('세부직종', '직무태그', '출신대학')\", \"('세부직종', '직무태그', '대학전공')\",\n",
    "       \"('세부직종', '직무태그', '어학시험')\", \"('세부직종', '직무태그', '자격증')\",\n",
    "       \"('세부직종', '근무경력', '근무형태')\", \"('세부직종', '근무경력', '출신대학')\",\n",
    "       \"('세부직종', '근무경력', '대학전공')\", \"('세부직종', '근무경력', '어학시험')\",\n",
    "       \"('세부직종', '근무경력', '자격증')\", \"('세부직종', '근무형태', '출신대학')\",\n",
    "       \"('세부직종', '근무형태', '대학전공')\", \"('세부직종', '근무형태', '어학시험')\",\n",
    "       \"('세부직종', '근무형태', '자격증')\", \"('세부직종', '출신대학', '대학전공')\",\n",
    "       \"('세부직종', '출신대학', '어학시험')\", \"('세부직종', '출신대학', '자격증')\",\n",
    "       \"('세부직종', '대학전공', '어학시험')\", \"('세부직종', '대학전공', '자격증')\",\n",
    "       \"('세부직종', '어학시험', '자격증')\", \"('직무태그', '근무경력', '근무형태')\",\n",
    "       \"('직무태그', '근무경력', '출신대학')\", \"('직무태그', '근무경력', '대학전공')\",\n",
    "       \"('직무태그', '근무경력', '어학시험')\", \"('직무태그', '근무경력', '자격증')\",\n",
    "       \"('직무태그', '근무형태', '출신대학')\", \"('직무태그', '근무형태', '대학전공')\",\n",
    "       \"('직무태그', '근무형태', '어학시험')\", \"('직무태그', '근무형태', '자격증')\",\n",
    "       \"('직무태그', '출신대학', '대학전공')\", \"('직무태그', '출신대학', '어학시험')\",\n",
    "       \"('직무태그', '출신대학', '자격증')\", \"('직무태그', '대학전공', '어학시험')\",\n",
    "       \"('직무태그', '대학전공', '자격증')\", \"('직무태그', '어학시험', '자격증')\",\n",
    "       \"('근무경력', '근무형태', '출신대학')\", \"('근무경력', '근무형태', '대학전공')\",\n",
    "       \"('근무경력', '근무형태', '어학시험')\", \"('근무경력', '근무형태', '자격증')\",\n",
    "       \"('근무경력', '출신대학', '대학전공')\", \"('근무경력', '출신대학', '어학시험')\",\n",
    "       \"('근무경력', '출신대학', '자격증')\", \"('근무경력', '대학전공', '어학시험')\",\n",
    "       \"('근무경력', '대학전공', '자격증')\", \"('근무경력', '어학시험', '자격증')\",\n",
    "       \"('근무형태', '출신대학', '대학전공')\", \"('근무형태', '출신대학', '어학시험')\",\n",
    "       \"('근무형태', '출신대학', '자격증')\", \"('근무형태', '대학전공', '어학시험')\",\n",
    "       \"('근무형태', '대학전공', '자격증')\", \"('근무형태', '어학시험', '자격증')\",\n",
    "       \"('출신대학', '대학전공', '어학시험')\", \"('출신대학', '대학전공', '자격증')\",\n",
    "       \"('출신대학', '어학시험', '자격증')\", \"('대학전공', '어학시험', '자격증')\",\n",
    "       \"('직종', '세부직종', '근무지역_1')\", \"('직종', '직무태그', '근무지역_1')\",\n",
    "       \"('직종', '근무경력', '근무지역_1')\", \"('직종', '근무형태', '근무지역_1')\",\n",
    "       \"('직종', '출신대학', '근무지역_1')\", \"('직종', '대학전공', '근무지역_1')\",\n",
    "       \"('직종', '어학시험', '근무지역_1')\", \"('직종', '자격증', '근무지역_1')\",\n",
    "       \"('세부직종', '직무태그', '근무지역_1')\", \"('세부직종', '근무경력', '근무지역_1')\",\n",
    "       \"('세부직종', '근무형태', '근무지역_1')\", \"('세부직종', '출신대학', '근무지역_1')\",\n",
    "       \"('세부직종', '대학전공', '근무지역_1')\", \"('세부직종', '어학시험', '근무지역_1')\",\n",
    "       \"('세부직종', '자격증', '근무지역_1')\", \"('직무태그', '근무경력', '근무지역_1')\",\n",
    "       \"('직무태그', '근무형태', '근무지역_1')\", \"('직무태그', '출신대학', '근무지역_1')\",\n",
    "       \"('직무태그', '대학전공', '근무지역_1')\", \"('직무태그', '어학시험', '근무지역_1')\",\n",
    "       \"('직무태그', '자격증', '근무지역_1')\", \"('근무경력', '근무형태', '근무지역_1')\",\n",
    "       \"('근무경력', '출신대학', '근무지역_1')\", \"('근무경력', '대학전공', '근무지역_1')\",\n",
    "       \"('근무경력', '어학시험', '근무지역_1')\", \"('근무경력', '자격증', '근무지역_1')\",\n",
    "       \"('근무형태', '출신대학', '근무지역_1')\", \"('근무형태', '대학전공', '근무지역_1')\",\n",
    "       \"('근무형태', '어학시험', '근무지역_1')\", \"('근무형태', '자격증', '근무지역_1')\",\n",
    "       \"('출신대학', '대학전공', '근무지역_1')\", \"('출신대학', '어학시험', '근무지역_1')\",\n",
    "       \"('출신대학', '자격증', '근무지역_1')\", \"('대학전공', '어학시험', '근무지역_1')\",\n",
    "       \"('대학전공', '자격증', '근무지역_1')\", \"('어학시험', '자격증', '근무지역_1')\",\n",
    "       \"('직종', '세부직종', '근무지역_2')\", \"('직종', '직무태그', '근무지역_2')\",\n",
    "       \"('직종', '근무경력', '근무지역_2')\", \"('직종', '근무형태', '근무지역_2')\",\n",
    "       \"('직종', '출신대학', '근무지역_2')\", \"('직종', '대학전공', '근무지역_2')\",\n",
    "       \"('직종', '어학시험', '근무지역_2')\", \"('직종', '자격증', '근무지역_2')\",\n",
    "       \"('세부직종', '직무태그', '근무지역_2')\", \"('세부직종', '근무경력', '근무지역_2')\",\n",
    "       \"('세부직종', '근무형태', '근무지역_2')\", \"('세부직종', '출신대학', '근무지역_2')\",\n",
    "       \"('세부직종', '대학전공', '근무지역_2')\", \"('세부직종', '어학시험', '근무지역_2')\",\n",
    "       \"('세부직종', '자격증', '근무지역_2')\", \"('직무태그', '근무경력', '근무지역_2')\",\n",
    "       \"('직무태그', '근무형태', '근무지역_2')\", \"('직무태그', '출신대학', '근무지역_2')\",\n",
    "       \"('직무태그', '대학전공', '근무지역_2')\", \"('직무태그', '어학시험', '근무지역_2')\",\n",
    "       \"('직무태그', '자격증', '근무지역_2')\", \"('근무경력', '근무형태', '근무지역_2')\",\n",
    "       \"('근무경력', '출신대학', '근무지역_2')\", \"('근무경력', '대학전공', '근무지역_2')\",\n",
    "       \"('근무경력', '어학시험', '근무지역_2')\", \"('근무경력', '자격증', '근무지역_2')\",\n",
    "       \"('근무형태', '출신대학', '근무지역_2')\", \"('근무형태', '대학전공', '근무지역_2')\",\n",
    "       \"('근무형태', '어학시험', '근무지역_2')\", \"('근무형태', '자격증', '근무지역_2')\",\n",
    "       \"('출신대학', '대학전공', '근무지역_2')\", \"('출신대학', '어학시험', '근무지역_2')\",\n",
    "       \"('출신대학', '자격증', '근무지역_2')\", \"('대학전공', '어학시험', '근무지역_2')\",\n",
    "       \"('대학전공', '자격증', '근무지역_2')\", \"('어학시험', '자격증', '근무지역_2')\",\n",
    "       \"('직종', '세부직종', '근무지역_3')\", \"('직종', '직무태그', '근무지역_3')\",\n",
    "       \"('직종', '근무경력', '근무지역_3')\", \"('직종', '근무형태', '근무지역_3')\",\n",
    "       \"('직종', '출신대학', '근무지역_3')\", \"('직종', '대학전공', '근무지역_3')\",\n",
    "       \"('직종', '어학시험', '근무지역_3')\", \"('직종', '자격증', '근무지역_3')\",\n",
    "       \"('세부직종', '직무태그', '근무지역_3')\", \"('세부직종', '근무경력', '근무지역_3')\",\n",
    "       \"('세부직종', '근무형태', '근무지역_3')\", \"('세부직종', '출신대학', '근무지역_3')\",\n",
    "       \"('세부직종', '대학전공', '근무지역_3')\", \"('세부직종', '어학시험', '근무지역_3')\",\n",
    "       \"('세부직종', '자격증', '근무지역_3')\", \"('직무태그', '근무경력', '근무지역_3')\",\n",
    "       \"('직무태그', '근무형태', '근무지역_3')\", \"('직무태그', '출신대학', '근무지역_3')\",\n",
    "       \"('직무태그', '대학전공', '근무지역_3')\", \"('직무태그', '어학시험', '근무지역_3')\",\n",
    "       \"('직무태그', '자격증', '근무지역_3')\", \"('근무경력', '근무형태', '근무지역_3')\",\n",
    "       \"('근무경력', '출신대학', '근무지역_3')\", \"('근무경력', '대학전공', '근무지역_3')\",\n",
    "       \"('근무경력', '어학시험', '근무지역_3')\", \"('근무경력', '자격증', '근무지역_3')\",\n",
    "       \"('근무형태', '출신대학', '근무지역_3')\", \"('근무형태', '대학전공', '근무지역_3')\",\n",
    "       \"('근무형태', '어학시험', '근무지역_3')\", \"('근무형태', '자격증', '근무지역_3')\",\n",
    "       \"('출신대학', '대학전공', '근무지역_3')\", \"('출신대학', '어학시험', '근무지역_3')\",\n",
    "       \"('출신대학', '자격증', '근무지역_3')\", \"('대학전공', '어학시험', '근무지역_3')\",\n",
    "       \"('대학전공', '자격증', '근무지역_3')\", \"('어학시험', '자격증', '근무지역_3')\"\n",
    "       ]\n",
    "pca_features = []\n",
    "\n",
    "X_train = X_train[numeric_features+categorical_features+binary_features+pca_features]  # 순서 주의!!!\n",
    "X_test = X_test[numeric_features+categorical_features+binary_features+pca_features]"
   ]
  },
  {
   "cell_type": "markdown",
   "metadata": {},
   "source": [
    "####  파이프라인 구축"
   ]
  },
  {
   "cell_type": "code",
   "execution_count": 20,
   "metadata": {},
   "outputs": [],
   "source": [
    "def remove_outlier(X, q=0.05):  \n",
    "    df = pd.DataFrame(X)\n",
    "    return df.apply(lambda x: x.clip(x.quantile(q), x.quantile(1-q)), axis=0).values"
   ]
  },
  {
   "cell_type": "code",
   "execution_count": 21,
   "metadata": {
    "scrolled": true
   },
   "outputs": [
    {
     "data": {
      "text/html": [
       "<style>#sk-container-id-2 {color: black;background-color: white;}#sk-container-id-2 pre{padding: 0;}#sk-container-id-2 div.sk-toggleable {background-color: white;}#sk-container-id-2 label.sk-toggleable__label {cursor: pointer;display: block;width: 100%;margin-bottom: 0;padding: 0.3em;box-sizing: border-box;text-align: center;}#sk-container-id-2 label.sk-toggleable__label-arrow:before {content: \"▸\";float: left;margin-right: 0.25em;color: #696969;}#sk-container-id-2 label.sk-toggleable__label-arrow:hover:before {color: black;}#sk-container-id-2 div.sk-estimator:hover label.sk-toggleable__label-arrow:before {color: black;}#sk-container-id-2 div.sk-toggleable__content {max-height: 0;max-width: 0;overflow: hidden;text-align: left;background-color: #f0f8ff;}#sk-container-id-2 div.sk-toggleable__content pre {margin: 0.2em;color: black;border-radius: 0.25em;background-color: #f0f8ff;}#sk-container-id-2 input.sk-toggleable__control:checked~div.sk-toggleable__content {max-height: 200px;max-width: 100%;overflow: auto;}#sk-container-id-2 input.sk-toggleable__control:checked~label.sk-toggleable__label-arrow:before {content: \"▾\";}#sk-container-id-2 div.sk-estimator input.sk-toggleable__control:checked~label.sk-toggleable__label {background-color: #d4ebff;}#sk-container-id-2 div.sk-label input.sk-toggleable__control:checked~label.sk-toggleable__label {background-color: #d4ebff;}#sk-container-id-2 input.sk-hidden--visually {border: 0;clip: rect(1px 1px 1px 1px);clip: rect(1px, 1px, 1px, 1px);height: 1px;margin: -1px;overflow: hidden;padding: 0;position: absolute;width: 1px;}#sk-container-id-2 div.sk-estimator {font-family: monospace;background-color: #f0f8ff;border: 1px dotted black;border-radius: 0.25em;box-sizing: border-box;margin-bottom: 0.5em;}#sk-container-id-2 div.sk-estimator:hover {background-color: #d4ebff;}#sk-container-id-2 div.sk-parallel-item::after {content: \"\";width: 100%;border-bottom: 1px solid gray;flex-grow: 1;}#sk-container-id-2 div.sk-label:hover label.sk-toggleable__label {background-color: #d4ebff;}#sk-container-id-2 div.sk-serial::before {content: \"\";position: absolute;border-left: 1px solid gray;box-sizing: border-box;top: 0;bottom: 0;left: 50%;z-index: 0;}#sk-container-id-2 div.sk-serial {display: flex;flex-direction: column;align-items: center;background-color: white;padding-right: 0.2em;padding-left: 0.2em;position: relative;}#sk-container-id-2 div.sk-item {position: relative;z-index: 1;}#sk-container-id-2 div.sk-parallel {display: flex;align-items: stretch;justify-content: center;background-color: white;position: relative;}#sk-container-id-2 div.sk-item::before, #sk-container-id-2 div.sk-parallel-item::before {content: \"\";position: absolute;border-left: 1px solid gray;box-sizing: border-box;top: 0;bottom: 0;left: 50%;z-index: -1;}#sk-container-id-2 div.sk-parallel-item {display: flex;flex-direction: column;z-index: 1;position: relative;background-color: white;}#sk-container-id-2 div.sk-parallel-item:first-child::after {align-self: flex-end;width: 50%;}#sk-container-id-2 div.sk-parallel-item:last-child::after {align-self: flex-start;width: 50%;}#sk-container-id-2 div.sk-parallel-item:only-child::after {width: 0;}#sk-container-id-2 div.sk-dashed-wrapped {border: 1px dashed gray;margin: 0 0.4em 0.5em 0.4em;box-sizing: border-box;padding-bottom: 0.4em;background-color: white;}#sk-container-id-2 div.sk-label label {font-family: monospace;font-weight: bold;display: inline-block;line-height: 1.2em;}#sk-container-id-2 div.sk-label-container {text-align: center;}#sk-container-id-2 div.sk-container {/* jupyter's `normalize.less` sets `[hidden] { display: none; }` but bootstrap.min.css set `[hidden] { display: none !important; }` so we also need the `!important` here to be able to override the default hidden behavior on the sphinx rendered scikit-learn.org. See: https://github.com/scikit-learn/scikit-learn/issues/21755 */display: inline-block !important;position: relative;}#sk-container-id-2 div.sk-text-repr-fallback {display: none;}</style><div id=\"sk-container-id-2\" class=\"sk-top-container\"><div class=\"sk-text-repr-fallback\"><pre>Pipeline(steps=[(&#x27;column&#x27;,\n",
       "                 ColumnTransformer(transformers=[(&#x27;num&#x27;,\n",
       "                                                  Pipeline(steps=[(&#x27;imputer&#x27;,\n",
       "                                                                   SimpleImputer()),\n",
       "                                                                  (&#x27;outlier&#x27;,\n",
       "                                                                   FunctionTransformer(func=&lt;function remove_outlier at 0x0000021EB2768670&gt;,\n",
       "                                                                                       kw_args={&#x27;q&#x27;: 0.05})),\n",
       "                                                                  (&#x27;scaler&#x27;,\n",
       "                                                                   PowerTransformer())]),\n",
       "                                                  [&#x27;대학성적&#x27;, &#x27;근무개월&#x27;, &#x27;출신대학*대학성적&#x27;,\n",
       "                                                   &#x27;직무수&#x27;, &#x27;개월2&#x27;, &#x27;개월log&#x27;]),\n",
       "                                                 (&#x27;cat&#x27;,\n",
       "                                                  Pipeline(steps=[(&#x27;imputer&#x27;,\n",
       "                                                                   SimpleImputer(strategy=&#x27;...\n",
       "                                                                   FunctionTransformer(func=&lt;function &lt;lambda&gt; at 0x0000021EB2768430&gt;)),\n",
       "                                                                  (&#x27;corpus&#x27;,\n",
       "                                                                   FunctionTransformer(func=&lt;function &lt;lambda&gt; at 0x0000021EB2768280&gt;)),\n",
       "                                                                  (&#x27;BoW&#x27;,\n",
       "                                                                   CountVectorizer()),\n",
       "                                                                  (&#x27;dense&#x27;,\n",
       "                                                                   FunctionTransformer(accept_sparse=True,\n",
       "                                                                                       func=&lt;function &lt;lambda&gt; at 0x0000021EB27681F0&gt;)),\n",
       "                                                                  (&#x27;pca&#x27;,\n",
       "                                                                   PCA(n_components=100))]),\n",
       "                                                  &#x27;직무태그&#x27;)])),\n",
       "                (&#x27;selector&#x27;, SelectPercentile(percentile=100))])</pre><b>In a Jupyter environment, please rerun this cell to show the HTML representation or trust the notebook. <br />On GitHub, the HTML representation is unable to render, please try loading this page with nbviewer.org.</b></div><div class=\"sk-container\" hidden><div class=\"sk-item sk-dashed-wrapped\"><div class=\"sk-label-container\"><div class=\"sk-label sk-toggleable\"><input class=\"sk-toggleable__control sk-hidden--visually\" id=\"sk-estimator-id-23\" type=\"checkbox\" ><label for=\"sk-estimator-id-23\" class=\"sk-toggleable__label sk-toggleable__label-arrow\">Pipeline</label><div class=\"sk-toggleable__content\"><pre>Pipeline(steps=[(&#x27;column&#x27;,\n",
       "                 ColumnTransformer(transformers=[(&#x27;num&#x27;,\n",
       "                                                  Pipeline(steps=[(&#x27;imputer&#x27;,\n",
       "                                                                   SimpleImputer()),\n",
       "                                                                  (&#x27;outlier&#x27;,\n",
       "                                                                   FunctionTransformer(func=&lt;function remove_outlier at 0x0000021EB2768670&gt;,\n",
       "                                                                                       kw_args={&#x27;q&#x27;: 0.05})),\n",
       "                                                                  (&#x27;scaler&#x27;,\n",
       "                                                                   PowerTransformer())]),\n",
       "                                                  [&#x27;대학성적&#x27;, &#x27;근무개월&#x27;, &#x27;출신대학*대학성적&#x27;,\n",
       "                                                   &#x27;직무수&#x27;, &#x27;개월2&#x27;, &#x27;개월log&#x27;]),\n",
       "                                                 (&#x27;cat&#x27;,\n",
       "                                                  Pipeline(steps=[(&#x27;imputer&#x27;,\n",
       "                                                                   SimpleImputer(strategy=&#x27;...\n",
       "                                                                   FunctionTransformer(func=&lt;function &lt;lambda&gt; at 0x0000021EB2768430&gt;)),\n",
       "                                                                  (&#x27;corpus&#x27;,\n",
       "                                                                   FunctionTransformer(func=&lt;function &lt;lambda&gt; at 0x0000021EB2768280&gt;)),\n",
       "                                                                  (&#x27;BoW&#x27;,\n",
       "                                                                   CountVectorizer()),\n",
       "                                                                  (&#x27;dense&#x27;,\n",
       "                                                                   FunctionTransformer(accept_sparse=True,\n",
       "                                                                                       func=&lt;function &lt;lambda&gt; at 0x0000021EB27681F0&gt;)),\n",
       "                                                                  (&#x27;pca&#x27;,\n",
       "                                                                   PCA(n_components=100))]),\n",
       "                                                  &#x27;직무태그&#x27;)])),\n",
       "                (&#x27;selector&#x27;, SelectPercentile(percentile=100))])</pre></div></div></div><div class=\"sk-serial\"><div class=\"sk-item sk-dashed-wrapped\"><div class=\"sk-label-container\"><div class=\"sk-label sk-toggleable\"><input class=\"sk-toggleable__control sk-hidden--visually\" id=\"sk-estimator-id-24\" type=\"checkbox\" ><label for=\"sk-estimator-id-24\" class=\"sk-toggleable__label sk-toggleable__label-arrow\">column: ColumnTransformer</label><div class=\"sk-toggleable__content\"><pre>ColumnTransformer(transformers=[(&#x27;num&#x27;,\n",
       "                                 Pipeline(steps=[(&#x27;imputer&#x27;, SimpleImputer()),\n",
       "                                                 (&#x27;outlier&#x27;,\n",
       "                                                  FunctionTransformer(func=&lt;function remove_outlier at 0x0000021EB2768670&gt;,\n",
       "                                                                      kw_args={&#x27;q&#x27;: 0.05})),\n",
       "                                                 (&#x27;scaler&#x27;,\n",
       "                                                  PowerTransformer())]),\n",
       "                                 [&#x27;대학성적&#x27;, &#x27;근무개월&#x27;, &#x27;출신대학*대학성적&#x27;, &#x27;직무수&#x27;, &#x27;개월2&#x27;,\n",
       "                                  &#x27;개월log&#x27;]),\n",
       "                                (&#x27;cat&#x27;,\n",
       "                                 Pipeline(steps=[(&#x27;imputer&#x27;,\n",
       "                                                  SimpleImputer(strategy=&#x27;most_frequent&#x27;)),\n",
       "                                                 (&#x27;encoder...\n",
       "                                                 (&#x27;BoW&#x27;, CountVectorizer())]),\n",
       "                                 &#x27;세부직종&#x27;),\n",
       "                                (&#x27;pca1&#x27;,\n",
       "                                 Pipeline(steps=[(&#x27;impuer&#x27;,\n",
       "                                                  FunctionTransformer(func=&lt;function &lt;lambda&gt; at 0x0000021EB2768430&gt;)),\n",
       "                                                 (&#x27;corpus&#x27;,\n",
       "                                                  FunctionTransformer(func=&lt;function &lt;lambda&gt; at 0x0000021EB2768280&gt;)),\n",
       "                                                 (&#x27;BoW&#x27;, CountVectorizer()),\n",
       "                                                 (&#x27;dense&#x27;,\n",
       "                                                  FunctionTransformer(accept_sparse=True,\n",
       "                                                                      func=&lt;function &lt;lambda&gt; at 0x0000021EB27681F0&gt;)),\n",
       "                                                 (&#x27;pca&#x27;,\n",
       "                                                  PCA(n_components=100))]),\n",
       "                                 &#x27;직무태그&#x27;)])</pre></div></div></div><div class=\"sk-parallel\"><div class=\"sk-parallel-item\"><div class=\"sk-item\"><div class=\"sk-label-container\"><div class=\"sk-label sk-toggleable\"><input class=\"sk-toggleable__control sk-hidden--visually\" id=\"sk-estimator-id-25\" type=\"checkbox\" ><label for=\"sk-estimator-id-25\" class=\"sk-toggleable__label sk-toggleable__label-arrow\">num</label><div class=\"sk-toggleable__content\"><pre>[&#x27;대학성적&#x27;, &#x27;근무개월&#x27;, &#x27;출신대학*대학성적&#x27;, &#x27;직무수&#x27;, &#x27;개월2&#x27;, &#x27;개월log&#x27;]</pre></div></div></div><div class=\"sk-serial\"><div class=\"sk-item\"><div class=\"sk-serial\"><div class=\"sk-item\"><div class=\"sk-estimator sk-toggleable\"><input class=\"sk-toggleable__control sk-hidden--visually\" id=\"sk-estimator-id-26\" type=\"checkbox\" ><label for=\"sk-estimator-id-26\" class=\"sk-toggleable__label sk-toggleable__label-arrow\">SimpleImputer</label><div class=\"sk-toggleable__content\"><pre>SimpleImputer()</pre></div></div></div><div class=\"sk-item\"><div class=\"sk-estimator sk-toggleable\"><input class=\"sk-toggleable__control sk-hidden--visually\" id=\"sk-estimator-id-27\" type=\"checkbox\" ><label for=\"sk-estimator-id-27\" class=\"sk-toggleable__label sk-toggleable__label-arrow\">FunctionTransformer</label><div class=\"sk-toggleable__content\"><pre>FunctionTransformer(func=&lt;function remove_outlier at 0x0000021EB2768670&gt;,\n",
       "                    kw_args={&#x27;q&#x27;: 0.05})</pre></div></div></div><div class=\"sk-item\"><div class=\"sk-estimator sk-toggleable\"><input class=\"sk-toggleable__control sk-hidden--visually\" id=\"sk-estimator-id-28\" type=\"checkbox\" ><label for=\"sk-estimator-id-28\" class=\"sk-toggleable__label sk-toggleable__label-arrow\">PowerTransformer</label><div class=\"sk-toggleable__content\"><pre>PowerTransformer()</pre></div></div></div></div></div></div></div></div><div class=\"sk-parallel-item\"><div class=\"sk-item\"><div class=\"sk-label-container\"><div class=\"sk-label sk-toggleable\"><input class=\"sk-toggleable__control sk-hidden--visually\" id=\"sk-estimator-id-29\" type=\"checkbox\" ><label for=\"sk-estimator-id-29\" class=\"sk-toggleable__label sk-toggleable__label-arrow\">cat</label><div class=\"sk-toggleable__content\"><pre>[&#x27;근무형태&#x27;, &#x27;근무경력&#x27;, &#x27;출신대학&#x27;, &#x27;대학전공&#x27;, &#x27;어학시험&#x27;, &#x27;자격증&#x27;, &#x27;근무지역_a&#x27;, &#x27;근무지역_b&#x27;, &#x27;근무지역_c&#x27;, &#x27;신입경력&#x27;, &#x27;대학+전공&#x27;, &#x27;직종+세부직종&#x27;, &#x27;근무형태+직종&#x27;, &#x27;마지막근무형태&#x27;, &#x27;대학_경력_sum&#x27;, &#x27;대학_경력_mean&#x27;, &#x27;대학_경력_variance&#x27;, &#x27;대학_경력_standard deviation&#x27;]</pre></div></div></div><div class=\"sk-serial\"><div class=\"sk-item\"><div class=\"sk-serial\"><div class=\"sk-item\"><div class=\"sk-estimator sk-toggleable\"><input class=\"sk-toggleable__control sk-hidden--visually\" id=\"sk-estimator-id-30\" type=\"checkbox\" ><label for=\"sk-estimator-id-30\" class=\"sk-toggleable__label sk-toggleable__label-arrow\">SimpleImputer</label><div class=\"sk-toggleable__content\"><pre>SimpleImputer(strategy=&#x27;most_frequent&#x27;)</pre></div></div></div><div class=\"sk-item\"><div class=\"sk-estimator sk-toggleable\"><input class=\"sk-toggleable__control sk-hidden--visually\" id=\"sk-estimator-id-31\" type=\"checkbox\" ><label for=\"sk-estimator-id-31\" class=\"sk-toggleable__label sk-toggleable__label-arrow\">OrdinalEncoder</label><div class=\"sk-toggleable__content\"><pre>OrdinalEncoder(dtype=&lt;class &#x27;int&#x27;&gt;, handle_unknown=&#x27;use_encoded_value&#x27;,\n",
       "               unknown_value=-1)</pre></div></div></div></div></div></div></div></div><div class=\"sk-parallel-item\"><div class=\"sk-item\"><div class=\"sk-label-container\"><div class=\"sk-label sk-toggleable\"><input class=\"sk-toggleable__control sk-hidden--visually\" id=\"sk-estimator-id-32\" type=\"checkbox\" ><label for=\"sk-estimator-id-32\" class=\"sk-toggleable__label sk-toggleable__label-arrow\">bin1</label><div class=\"sk-toggleable__content\"><pre>직종</pre></div></div></div><div class=\"sk-serial\"><div class=\"sk-item\"><div class=\"sk-serial\"><div class=\"sk-item\"><div class=\"sk-estimator sk-toggleable\"><input class=\"sk-toggleable__control sk-hidden--visually\" id=\"sk-estimator-id-33\" type=\"checkbox\" ><label for=\"sk-estimator-id-33\" class=\"sk-toggleable__label sk-toggleable__label-arrow\">FunctionTransformer</label><div class=\"sk-toggleable__content\"><pre>FunctionTransformer(func=&lt;function &lt;lambda&gt; at 0x0000021EB2768700&gt;)</pre></div></div></div><div class=\"sk-item\"><div class=\"sk-estimator sk-toggleable\"><input class=\"sk-toggleable__control sk-hidden--visually\" id=\"sk-estimator-id-34\" type=\"checkbox\" ><label for=\"sk-estimator-id-34\" class=\"sk-toggleable__label sk-toggleable__label-arrow\">CountVectorizer</label><div class=\"sk-toggleable__content\"><pre>CountVectorizer()</pre></div></div></div></div></div></div></div></div><div class=\"sk-parallel-item\"><div class=\"sk-item\"><div class=\"sk-label-container\"><div class=\"sk-label sk-toggleable\"><input class=\"sk-toggleable__control sk-hidden--visually\" id=\"sk-estimator-id-35\" type=\"checkbox\" ><label for=\"sk-estimator-id-35\" class=\"sk-toggleable__label sk-toggleable__label-arrow\">bin2</label><div class=\"sk-toggleable__content\"><pre>세부직종</pre></div></div></div><div class=\"sk-serial\"><div class=\"sk-item\"><div class=\"sk-serial\"><div class=\"sk-item\"><div class=\"sk-estimator sk-toggleable\"><input class=\"sk-toggleable__control sk-hidden--visually\" id=\"sk-estimator-id-36\" type=\"checkbox\" ><label for=\"sk-estimator-id-36\" class=\"sk-toggleable__label sk-toggleable__label-arrow\">FunctionTransformer</label><div class=\"sk-toggleable__content\"><pre>FunctionTransformer(func=&lt;function &lt;lambda&gt; at 0x0000021EB2768700&gt;)</pre></div></div></div><div class=\"sk-item\"><div class=\"sk-estimator sk-toggleable\"><input class=\"sk-toggleable__control sk-hidden--visually\" id=\"sk-estimator-id-37\" type=\"checkbox\" ><label for=\"sk-estimator-id-37\" class=\"sk-toggleable__label sk-toggleable__label-arrow\">CountVectorizer</label><div class=\"sk-toggleable__content\"><pre>CountVectorizer()</pre></div></div></div></div></div></div></div></div><div class=\"sk-parallel-item\"><div class=\"sk-item\"><div class=\"sk-label-container\"><div class=\"sk-label sk-toggleable\"><input class=\"sk-toggleable__control sk-hidden--visually\" id=\"sk-estimator-id-38\" type=\"checkbox\" ><label for=\"sk-estimator-id-38\" class=\"sk-toggleable__label sk-toggleable__label-arrow\">pca1</label><div class=\"sk-toggleable__content\"><pre>직무태그</pre></div></div></div><div class=\"sk-serial\"><div class=\"sk-item\"><div class=\"sk-serial\"><div class=\"sk-item\"><div class=\"sk-estimator sk-toggleable\"><input class=\"sk-toggleable__control sk-hidden--visually\" id=\"sk-estimator-id-39\" type=\"checkbox\" ><label for=\"sk-estimator-id-39\" class=\"sk-toggleable__label sk-toggleable__label-arrow\">FunctionTransformer</label><div class=\"sk-toggleable__content\"><pre>FunctionTransformer(func=&lt;function &lt;lambda&gt; at 0x0000021EB2768430&gt;)</pre></div></div></div><div class=\"sk-item\"><div class=\"sk-estimator sk-toggleable\"><input class=\"sk-toggleable__control sk-hidden--visually\" id=\"sk-estimator-id-40\" type=\"checkbox\" ><label for=\"sk-estimator-id-40\" class=\"sk-toggleable__label sk-toggleable__label-arrow\">FunctionTransformer</label><div class=\"sk-toggleable__content\"><pre>FunctionTransformer(func=&lt;function &lt;lambda&gt; at 0x0000021EB2768280&gt;)</pre></div></div></div><div class=\"sk-item\"><div class=\"sk-estimator sk-toggleable\"><input class=\"sk-toggleable__control sk-hidden--visually\" id=\"sk-estimator-id-41\" type=\"checkbox\" ><label for=\"sk-estimator-id-41\" class=\"sk-toggleable__label sk-toggleable__label-arrow\">CountVectorizer</label><div class=\"sk-toggleable__content\"><pre>CountVectorizer()</pre></div></div></div><div class=\"sk-item\"><div class=\"sk-estimator sk-toggleable\"><input class=\"sk-toggleable__control sk-hidden--visually\" id=\"sk-estimator-id-42\" type=\"checkbox\" ><label for=\"sk-estimator-id-42\" class=\"sk-toggleable__label sk-toggleable__label-arrow\">FunctionTransformer</label><div class=\"sk-toggleable__content\"><pre>FunctionTransformer(accept_sparse=True,\n",
       "                    func=&lt;function &lt;lambda&gt; at 0x0000021EB27681F0&gt;)</pre></div></div></div><div class=\"sk-item\"><div class=\"sk-estimator sk-toggleable\"><input class=\"sk-toggleable__control sk-hidden--visually\" id=\"sk-estimator-id-43\" type=\"checkbox\" ><label for=\"sk-estimator-id-43\" class=\"sk-toggleable__label sk-toggleable__label-arrow\">PCA</label><div class=\"sk-toggleable__content\"><pre>PCA(n_components=100)</pre></div></div></div></div></div></div></div></div></div></div><div class=\"sk-item\"><div class=\"sk-estimator sk-toggleable\"><input class=\"sk-toggleable__control sk-hidden--visually\" id=\"sk-estimator-id-44\" type=\"checkbox\" ><label for=\"sk-estimator-id-44\" class=\"sk-toggleable__label sk-toggleable__label-arrow\">SelectPercentile</label><div class=\"sk-toggleable__content\"><pre>SelectPercentile(percentile=100)</pre></div></div></div></div></div></div></div>"
      ],
      "text/plain": [
       "Pipeline(steps=[('column',\n",
       "                 ColumnTransformer(transformers=[('num',\n",
       "                                                  Pipeline(steps=[('imputer',\n",
       "                                                                   SimpleImputer()),\n",
       "                                                                  ('outlier',\n",
       "                                                                   FunctionTransformer(func=<function remove_outlier at 0x0000021EB2768670>,\n",
       "                                                                                       kw_args={'q': 0.05})),\n",
       "                                                                  ('scaler',\n",
       "                                                                   PowerTransformer())]),\n",
       "                                                  ['대학성적', '근무개월', '출신대학*대학성적',\n",
       "                                                   '직무수', '개월2', '개월log']),\n",
       "                                                 ('cat',\n",
       "                                                  Pipeline(steps=[('imputer',\n",
       "                                                                   SimpleImputer(strategy='...\n",
       "                                                                   FunctionTransformer(func=<function <lambda> at 0x0000021EB2768430>)),\n",
       "                                                                  ('corpus',\n",
       "                                                                   FunctionTransformer(func=<function <lambda> at 0x0000021EB2768280>)),\n",
       "                                                                  ('BoW',\n",
       "                                                                   CountVectorizer()),\n",
       "                                                                  ('dense',\n",
       "                                                                   FunctionTransformer(accept_sparse=True,\n",
       "                                                                                       func=<function <lambda> at 0x0000021EB27681F0>)),\n",
       "                                                                  ('pca',\n",
       "                                                                   PCA(n_components=100))]),\n",
       "                                                  '직무태그')])),\n",
       "                ('selector', SelectPercentile(percentile=100))])"
      ]
     },
     "execution_count": 21,
     "metadata": {},
     "output_type": "execute_result"
    }
   ],
   "source": [
    "numeric_transformer = Pipeline(\n",
    "    steps=[\n",
    "        (\"imputer\", SimpleImputer(strategy=\"mean\")),\n",
    "        (\"outlier\", FunctionTransformer(remove_outlier, kw_args={'q':0.05})), \n",
    "        (\"scaler\", PowerTransformer()),\n",
    "    ]\n",
    ")\n",
    "\n",
    "categorical_transformer = Pipeline(\n",
    "    steps=[\n",
    "        (\"imputer\", SimpleImputer(strategy=\"most_frequent\")), \n",
    "        (\"encoder\", OrdinalEncoder(handle_unknown='use_encoded_value', unknown_value=-1, dtype=int)),\n",
    "    ]\n",
    ")\n",
    "    \n",
    "binary_transformer = Pipeline(\n",
    "    steps=[\n",
    "        (\"corpus\", FunctionTransformer(lambda x: x.str.replace('·',',').str.split(',').str.join(\" \"))),\n",
    "        (\"BoW\", CountVectorizer()),\n",
    "    ]\n",
    ")\n",
    "\n",
    "pca_transformer = Pipeline(\n",
    "    steps=[\n",
    "        (\"impuer\", FunctionTransformer(lambda x: x.fillna('없음'))),      \n",
    "        (\"corpus\", FunctionTransformer(lambda x: x.str.replace('·',',').str.split(',').str.join(\" \"))),\n",
    "        (\"BoW\", CountVectorizer()),\n",
    "        (\"dense\", FunctionTransformer(lambda x: x.todense(), accept_sparse=True)),\n",
    "        (\"pca\", PCA(n_components=100)),\n",
    "    ]\n",
    ")\n",
    "\n",
    "column_transformer = ColumnTransformer(\n",
    "    transformers=[\n",
    "        (\"num\", numeric_transformer, numeric_features),\n",
    "        (\"cat\", categorical_transformer, categorical_features),\n",
    "        (\"bin1\", binary_transformer, binary_features[0]), \n",
    "        (\"bin2\", binary_transformer, binary_features[1]),\n",
    "        (\"pca1\", pca_transformer, pca_features[0]), \n",
    "   ]\n",
    ")\n",
    "\n",
    "preprocessor = Pipeline(\n",
    "    steps=[\n",
    "        (\"column\", column_transformer), \n",
    "        (\"selector\", SelectPercentile(percentile=100)),\n",
    "    ]\n",
    ")\n",
    "\n",
    "set_config(display=\"diagram\")\n",
    "preprocessor"
   ]
  },
  {
   "cell_type": "markdown",
   "metadata": {},
   "source": [
    "#### SHAP"
   ]
  },
  {
   "cell_type": "code",
   "execution_count": 22,
   "metadata": {},
   "outputs": [],
   "source": [
    "X_train = preprocessor.fit_transform(X_train, y_train)\n",
    "X_test = preprocessor.transform(X_test)"
   ]
  },
  {
   "cell_type": "code",
   "execution_count": 23,
   "metadata": {},
   "outputs": [],
   "source": [
    "X_train = pd.DataFrame(X_train)\n",
    "X_test = pd.DataFrame(X_test)"
   ]
  },
  {
   "cell_type": "code",
   "execution_count": 31,
   "metadata": {},
   "outputs": [],
   "source": [
    "model = LGBMRegressor(random_state=SEED).fit(X_train, y_train)\n",
    "X_importance = X_test\n",
    "\n",
    "explainer = shap.TreeExplainer(model)\n",
    "shap_values = explainer.shap_values(X_importance)\n",
    "\n",
    "shap_sum = np.abs(shap_values).mean(axis=0)"
   ]
  },
  {
   "cell_type": "code",
   "execution_count": 33,
   "metadata": {},
   "outputs": [],
   "source": [
    "importance_df = pd.DataFrame([X_train.columns, shap_sum]).T\n",
    "importance_df.columns = ['feature_name', 'shap_importance']\n",
    "importance_df = importance_df.sort_values('shap_importance', ascending=False)\n",
    "\n",
    "#feature_name에 NAN 나오는 거 정상임"
   ]
  },
  {
   "cell_type": "code",
   "execution_count": 34,
   "metadata": {},
   "outputs": [],
   "source": [
    "features_selected = importance_df.query('shap_importance > 0').index"
   ]
  },
  {
   "cell_type": "code",
   "execution_count": 35,
   "metadata": {},
   "outputs": [
    {
     "data": {
      "text/plain": [
       "Int64Index([  1,  21,   6,  20,   2,  18,  11, 312,   7,  17,\n",
       "            ...\n",
       "            216, 200, 177, 149,  33, 122, 213, 294, 183,   3],\n",
       "           dtype='int64', length=164)"
      ]
     },
     "execution_count": 35,
     "metadata": {},
     "output_type": "execute_result"
    }
   ],
   "source": [
    "features_selected"
   ]
  },
  {
   "cell_type": "code",
   "execution_count": 36,
   "metadata": {},
   "outputs": [],
   "source": [
    "X_train = X_train.iloc[:, features_selected].to_numpy()\n",
    "X_test = X_test.iloc[:, features_selected]"
   ]
  },
  {
   "cell_type": "markdown",
   "metadata": {},
   "source": [
    "#### LGBM Baseline 성능 확인"
   ]
  },
  {
   "cell_type": "code",
   "execution_count": 37,
   "metadata": {},
   "outputs": [
    {
     "name": "stdout",
     "output_type": "stream",
     "text": [
      "Default LGBM CV scores:  [830.02281306 861.07047579 850.9670844  829.90335873 823.48421673\n",
      " 834.03860814 822.21032981 832.2114992  816.6772845  833.59632675]\n",
      "Default LGBM CV mean = 833.51 with std = 145.80\n"
     ]
    }
   ],
   "source": [
    "sscv = ShuffleSplit(test_size=.3334, n_splits=NFOLDS, random_state=SEED) # Public LB 사이즈와 동일하게 평가데이터 사이즈 설정 \n",
    "scores = cross_val_score(model, X_train, y_train, scoring='neg_mean_squared_error', cv=sscv)\n",
    "\n",
    "print(\"Default LGBM CV scores: \", np.sqrt(-1*scores))\n",
    "print(\"Default LGBM CV mean = %.2f\" % np.sqrt(-1*scores.mean()), \"with std = %.2f\" % np.sqrt(scores.std()))"
   ]
  },
  {
   "cell_type": "markdown",
   "metadata": {},
   "source": [
    "#### LGBM 하이퍼파라미터 최적화\n",
    "- 1단계) 전처리 파라미터 최적값 탐색: OptunaSearchCV를 통해 전처리 관련 최적의 파라미터을 찾음 (LGBM은 No Tuning)"
   ]
  },
  {
   "cell_type": "code",
   "execution_count": null,
   "metadata": {},
   "outputs": [],
   "source": [
    "%%time\n",
    "\n",
    "param_distributions = {\n",
    "    \"preprocessor__column__num__imputer__strategy\": CategoricalDistribution([\"mean\",\"median\"]),\n",
    "    \"preprocessor__column__num__outlier__kw_args\": CategoricalDistribution([{'q':0.01},{'q':0.05},{'q':0.1}]),\n",
    "    \"preprocessor__column__pca1__pca__n_components\": IntDistribution(100,500,step=100),  \n",
    "    \"preprocessor__selector__percentile\": IntDistribution(50,100,step=10),  \n",
    "}\n",
    "\n",
    "optuna_search = OptunaSearchCV(model, \n",
    "                               param_distributions, \n",
    "                               cv=sscv, scoring='neg_mean_squared_error', \n",
    "                               n_trials=3,\n",
    "                               timeout=TIMEOUT,   # 튜닝 허용 최대시간(초단위)\n",
    "                               study=optuna.create_study(sampler=optuna.samplers.TPESampler(seed=100), direction=\"maximize\"))\n",
    "\n",
    "optuna.logging.set_verbosity(optuna.logging.WARNING)\n",
    "optuna_search.fit(X_train, y_train)\n",
    "\n",
    "print(f\"Best params: {optuna_search.best_params_}\")\n",
    "print(\"Best score: %.2f\" % (-1*optuna_search.best_score_)**0.5)"
   ]
  },
  {
   "cell_type": "markdown",
   "metadata": {},
   "source": [
    "- 2단계) 전처리 최적화 수행: 최적의 파라미터 값으로 파이프라인 재설정"
   ]
  },
  {
   "cell_type": "code",
   "execution_count": null,
   "metadata": {},
   "outputs": [],
   "source": [
    "# 최적값으로 파이프라인 재설정\n",
    "model.set_params(**optuna_search.best_params_)\n",
    "\n",
    "# 전처리 파이프라인만 수행\n",
    "X_train = preprocessor.fit_transform(X_train, y_train)\n",
    "X_test = preprocessor.transform(X_test)"
   ]
  },
  {
   "cell_type": "markdown",
   "metadata": {},
   "source": [
    "- 3단계) LGBM 모형 최적화: Optuna의 LightGBMTunerCV을 통한 하이퍼파라미터 최적화"
   ]
  },
  {
   "cell_type": "code",
   "execution_count": null,
   "metadata": {},
   "outputs": [],
   "source": [
    "tuner = LightGBMTunerCV(\n",
    "    params={\n",
    "        \"objective\": \"regression\",   # 지도학습 유형(regression/binary/multiclass)\n",
    "        \"metric\": \"rmse\",\n",
    "        \"verbosity\": -1,             # 진행과정 출력안함\n",
    "        \"boosting_type\": \"gbdt\",     # 실행하고자 하는 알고리즘 유형(gdbt/rf/dart/goss)\n",
    "        \"seed\": 0,\n",
    "    },\n",
    "    train_set=lgb.Dataset(X_train, y_train), # LGBM 데이터셋으로 변환\n",
    "    nfold=5,\n",
    "    num_boost_round=200,                     # boosting 반복횟수\n",
    "    callbacks=[lgb.early_stopping(100)],     # 모든 정지 라운드 동안 validation 성능이 개선되지 않으면 조기종료\n",
    "    time_budget=TIMEOUT,                     # 튜닝 허용 최대시간(초단위)\n",
    "    optuna_seed=0,\n",
    ")\n",
    "\n",
    "tuner.run()"
   ]
  },
  {
   "cell_type": "code",
   "execution_count": null,
   "metadata": {},
   "outputs": [],
   "source": [
    "print(f\"\\nBest params: {tuner.best_params}\")\n",
    "print(f\"\\nBest score: {tuner.best_score:.2f}\")"
   ]
  },
  {
   "cell_type": "markdown",
   "metadata": {},
   "source": [
    "#### Submission 생성"
   ]
  },
  {
   "cell_type": "code",
   "execution_count": null,
   "metadata": {},
   "outputs": [],
   "source": [
    "# 최적화된 하이퍼파라미터로 OOF를 수행하여 최종 LGBM 모형 생성\n",
    "models = cross_validate(LGBMRegressor(**tuner.best_params), # 최적화된 hyperparameter 사용\n",
    "                        X_train, y_train, \n",
    "                        cv=sscv, \n",
    "                        scoring='neg_mean_squared_error', \n",
    "                        return_estimator=True)\n",
    "oof_pred = np.array([m.predict(X_test) for m in models['estimator']]).mean(axis=0)\n",
    "\n",
    "scores = models['test_score']\n",
    "print(\"\\nTuned LGBM CV scores: \", np.sqrt(-1*scores))\n",
    "print(\"Tuned LGBM CV mean = %.2f\" % np.sqrt(-1*scores.mean()), \"with std = %.2f\" % np.sqrt(scores.std()))"
   ]
  },
  {
   "cell_type": "code",
   "execution_count": null,
   "metadata": {},
   "outputs": [],
   "source": [
    "# submission 화일 생성\n",
    "filename = f'lgbm_{LGBM_VERSION}_{np.sqrt(-1*scores.mean()):.2f}.csv'\n",
    "pd.DataFrame({'ID':test_id, 'Salary':oof_pred}).to_csv(filename, index=False)"
   ]
  },
  {
   "cell_type": "markdown",
   "metadata": {},
   "source": [
    "<font color=\"#CC3D3D\"><p>\n",
    "# End"
   ]
  }
 ],
 "metadata": {
  "kernelspec": {
   "display_name": "Python 3 (ipykernel)",
   "language": "python",
   "name": "python3"
  },
  "language_info": {
   "codemirror_mode": {
    "name": "ipython",
    "version": 3
   },
   "file_extension": ".py",
   "mimetype": "text/x-python",
   "name": "python",
   "nbconvert_exporter": "python",
   "pygments_lexer": "ipython3",
   "version": "3.9.7"
  }
 },
 "nbformat": 4,
 "nbformat_minor": 1
}
