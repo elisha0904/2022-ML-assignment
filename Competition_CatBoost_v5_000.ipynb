{
 "cells": [
  {
   "cell_type": "markdown",
   "metadata": {},
   "source": [
    "<font color=\"#CC3D3D\"><p>\n",
    "# [Competition] Building a `CatBoost` Model with `Pipeline`"
   ]
  },
  {
   "cell_type": "markdown",
   "metadata": {},
   "source": [
    "####  전역변수 설정"
   ]
  },
  {
   "cell_type": "code",
   "execution_count": 1,
   "metadata": {
    "tags": [
     "parameters"
    ]
   },
   "outputs": [],
   "source": [
    "CATBOOST_VERSION = 5.3\n",
    "NFOLDS = 5\n",
    "SEED = 0\n",
    "P = 0.05"
   ]
  },
  {
   "cell_type": "code",
   "execution_count": 2,
   "metadata": {},
   "outputs": [],
   "source": [
    "%matplotlib inline\n",
    "import warnings\n",
    "warnings.filterwarnings(\"ignore\")\n",
    "\n",
    "import pandas as pd\n",
    "import numpy as np\n",
    "import matplotlib.pyplot as plt\n",
    "import seaborn as sns\n",
    "from sklearn.pipeline import Pipeline, make_pipeline\n",
    "from sklearn.compose import ColumnTransformer\n",
    "from sklearn.preprocessing import FunctionTransformer\n",
    "from sklearn.base import BaseEstimator, TransformerMixin\n",
    "from sklearn.impute import SimpleImputer\n",
    "from sklearn.preprocessing import PowerTransformer \n",
    "from sklearn.preprocessing import OrdinalEncoder, OneHotEncoder\n",
    "from sklearn.feature_selection import SelectPercentile, SelectKBest\n",
    "from sklearn.model_selection import train_test_split, KFold, cross_validate, ShuffleSplit\n",
    "from sklearn.feature_extraction.text import CountVectorizer\n",
    "from sklearn.decomposition import PCA, TruncatedSVD\n",
    "from sklearn.metrics import mean_squared_error\n",
    "from sklearn import set_config\n",
    "from catboost import CatBoostRegressor\n",
    "import re\n",
    "from sklearn.preprocessing import StandardScaler\n"
   ]
  },
  {
   "cell_type": "markdown",
   "metadata": {},
   "source": [
    "#### Load data"
   ]
  },
  {
   "cell_type": "code",
   "execution_count": 3,
   "metadata": {},
   "outputs": [],
   "source": [
    "X_train = pd.read_csv('X_train_fe_000.csv', encoding='cp949')\n",
    "y_train = pd.read_csv('y_train.csv', encoding='cp949').Salary\n",
    "\n",
    "X_test = pd.read_csv('X_test_fe_000.csv', encoding='cp949')\n",
    "test_id = pd.read_csv('X_test.csv', encoding='cp949').ID"
   ]
  },
  {
   "cell_type": "code",
   "execution_count": 4,
   "metadata": {
    "scrolled": true
   },
   "outputs": [
    {
     "data": {
      "image/png": "[encoded data removed]",
      "text/plain": [
       "<Figure size 432x288 with 1 Axes>"
      ]
     },
     "metadata": {
      "needs_background": "light"
     },
     "output_type": "display_data"
    }
   ],
   "source": [
    "sns.distplot(y_train); plt.show() "
   ]
  },
  {
   "cell_type": "markdown",
   "metadata": {},
   "source": [
    "#### 수치형/범주형 피처 분리 & 학습/평가 데이터 분할"
   ]
  },
  {
   "cell_type": "code",
   "execution_count": 5,
   "metadata": {},
   "outputs": [],
   "source": [
    "numeric_features = ['대학성적', '근무개월', '근무개월log', '대학랭킹', '출신대학수치','출신대학수치*대학성적',\n",
    "       '대학_경력_sum', '대학_경력_mean', '대학_경력_variance', '대학_경력_standard deviation',\n",
    "       '직종_경력_sum', '직종_경력_mean', '직종_경력_variance', '직종_경력_standard deviation',\n",
    "       '세부직종_경력_sum', '세부직종_경력_mean', '세부직종_경력_variance',\n",
    "       '세부직종_경력_standard deviation','근무지역_1_경력_sum', '근무지역_1_경력_mean', '근무지역_1_경력_variance',\n",
    "       '근무지역_1_경력_standard deviation', '근무지역_2_경력_sum', '근무지역_2_경력_mean',\n",
    "       '근무지역_2_경력_variance', '근무지역_2_경력_standard deviation', '근무지역_3_경력_sum',\n",
    "       '근무지역_3_경력_mean', '근무지역_3_경력_variance', '근무지역_3_경력_standard deviation',\n",
    "        '마지막근무형태_경력_sum', '마지막근무형태_경력_mean', '마지막근무형태_경력_variance',\n",
    "       '마지막근무형태_경력_standard deviation','직무태그_1_경력_sum',\n",
    "       '직무태그_1_경력_mean', '직무태그_1_경력_variance', '직무태그_1_경력_standard deviation',\n",
    "       '직무태그개수', '대학성적+근무개월'] \n",
    "\n",
    "categorical_features = ['직종', '세부직종', '직무태그', '근무경력', '근무형태', '근무지역', '출신대학', '대학전공', '어학시험',\n",
    "       '자격증',  '근무지역_1', '근무지역_2', '근무지역_3',\n",
    "        '직무태그_1', '직무태그_2', '직무태그_3', '직무태그_4',\n",
    "       '직무태그_5', '직무태그_6', '직무태그_7', '직무태그_8', '직무태그_9', '직무태그_10', '직무태그_11',\n",
    "       '직무태그_12', '직무태그_13', '직무태그_14', '직무태그_15', '직무태그_16', '직무태그_17',\n",
    "       '직무태그_18', '직무태그_19', '직무태그_20', '직무태그_21', '직무태그_22', '직무태그_23',\n",
    "       '직무태그_24', '직무태그_25', '직무태그_26', '직무태그_27',  '정규직비정규직', '대학+전공', '직종+세부직종', '근무형태+직종',\n",
    "       '인서울여부', '마지막근무형태','자격증또는어학시험유무']\n",
    "pca_features = []"
   ]
  },
  {
   "cell_type": "code",
   "execution_count": 6,
   "metadata": {},
   "outputs": [],
   "source": [
    "X_train = X_train[numeric_features+categorical_features+pca_features]  # 순서 주의!!!\n",
    "X_test = X_test[numeric_features+categorical_features+pca_features]"
   ]
  },
  {
   "cell_type": "markdown",
   "metadata": {},
   "source": [
    "####  파이프라인 구축\n",
    "- 단계1) LGBM에서 튜닝한 값으로 전처리 파라미터 설정 (전처리 파이프라인으로만 구성)"
   ]
  },
  {
   "cell_type": "code",
   "execution_count": 7,
   "metadata": {},
   "outputs": [
    {
     "data": {
      "text/html": [
       "<style>#sk-container-id-1 {color: black;background-color: white;}#sk-container-id-1 pre{padding: 0;}#sk-container-id-1 div.sk-toggleable {background-color: white;}#sk-container-id-1 label.sk-toggleable__label {cursor: pointer;display: block;width: 100%;margin-bottom: 0;padding: 0.3em;box-sizing: border-box;text-align: center;}#sk-container-id-1 label.sk-toggleable__label-arrow:before {content: \"▸\";float: left;margin-right: 0.25em;color: #696969;}#sk-container-id-1 label.sk-toggleable__label-arrow:hover:before {color: black;}#sk-container-id-1 div.sk-estimator:hover label.sk-toggleable__label-arrow:before {color: black;}#sk-container-id-1 div.sk-toggleable__content {max-height: 0;max-width: 0;overflow: hidden;text-align: left;background-color: #f0f8ff;}#sk-container-id-1 div.sk-toggleable__content pre {margin: 0.2em;color: black;border-radius: 0.25em;background-color: #f0f8ff;}#sk-container-id-1 input.sk-toggleable__control:checked~div.sk-toggleable__content {max-height: 200px;max-width: 100%;overflow: auto;}#sk-container-id-1 input.sk-toggleable__control:checked~label.sk-toggleable__label-arrow:before {content: \"▾\";}#sk-container-id-1 div.sk-estimator input.sk-toggleable__control:checked~label.sk-toggleable__label {background-color: #d4ebff;}#sk-container-id-1 div.sk-label input.sk-toggleable__control:checked~label.sk-toggleable__label {background-color: #d4ebff;}#sk-container-id-1 input.sk-hidden--visually {border: 0;clip: rect(1px 1px 1px 1px);clip: rect(1px, 1px, 1px, 1px);height: 1px;margin: -1px;overflow: hidden;padding: 0;position: absolute;width: 1px;}#sk-container-id-1 div.sk-estimator {font-family: monospace;background-color: #f0f8ff;border: 1px dotted black;border-radius: 0.25em;box-sizing: border-box;margin-bottom: 0.5em;}#sk-container-id-1 div.sk-estimator:hover {background-color: #d4ebff;}#sk-container-id-1 div.sk-parallel-item::after {content: \"\";width: 100%;border-bottom: 1px solid gray;flex-grow: 1;}#sk-container-id-1 div.sk-label:hover label.sk-toggleable__label {background-color: #d4ebff;}#sk-container-id-1 div.sk-serial::before {content: \"\";position: absolute;border-left: 1px solid gray;box-sizing: border-box;top: 0;bottom: 0;left: 50%;z-index: 0;}#sk-container-id-1 div.sk-serial {display: flex;flex-direction: column;align-items: center;background-color: white;padding-right: 0.2em;padding-left: 0.2em;position: relative;}#sk-container-id-1 div.sk-item {position: relative;z-index: 1;}#sk-container-id-1 div.sk-parallel {display: flex;align-items: stretch;justify-content: center;background-color: white;position: relative;}#sk-container-id-1 div.sk-item::before, #sk-container-id-1 div.sk-parallel-item::before {content: \"\";position: absolute;border-left: 1px solid gray;box-sizing: border-box;top: 0;bottom: 0;left: 50%;z-index: -1;}#sk-container-id-1 div.sk-parallel-item {display: flex;flex-direction: column;z-index: 1;position: relative;background-color: white;}#sk-container-id-1 div.sk-parallel-item:first-child::after {align-self: flex-end;width: 50%;}#sk-container-id-1 div.sk-parallel-item:last-child::after {align-self: flex-start;width: 50%;}#sk-container-id-1 div.sk-parallel-item:only-child::after {width: 0;}#sk-container-id-1 div.sk-dashed-wrapped {border: 1px dashed gray;margin: 0 0.4em 0.5em 0.4em;box-sizing: border-box;padding-bottom: 0.4em;background-color: white;}#sk-container-id-1 div.sk-label label {font-family: monospace;font-weight: bold;display: inline-block;line-height: 1.2em;}#sk-container-id-1 div.sk-label-container {text-align: center;}#sk-container-id-1 div.sk-container {/* jupyter's `normalize.less` sets `[hidden] { display: none; }` but bootstrap.min.css set `[hidden] { display: none !important; }` so we also need the `!important` here to be able to override the default hidden behavior on the sphinx rendered scikit-learn.org. See: https://github.com/scikit-learn/scikit-learn/issues/21755 */display: inline-block !important;position: relative;}#sk-container-id-1 div.sk-text-repr-fallback {display: none;}</style><div id=\"sk-container-id-1\" class=\"sk-top-container\"><div class=\"sk-text-repr-fallback\"><pre>Pipeline(steps=[(&#x27;column&#x27;,\n",
       "                 ColumnTransformer(transformers=[(&#x27;num&#x27;,\n",
       "                                                  Pipeline(steps=[(&#x27;imputer&#x27;,\n",
       "                                                                   SimpleImputer()),\n",
       "                                                                  (&#x27;outlier&#x27;,\n",
       "                                                                   FunctionTransformer(func=&lt;function remove_outlier at 0x000002038E0010D0&gt;,\n",
       "                                                                                       kw_args={&#x27;q&#x27;: 0.05})),\n",
       "                                                                  (&#x27;scaler&#x27;,\n",
       "                                                                   PowerTransformer())]),\n",
       "                                                  [&#x27;대학성적&#x27;, &#x27;근무개월&#x27;, &#x27;근무개월log&#x27;,\n",
       "                                                   &#x27;대학랭킹&#x27;, &#x27;출신대학수치&#x27;,\n",
       "                                                   &#x27;출신대학수치*대학성적&#x27;, &#x27;대학_경력_sum&#x27;,\n",
       "                                                   &#x27;대학_경력_mean&#x27;,\n",
       "                                                   &#x27;대학_경력_variance&#x27;,\n",
       "                                                   &#x27;대학_경력_sta...\n",
       "                                                                                  handle_unknown=&#x27;use_encoded_value&#x27;,\n",
       "                                                                                  unknown_value=99999))]),\n",
       "                                                  [&#x27;직종&#x27;, &#x27;세부직종&#x27;, &#x27;직무태그&#x27;, &#x27;근무경력&#x27;,\n",
       "                                                   &#x27;근무형태&#x27;, &#x27;근무지역&#x27;, &#x27;출신대학&#x27;,\n",
       "                                                   &#x27;대학전공&#x27;, &#x27;어학시험&#x27;, &#x27;자격증&#x27;,\n",
       "                                                   &#x27;근무지역_1&#x27;, &#x27;근무지역_2&#x27;, &#x27;근무지역_3&#x27;,\n",
       "                                                   &#x27;직무태그_1&#x27;, &#x27;직무태그_2&#x27;, &#x27;직무태그_3&#x27;,\n",
       "                                                   &#x27;직무태그_4&#x27;, &#x27;직무태그_5&#x27;, &#x27;직무태그_6&#x27;,\n",
       "                                                   &#x27;직무태그_7&#x27;, &#x27;직무태그_8&#x27;, &#x27;직무태그_9&#x27;,\n",
       "                                                   &#x27;직무태그_10&#x27;, &#x27;직무태그_11&#x27;,\n",
       "                                                   &#x27;직무태그_12&#x27;, &#x27;직무태그_13&#x27;,\n",
       "                                                   &#x27;직무태그_14&#x27;, &#x27;직무태그_15&#x27;,\n",
       "                                                   &#x27;직무태그_16&#x27;, &#x27;직무태그_17&#x27;, ...])])),\n",
       "                (&#x27;selector&#x27;, SelectPercentile(percentile=100))])</pre><b>In a Jupyter environment, please rerun this cell to show the HTML representation or trust the notebook. <br />On GitHub, the HTML representation is unable to render, please try loading this page with nbviewer.org.</b></div><div class=\"sk-container\" hidden><div class=\"sk-item sk-dashed-wrapped\"><div class=\"sk-label-container\"><div class=\"sk-label sk-toggleable\"><input class=\"sk-toggleable__control sk-hidden--visually\" id=\"sk-estimator-id-1\" type=\"checkbox\" ><label for=\"sk-estimator-id-1\" class=\"sk-toggleable__label sk-toggleable__label-arrow\">Pipeline</label><div class=\"sk-toggleable__content\"><pre>Pipeline(steps=[(&#x27;column&#x27;,\n",
       "                 ColumnTransformer(transformers=[(&#x27;num&#x27;,\n",
       "                                                  Pipeline(steps=[(&#x27;imputer&#x27;,\n",
       "                                                                   SimpleImputer()),\n",
       "                                                                  (&#x27;outlier&#x27;,\n",
       "                                                                   FunctionTransformer(func=&lt;function remove_outlier at 0x000002038E0010D0&gt;,\n",
       "                                                                                       kw_args={&#x27;q&#x27;: 0.05})),\n",
       "                                                                  (&#x27;scaler&#x27;,\n",
       "                                                                   PowerTransformer())]),\n",
       "                                                  [&#x27;대학성적&#x27;, &#x27;근무개월&#x27;, &#x27;근무개월log&#x27;,\n",
       "                                                   &#x27;대학랭킹&#x27;, &#x27;출신대학수치&#x27;,\n",
       "                                                   &#x27;출신대학수치*대학성적&#x27;, &#x27;대학_경력_sum&#x27;,\n",
       "                                                   &#x27;대학_경력_mean&#x27;,\n",
       "                                                   &#x27;대학_경력_variance&#x27;,\n",
       "                                                   &#x27;대학_경력_sta...\n",
       "                                                                                  handle_unknown=&#x27;use_encoded_value&#x27;,\n",
       "                                                                                  unknown_value=99999))]),\n",
       "                                                  [&#x27;직종&#x27;, &#x27;세부직종&#x27;, &#x27;직무태그&#x27;, &#x27;근무경력&#x27;,\n",
       "                                                   &#x27;근무형태&#x27;, &#x27;근무지역&#x27;, &#x27;출신대학&#x27;,\n",
       "                                                   &#x27;대학전공&#x27;, &#x27;어학시험&#x27;, &#x27;자격증&#x27;,\n",
       "                                                   &#x27;근무지역_1&#x27;, &#x27;근무지역_2&#x27;, &#x27;근무지역_3&#x27;,\n",
       "                                                   &#x27;직무태그_1&#x27;, &#x27;직무태그_2&#x27;, &#x27;직무태그_3&#x27;,\n",
       "                                                   &#x27;직무태그_4&#x27;, &#x27;직무태그_5&#x27;, &#x27;직무태그_6&#x27;,\n",
       "                                                   &#x27;직무태그_7&#x27;, &#x27;직무태그_8&#x27;, &#x27;직무태그_9&#x27;,\n",
       "                                                   &#x27;직무태그_10&#x27;, &#x27;직무태그_11&#x27;,\n",
       "                                                   &#x27;직무태그_12&#x27;, &#x27;직무태그_13&#x27;,\n",
       "                                                   &#x27;직무태그_14&#x27;, &#x27;직무태그_15&#x27;,\n",
       "                                                   &#x27;직무태그_16&#x27;, &#x27;직무태그_17&#x27;, ...])])),\n",
       "                (&#x27;selector&#x27;, SelectPercentile(percentile=100))])</pre></div></div></div><div class=\"sk-serial\"><div class=\"sk-item sk-dashed-wrapped\"><div class=\"sk-label-container\"><div class=\"sk-label sk-toggleable\"><input class=\"sk-toggleable__control sk-hidden--visually\" id=\"sk-estimator-id-2\" type=\"checkbox\" ><label for=\"sk-estimator-id-2\" class=\"sk-toggleable__label sk-toggleable__label-arrow\">column: ColumnTransformer</label><div class=\"sk-toggleable__content\"><pre>ColumnTransformer(transformers=[(&#x27;num&#x27;,\n",
       "                                 Pipeline(steps=[(&#x27;imputer&#x27;, SimpleImputer()),\n",
       "                                                 (&#x27;outlier&#x27;,\n",
       "                                                  FunctionTransformer(func=&lt;function remove_outlier at 0x000002038E0010D0&gt;,\n",
       "                                                                      kw_args={&#x27;q&#x27;: 0.05})),\n",
       "                                                 (&#x27;scaler&#x27;,\n",
       "                                                  PowerTransformer())]),\n",
       "                                 [&#x27;대학성적&#x27;, &#x27;근무개월&#x27;, &#x27;근무개월log&#x27;, &#x27;대학랭킹&#x27;, &#x27;출신대학수치&#x27;,\n",
       "                                  &#x27;출신대학수치*대학성적&#x27;, &#x27;대학_경력_sum&#x27;, &#x27;대학_경력_mean&#x27;,\n",
       "                                  &#x27;대학_경력_variance&#x27;, &#x27;대학_경력_standard deviation&#x27;,\n",
       "                                  &#x27;직종_경력_sum...\n",
       "                                                  OrdinalEncoder(dtype=&lt;class &#x27;object&#x27;&gt;,\n",
       "                                                                 handle_unknown=&#x27;use_encoded_value&#x27;,\n",
       "                                                                 unknown_value=99999))]),\n",
       "                                 [&#x27;직종&#x27;, &#x27;세부직종&#x27;, &#x27;직무태그&#x27;, &#x27;근무경력&#x27;, &#x27;근무형태&#x27;, &#x27;근무지역&#x27;,\n",
       "                                  &#x27;출신대학&#x27;, &#x27;대학전공&#x27;, &#x27;어학시험&#x27;, &#x27;자격증&#x27;, &#x27;근무지역_1&#x27;,\n",
       "                                  &#x27;근무지역_2&#x27;, &#x27;근무지역_3&#x27;, &#x27;직무태그_1&#x27;, &#x27;직무태그_2&#x27;,\n",
       "                                  &#x27;직무태그_3&#x27;, &#x27;직무태그_4&#x27;, &#x27;직무태그_5&#x27;, &#x27;직무태그_6&#x27;,\n",
       "                                  &#x27;직무태그_7&#x27;, &#x27;직무태그_8&#x27;, &#x27;직무태그_9&#x27;, &#x27;직무태그_10&#x27;,\n",
       "                                  &#x27;직무태그_11&#x27;, &#x27;직무태그_12&#x27;, &#x27;직무태그_13&#x27;, &#x27;직무태그_14&#x27;,\n",
       "                                  &#x27;직무태그_15&#x27;, &#x27;직무태그_16&#x27;, &#x27;직무태그_17&#x27;, ...])])</pre></div></div></div><div class=\"sk-parallel\"><div class=\"sk-parallel-item\"><div class=\"sk-item\"><div class=\"sk-label-container\"><div class=\"sk-label sk-toggleable\"><input class=\"sk-toggleable__control sk-hidden--visually\" id=\"sk-estimator-id-3\" type=\"checkbox\" ><label for=\"sk-estimator-id-3\" class=\"sk-toggleable__label sk-toggleable__label-arrow\">num</label><div class=\"sk-toggleable__content\"><pre>[&#x27;대학성적&#x27;, &#x27;근무개월&#x27;, &#x27;근무개월log&#x27;, &#x27;대학랭킹&#x27;, &#x27;출신대학수치&#x27;, &#x27;출신대학수치*대학성적&#x27;, &#x27;대학_경력_sum&#x27;, &#x27;대학_경력_mean&#x27;, &#x27;대학_경력_variance&#x27;, &#x27;대학_경력_standard deviation&#x27;, &#x27;직종_경력_sum&#x27;, &#x27;직종_경력_mean&#x27;, &#x27;직종_경력_variance&#x27;, &#x27;직종_경력_standard deviation&#x27;, &#x27;세부직종_경력_sum&#x27;, &#x27;세부직종_경력_mean&#x27;, &#x27;세부직종_경력_variance&#x27;, &#x27;세부직종_경력_standard deviation&#x27;, &#x27;근무지역_1_경력_sum&#x27;, &#x27;근무지역_1_경력_mean&#x27;, &#x27;근무지역_1_경력_variance&#x27;, &#x27;근무지역_1_경력_standard deviation&#x27;, &#x27;근무지역_2_경력_sum&#x27;, &#x27;근무지역_2_경력_mean&#x27;, &#x27;근무지역_2_경력_variance&#x27;, &#x27;근무지역_2_경력_standard deviation&#x27;, &#x27;근무지역_3_경력_sum&#x27;, &#x27;근무지역_3_경력_mean&#x27;, &#x27;근무지역_3_경력_variance&#x27;, &#x27;근무지역_3_경력_standard deviation&#x27;, &#x27;마지막근무형태_경력_sum&#x27;, &#x27;마지막근무형태_경력_mean&#x27;, &#x27;마지막근무형태_경력_variance&#x27;, &#x27;마지막근무형태_경력_standard deviation&#x27;, &#x27;직무태그_1_경력_sum&#x27;, &#x27;직무태그_1_경력_mean&#x27;, &#x27;직무태그_1_경력_variance&#x27;, &#x27;직무태그_1_경력_standard deviation&#x27;, &#x27;직무태그개수&#x27;, &#x27;대학성적+근무개월&#x27;]</pre></div></div></div><div class=\"sk-serial\"><div class=\"sk-item\"><div class=\"sk-serial\"><div class=\"sk-item\"><div class=\"sk-estimator sk-toggleable\"><input class=\"sk-toggleable__control sk-hidden--visually\" id=\"sk-estimator-id-4\" type=\"checkbox\" ><label for=\"sk-estimator-id-4\" class=\"sk-toggleable__label sk-toggleable__label-arrow\">SimpleImputer</label><div class=\"sk-toggleable__content\"><pre>SimpleImputer()</pre></div></div></div><div class=\"sk-item\"><div class=\"sk-estimator sk-toggleable\"><input class=\"sk-toggleable__control sk-hidden--visually\" id=\"sk-estimator-id-5\" type=\"checkbox\" ><label for=\"sk-estimator-id-5\" class=\"sk-toggleable__label sk-toggleable__label-arrow\">FunctionTransformer</label><div class=\"sk-toggleable__content\"><pre>FunctionTransformer(func=&lt;function remove_outlier at 0x000002038E0010D0&gt;,\n",
       "                    kw_args={&#x27;q&#x27;: 0.05})</pre></div></div></div><div class=\"sk-item\"><div class=\"sk-estimator sk-toggleable\"><input class=\"sk-toggleable__control sk-hidden--visually\" id=\"sk-estimator-id-6\" type=\"checkbox\" ><label for=\"sk-estimator-id-6\" class=\"sk-toggleable__label sk-toggleable__label-arrow\">PowerTransformer</label><div class=\"sk-toggleable__content\"><pre>PowerTransformer()</pre></div></div></div></div></div></div></div></div><div class=\"sk-parallel-item\"><div class=\"sk-item\"><div class=\"sk-label-container\"><div class=\"sk-label sk-toggleable\"><input class=\"sk-toggleable__control sk-hidden--visually\" id=\"sk-estimator-id-7\" type=\"checkbox\" ><label for=\"sk-estimator-id-7\" class=\"sk-toggleable__label sk-toggleable__label-arrow\">cat</label><div class=\"sk-toggleable__content\"><pre>[&#x27;직종&#x27;, &#x27;세부직종&#x27;, &#x27;직무태그&#x27;, &#x27;근무경력&#x27;, &#x27;근무형태&#x27;, &#x27;근무지역&#x27;, &#x27;출신대학&#x27;, &#x27;대학전공&#x27;, &#x27;어학시험&#x27;, &#x27;자격증&#x27;, &#x27;근무지역_1&#x27;, &#x27;근무지역_2&#x27;, &#x27;근무지역_3&#x27;, &#x27;직무태그_1&#x27;, &#x27;직무태그_2&#x27;, &#x27;직무태그_3&#x27;, &#x27;직무태그_4&#x27;, &#x27;직무태그_5&#x27;, &#x27;직무태그_6&#x27;, &#x27;직무태그_7&#x27;, &#x27;직무태그_8&#x27;, &#x27;직무태그_9&#x27;, &#x27;직무태그_10&#x27;, &#x27;직무태그_11&#x27;, &#x27;직무태그_12&#x27;, &#x27;직무태그_13&#x27;, &#x27;직무태그_14&#x27;, &#x27;직무태그_15&#x27;, &#x27;직무태그_16&#x27;, &#x27;직무태그_17&#x27;, &#x27;직무태그_18&#x27;, &#x27;직무태그_19&#x27;, &#x27;직무태그_20&#x27;, &#x27;직무태그_21&#x27;, &#x27;직무태그_22&#x27;, &#x27;직무태그_23&#x27;, &#x27;직무태그_24&#x27;, &#x27;직무태그_25&#x27;, &#x27;직무태그_26&#x27;, &#x27;직무태그_27&#x27;, &#x27;정규직비정규직&#x27;, &#x27;대학+전공&#x27;, &#x27;직종+세부직종&#x27;, &#x27;근무형태+직종&#x27;, &#x27;인서울여부&#x27;, &#x27;마지막근무형태&#x27;, &#x27;자격증또는어학시험유무&#x27;]</pre></div></div></div><div class=\"sk-serial\"><div class=\"sk-item\"><div class=\"sk-serial\"><div class=\"sk-item\"><div class=\"sk-estimator sk-toggleable\"><input class=\"sk-toggleable__control sk-hidden--visually\" id=\"sk-estimator-id-8\" type=\"checkbox\" ><label for=\"sk-estimator-id-8\" class=\"sk-toggleable__label sk-toggleable__label-arrow\">SimpleImputer</label><div class=\"sk-toggleable__content\"><pre>SimpleImputer(strategy=&#x27;most_frequent&#x27;)</pre></div></div></div><div class=\"sk-item\"><div class=\"sk-estimator sk-toggleable\"><input class=\"sk-toggleable__control sk-hidden--visually\" id=\"sk-estimator-id-9\" type=\"checkbox\" ><label for=\"sk-estimator-id-9\" class=\"sk-toggleable__label sk-toggleable__label-arrow\">OrdinalEncoder</label><div class=\"sk-toggleable__content\"><pre>OrdinalEncoder(dtype=&lt;class &#x27;object&#x27;&gt;, handle_unknown=&#x27;use_encoded_value&#x27;,\n",
       "               unknown_value=99999)</pre></div></div></div></div></div></div></div></div></div></div><div class=\"sk-item\"><div class=\"sk-estimator sk-toggleable\"><input class=\"sk-toggleable__control sk-hidden--visually\" id=\"sk-estimator-id-10\" type=\"checkbox\" ><label for=\"sk-estimator-id-10\" class=\"sk-toggleable__label sk-toggleable__label-arrow\">SelectPercentile</label><div class=\"sk-toggleable__content\"><pre>SelectPercentile(percentile=100)</pre></div></div></div></div></div></div></div>"
      ],
      "text/plain": [
       "Pipeline(steps=[('column',\n",
       "                 ColumnTransformer(transformers=[('num',\n",
       "                                                  Pipeline(steps=[('imputer',\n",
       "                                                                   SimpleImputer()),\n",
       "                                                                  ('outlier',\n",
       "                                                                   FunctionTransformer(func=<function remove_outlier at 0x000002038E0010D0>,\n",
       "                                                                                       kw_args={'q': 0.05})),\n",
       "                                                                  ('scaler',\n",
       "                                                                   PowerTransformer())]),\n",
       "                                                  ['대학성적', '근무개월', '근무개월log',\n",
       "                                                   '대학랭킹', '출신대학수치',\n",
       "                                                   '출신대학수치*대학성적', '대학_경력_sum',\n",
       "                                                   '대학_경력_mean',\n",
       "                                                   '대학_경력_variance',\n",
       "                                                   '대학_경력_sta...\n",
       "                                                                                  handle_unknown='use_encoded_value',\n",
       "                                                                                  unknown_value=99999))]),\n",
       "                                                  ['직종', '세부직종', '직무태그', '근무경력',\n",
       "                                                   '근무형태', '근무지역', '출신대학',\n",
       "                                                   '대학전공', '어학시험', '자격증',\n",
       "                                                   '근무지역_1', '근무지역_2', '근무지역_3',\n",
       "                                                   '직무태그_1', '직무태그_2', '직무태그_3',\n",
       "                                                   '직무태그_4', '직무태그_5', '직무태그_6',\n",
       "                                                   '직무태그_7', '직무태그_8', '직무태그_9',\n",
       "                                                   '직무태그_10', '직무태그_11',\n",
       "                                                   '직무태그_12', '직무태그_13',\n",
       "                                                   '직무태그_14', '직무태그_15',\n",
       "                                                   '직무태그_16', '직무태그_17', ...])])),\n",
       "                ('selector', SelectPercentile(percentile=100))])"
      ]
     },
     "execution_count": 7,
     "metadata": {},
     "output_type": "execute_result"
    }
   ],
   "source": [
    "def remove_outlier(X, q=0.05):  \n",
    "    df = pd.DataFrame(X)\n",
    "    return df.apply(lambda x: x.clip(x.quantile(q), x.quantile(1-q)), axis=0).values\n",
    "\n",
    "numeric_transformer = Pipeline(\n",
    "    steps=[\n",
    "        (\"imputer\", SimpleImputer(strategy=\"mean\")),\n",
    "        (\"outlier\", FunctionTransformer(remove_outlier, kw_args={'q':P})), # 함수를 전처리기로 변환하여 sklearn에 없는 새로운 전처리기를 만듬\n",
    "        (\"scaler\", PowerTransformer()),\n",
    "    ]\n",
    ")\n",
    "\n",
    "categorical_transformer = Pipeline(\n",
    "    steps=[\n",
    "        (\"imputer\", SimpleImputer(strategy=\"most_frequent\")), \n",
    "        (\"encoder\", OrdinalEncoder(handle_unknown='use_encoded_value', unknown_value=99999, dtype=np.object)),\n",
    "    ]\n",
    ")\n",
    "\n",
    "\n",
    "\n",
    "column_transformer = ColumnTransformer(\n",
    "    transformers=[\n",
    "        (\"num\", numeric_transformer, numeric_features),\n",
    "        (\"cat\", categorical_transformer, categorical_features),\n",
    "\n",
    "    ]\n",
    ")\n",
    "\n",
    "preprocessor = Pipeline(\n",
    "    steps=[\n",
    "        (\"column\", column_transformer), \n",
    "        (\"selector\", SelectPercentile(percentile=100)),\n",
    "        #(\"dataframe\", FunctionTransformer(lambda x: pd.DataFrame(x, columns=numeric_features+categorical_features))),\n",
    "    ]\n",
    ")\n",
    "\n",
    "set_config(display=\"diagram\")  # To view the text pipeline, change to display='text'.\n",
    "preprocessor"
   ]
  },
  {
   "cell_type": "markdown",
   "metadata": {},
   "source": [
    "- 단계2) 전처리 파이프라인 실행 & Output을 데이터프레임으로 변환"
   ]
  },
  {
   "cell_type": "markdown",
   "metadata": {},
   "source": [
    "*feature selection된 피쳐들만 이름다시지정해서 저장해줌*"
   ]
  },
  {
   "cell_type": "code",
   "execution_count": 8,
   "metadata": {},
   "outputs": [],
   "source": [
    "preprocessor.fit(X_train, y_train)\n",
    "mask = preprocessor.steps[-1][-1].get_support(); new_features = X_train.columns[mask]\n",
    "\n",
    "X_train = pd.DataFrame(preprocessor.transform(X_train), columns=new_features)\n",
    "X_test = pd.DataFrame(preprocessor.transform(X_test), columns=new_features)\n",
    "\n",
    "numeric_features = list(set(numeric_features) & set(new_features))\n",
    "categorical_features = list(set(categorical_features) & set(new_features))"
   ]
  },
  {
   "cell_type": "markdown",
   "metadata": {},
   "source": [
    "#### CatBoost 모형 생성\n",
    "- No tuning, early_stopping 사용 (tuning한 모델에 비해 성능이 떨어지지 않음)"
   ]
  },
  {
   "cell_type": "code",
   "execution_count": 11,
   "metadata": {},
   "outputs": [],
   "source": [
    "import random\n",
    "import optuna\n",
    "from optuna.samplers import TPESampler"
   ]
  },
  {
   "cell_type": "code",
   "execution_count": 18,
   "metadata": {},
   "outputs": [],
   "source": [
    "def objective(trial):\n",
    "  param = {\n",
    "      \"random_state\":42,\n",
    "      'learning_rate' : trial.suggest_loguniform('learning_rate', 0.01, 0.05),\n",
    "      'bagging_temperature' :trial.suggest_loguniform('bagging_temperature', 0.01, 100.00),\n",
    "      \"n_estimators\":trial.suggest_int(\"n_estimators\", 500, 5000),\n",
    "      \"max_depth\":trial.suggest_int(\"max_depth\", 4, 16),\n",
    "      'random_strength' :trial.suggest_int('random_strength', 0, 100),\n",
    "      \"colsample_bylevel\":trial.suggest_float(\"colsample_bylevel\", 0.4, 1.0),\n",
    "      \"l2_leaf_reg\":trial.suggest_float(\"l2_leaf_reg\",1e-8,3e-5),\n",
    "      \"min_child_samples\": trial.suggest_int(\"min_child_samples\", 5, 100),\n",
    "      \"max_bin\": trial.suggest_int(\"max_bin\", 200, 500),\n",
    "      'od_type': trial.suggest_categorical('od_type', ['IncToDec', 'Iter']),\n",
    "  }\n",
    "  train_X, X_valid, train_y, y_valid = train_test_split(X_train,y_train,test_size=0.2)\n",
    "  cat_features = categorical_features\n",
    "  cat = CatBoostRegressor(**param)\n",
    "  cat.fit(train_X, train_y,\n",
    "          eval_set=[(train_X, train_y), (X_valid,y_valid)],\n",
    "          early_stopping_rounds=35,cat_features=cat_features,\n",
    "          verbose=100)\n",
    "  cat_pred = cat.predict(X_valid)\n",
    "  rmse = np.sqrt(mean_squared_error(y_valid, cat_pred))\n",
    "\n",
    "  return rmse"
   ]
  },
  {
   "cell_type": "code",
   "execution_count": 19,
   "metadata": {},
   "outputs": [
    {
     "name": "stderr",
     "output_type": "stream",
     "text": [
      "\u001b[32m[I 2022-11-25 01:51:38,391]\u001b[0m A new study created in memory with name: cat_parameter_opt\u001b[0m\n"
     ]
    },
    {
     "name": "stdout",
     "output_type": "stream",
     "text": [
      "0:\tlearn: 1225.2855673\ttest: 1225.1418037\ttest1: 1229.1186895\tbest: 1229.1186895 (0)\ttotal: 375ms\tremaining: 23m 43s\n",
      "100:\tlearn: 891.7742568\ttest: 882.7242042\ttest1: 910.6067434\tbest: 910.6067434 (100)\ttotal: 17.4s\tremaining: 10m 35s\n",
      "200:\tlearn: 817.7273892\ttest: 816.8152199\ttest1: 859.5953162\tbest: 859.5953162 (200)\ttotal: 36.5s\tremaining: 10m 53s\n",
      "300:\tlearn: 782.1553809\ttest: 792.2337450\ttest1: 842.8879248\tbest: 842.8879248 (300)\ttotal: 55.9s\tremaining: 10m 49s\n",
      "400:\tlearn: 760.0145923\ttest: 779.1397633\ttest1: 836.0156206\tbest: 836.0156206 (400)\ttotal: 1m 13s\tremaining: 10m 24s\n",
      "500:\tlearn: 738.1471491\ttest: 768.5198799\ttest1: 830.8666933\tbest: 830.8666933 (500)\ttotal: 1m 32s\tremaining: 10m 9s\n",
      "600:\tlearn: 705.3943964\ttest: 755.1691217\ttest1: 824.8788819\tbest: 824.8788819 (600)\ttotal: 1m 54s\tremaining: 10m 7s\n",
      "700:\tlearn: 630.6354901\ttest: 727.3925495\ttest1: 817.2020485\tbest: 817.2020485 (700)\ttotal: 2m 20s\tremaining: 10m 18s\n",
      "800:\tlearn: 574.2238026\ttest: 701.8400190\ttest1: 812.4182133\tbest: 812.4182133 (800)\ttotal: 2m 47s\tremaining: 10m 25s\n",
      "900:\tlearn: 535.3488477\ttest: 685.7477868\ttest1: 810.0821344\tbest: 810.0821344 (900)\ttotal: 3m 15s\tremaining: 10m 26s\n",
      "1000:\tlearn: 503.6973004\ttest: 674.0046349\ttest1: 808.2137913\tbest: 808.2137913 (1000)\ttotal: 3m 48s\tremaining: 10m 37s\n",
      "1100:\tlearn: 475.8702088\ttest: 664.3210085\ttest1: 806.6040443\tbest: 806.5893529 (1099)\ttotal: 4m 16s\tremaining: 10m 28s\n",
      "1200:\tlearn: 445.7222281\ttest: 655.3568227\ttest1: 806.2202786\tbest: 806.1163691 (1190)\ttotal: 4m 46s\tremaining: 10m 17s\n",
      "1300:\tlearn: 419.3414717\ttest: 647.7025375\ttest1: 805.0201606\tbest: 804.9704182 (1293)\ttotal: 5m 17s\tremaining: 10m 8s\n",
      "1400:\tlearn: 394.4607144\ttest: 640.4370791\ttest1: 804.4327175\tbest: 804.3699784 (1391)\ttotal: 5m 56s\tremaining: 10m 8s\n",
      "1500:\tlearn: 372.0525637\ttest: 634.3137928\ttest1: 803.7556798\tbest: 803.6988865 (1497)\ttotal: 6m 27s\tremaining: 9m 51s\n",
      "1600:\tlearn: 349.8407830\ttest: 628.3972214\ttest1: 803.3556484\tbest: 803.3297358 (1569)\ttotal: 6m 54s\tremaining: 9m 28s\n",
      "Stopped by overfitting detector  (35 iterations wait)\n",
      "\n",
      "bestTest = 803.3297358\n",
      "bestIteration = 1569\n",
      "\n",
      "Shrink model to first 1570 iterations.\n"
     ]
    },
    {
     "name": "stderr",
     "output_type": "stream",
     "text": [
      "\u001b[32m[I 2022-11-25 01:58:35,696]\u001b[0m Trial 0 finished with value: 803.3297358285889 and parameters: {'learning_rate': 0.018272261776066247, 'bagging_temperature': 63.512210106407046, 'n_estimators': 3794, 'max_depth': 11, 'random_strength': 15, 'colsample_bylevel': 0.49359671220172163, 'l2_leaf_reg': 1.7519275289243016e-06, 'min_child_samples': 88, 'max_bin': 380, 'od_type': 'IncToDec'}. Best is trial 0 with value: 803.3297358285889.\u001b[0m\n"
     ]
    },
    {
     "name": "stdout",
     "output_type": "stream",
     "text": [
      "0:\tlearn: 1215.4931293\ttest: 1215.0187936\ttest1: 1243.7598151\tbest: 1243.7598151 (0)\ttotal: 68.6ms\tremaining: 1m 39s\n",
      "100:\tlearn: 867.8932505\ttest: 836.7796078\ttest1: 884.0400417\tbest: 884.0400417 (100)\ttotal: 7.36s\tremaining: 1m 38s\n",
      "200:\tlearn: 840.1847825\ttest: 806.1234162\ttest1: 863.0815214\tbest: 863.0815214 (200)\ttotal: 14.8s\tremaining: 1m 32s\n",
      "300:\tlearn: 802.8402034\ttest: 774.6595235\ttest1: 842.9142025\tbest: 842.9142025 (300)\ttotal: 22.7s\tremaining: 1m 27s\n",
      "400:\tlearn: 781.3703645\ttest: 758.4176672\ttest1: 835.6716053\tbest: 835.6716053 (400)\ttotal: 31.1s\tremaining: 1m 21s\n",
      "500:\tlearn: 761.8730727\ttest: 742.0495896\ttest1: 830.4136887\tbest: 830.4136887 (500)\ttotal: 39.3s\tremaining: 1m 14s\n",
      "600:\tlearn: 745.5082846\ttest: 728.5453468\ttest1: 826.7767621\tbest: 826.7713879 (598)\ttotal: 47.9s\tremaining: 1m 8s\n",
      "700:\tlearn: 730.5918929\ttest: 720.1320375\ttest1: 823.9658292\tbest: 823.9191557 (697)\ttotal: 56.4s\tremaining: 1m\n",
      "800:\tlearn: 717.6145067\ttest: 711.2897719\ttest1: 822.2885142\tbest: 822.1417589 (792)\ttotal: 1m 5s\tremaining: 53.3s\n",
      "900:\tlearn: 704.2647739\ttest: 704.6011503\ttest1: 821.5671306\tbest: 821.5671306 (900)\ttotal: 1m 14s\tremaining: 45.6s\n",
      "Stopped by overfitting detector  (35 iterations wait)\n",
      "\n",
      "bestTest = 821.2042671\n",
      "bestIteration = 905\n",
      "\n",
      "Shrink model to first 906 iterations.\n"
     ]
    },
    {
     "name": "stderr",
     "output_type": "stream",
     "text": [
      "\u001b[32m[I 2022-11-25 01:59:54,288]\u001b[0m Trial 1 finished with value: 821.2042671074231 and parameters: {'learning_rate': 0.04763628595029446, 'bagging_temperature': 21.368329072358772, 'n_estimators': 1455, 'max_depth': 6, 'random_strength': 18, 'colsample_bylevel': 0.5825453457757226, 'l2_leaf_reg': 1.5747445384650815e-05, 'min_child_samples': 46, 'max_bin': 287, 'od_type': 'IncToDec'}. Best is trial 0 with value: 803.3297358285889.\u001b[0m\n"
     ]
    },
    {
     "name": "stdout",
     "output_type": "stream",
     "text": [
      "0:\tlearn: 1228.4927424\ttest: 1228.1718231\ttest1: 1227.0026782\tbest: 1227.0026782 (0)\ttotal: 2.55s\tremaining: 1h 48m 31s\n",
      "100:\tlearn: 878.8219261\ttest: 888.3790865\ttest1: 945.6759415\tbest: 945.6759415 (100)\ttotal: 2m 28s\tremaining: 1h 14s\n",
      "200:\tlearn: 773.4371524\ttest: 801.8713525\ttest1: 888.4299337\tbest: 888.4299337 (200)\ttotal: 5m 15s\tremaining: 1h 1m 26s\n",
      "300:\tlearn: 731.9362126\ttest: 775.8307348\ttest1: 873.6908187\tbest: 873.6908187 (300)\ttotal: 7m 29s\tremaining: 55m 59s\n",
      "400:\tlearn: 703.5520237\ttest: 761.1329824\ttest1: 867.1703677\tbest: 867.1703677 (400)\ttotal: 9m 23s\tremaining: 50m 20s\n",
      "500:\tlearn: 675.9622257\ttest: 748.4416752\ttest1: 862.9281806\tbest: 862.9281806 (500)\ttotal: 11m 42s\tremaining: 47m 57s\n"
     ]
    },
    {
     "name": "stderr",
     "output_type": "stream",
     "text": [
      "\u001b[33m[W 2022-11-25 02:13:35,652]\u001b[0m Trial 2 failed because of the following error: KeyboardInterrupt('')\u001b[0m\n",
      "Traceback (most recent call last):\n",
      "  File \"C:\\Users\\elisha\\anaconda3\\lib\\site-packages\\optuna\\study\\_optimize.py\", line 196, in _run_trial\n",
      "    value_or_values = func(trial)\n",
      "  File \"C:\\Users\\elisha\\AppData\\Local\\Temp/ipykernel_21356/895993563.py\", line 18, in objective\n",
      "    cat.fit(train_X, train_y,\n",
      "  File \"C:\\Users\\elisha\\anaconda3\\lib\\site-packages\\catboost\\core.py\", line 5730, in fit\n",
      "    return self._fit(X, y, cat_features, text_features, embedding_features, None, sample_weight, None, None, None, None, baseline,\n",
      "  File \"C:\\Users\\elisha\\anaconda3\\lib\\site-packages\\catboost\\core.py\", line 2355, in _fit\n",
      "    self._train(\n",
      "  File \"C:\\Users\\elisha\\anaconda3\\lib\\site-packages\\catboost\\core.py\", line 1759, in _train\n",
      "    self._object._train(train_pool, test_pool, params, allow_clear_pool, init_model._object if init_model else None)\n",
      "  File \"_catboost.pyx\", line 4623, in _catboost._CatBoost._train\n",
      "  File \"_catboost.pyx\", line 4672, in _catboost._CatBoost._train\n",
      "KeyboardInterrupt\n"
     ]
    },
    {
     "ename": "KeyboardInterrupt",
     "evalue": "",
     "output_type": "error",
     "traceback": [
      "\u001b[1;31m---------------------------------------------------------------------------\u001b[0m",
      "\u001b[1;31mKeyboardInterrupt\u001b[0m                         Traceback (most recent call last)",
      "\u001b[1;32m~\\AppData\\Local\\Temp/ipykernel_21356/3040468546.py\u001b[0m in \u001b[0;36m<module>\u001b[1;34m\u001b[0m\n\u001b[0;32m      6\u001b[0m )\n\u001b[0;32m      7\u001b[0m \u001b[1;33m\u001b[0m\u001b[0m\n\u001b[1;32m----> 8\u001b[1;33m \u001b[0mstudy\u001b[0m\u001b[1;33m.\u001b[0m\u001b[0moptimize\u001b[0m\u001b[1;33m(\u001b[0m\u001b[0mobjective\u001b[0m\u001b[1;33m,\u001b[0m \u001b[0mn_trials\u001b[0m\u001b[1;33m=\u001b[0m\u001b[1;36m10\u001b[0m\u001b[1;33m)\u001b[0m\u001b[1;33m\u001b[0m\u001b[1;33m\u001b[0m\u001b[0m\n\u001b[0m\u001b[0;32m      9\u001b[0m \u001b[0mprint\u001b[0m\u001b[1;33m(\u001b[0m\u001b[1;34m\"Best Score:\"\u001b[0m\u001b[1;33m,\u001b[0m\u001b[0mstudy\u001b[0m\u001b[1;33m.\u001b[0m\u001b[0mbest_value\u001b[0m\u001b[1;33m)\u001b[0m\u001b[1;33m\u001b[0m\u001b[1;33m\u001b[0m\u001b[0m\n\u001b[0;32m     10\u001b[0m \u001b[0mprint\u001b[0m\u001b[1;33m(\u001b[0m\u001b[1;34m\"Best trial\"\u001b[0m\u001b[1;33m,\u001b[0m\u001b[0mstudy\u001b[0m\u001b[1;33m.\u001b[0m\u001b[0mbest_trial\u001b[0m\u001b[1;33m.\u001b[0m\u001b[0mparams\u001b[0m\u001b[1;33m)\u001b[0m\u001b[1;33m\u001b[0m\u001b[1;33m\u001b[0m\u001b[0m\n",
      "\u001b[1;32m~\\anaconda3\\lib\\site-packages\\optuna\\study\\study.py\u001b[0m in \u001b[0;36moptimize\u001b[1;34m(self, func, n_trials, timeout, n_jobs, catch, callbacks, gc_after_trial, show_progress_bar)\u001b[0m\n\u001b[0;32m    417\u001b[0m         \"\"\"\n\u001b[0;32m    418\u001b[0m \u001b[1;33m\u001b[0m\u001b[0m\n\u001b[1;32m--> 419\u001b[1;33m         _optimize(\n\u001b[0m\u001b[0;32m    420\u001b[0m             \u001b[0mstudy\u001b[0m\u001b[1;33m=\u001b[0m\u001b[0mself\u001b[0m\u001b[1;33m,\u001b[0m\u001b[1;33m\u001b[0m\u001b[1;33m\u001b[0m\u001b[0m\n\u001b[0;32m    421\u001b[0m             \u001b[0mfunc\u001b[0m\u001b[1;33m=\u001b[0m\u001b[0mfunc\u001b[0m\u001b[1;33m,\u001b[0m\u001b[1;33m\u001b[0m\u001b[1;33m\u001b[0m\u001b[0m\n",
      "\u001b[1;32m~\\anaconda3\\lib\\site-packages\\optuna\\study\\_optimize.py\u001b[0m in \u001b[0;36m_optimize\u001b[1;34m(study, func, n_trials, timeout, n_jobs, catch, callbacks, gc_after_trial, show_progress_bar)\u001b[0m\n\u001b[0;32m     64\u001b[0m     \u001b[1;32mtry\u001b[0m\u001b[1;33m:\u001b[0m\u001b[1;33m\u001b[0m\u001b[1;33m\u001b[0m\u001b[0m\n\u001b[0;32m     65\u001b[0m         \u001b[1;32mif\u001b[0m \u001b[0mn_jobs\u001b[0m \u001b[1;33m==\u001b[0m \u001b[1;36m1\u001b[0m\u001b[1;33m:\u001b[0m\u001b[1;33m\u001b[0m\u001b[1;33m\u001b[0m\u001b[0m\n\u001b[1;32m---> 66\u001b[1;33m             _optimize_sequential(\n\u001b[0m\u001b[0;32m     67\u001b[0m                 \u001b[0mstudy\u001b[0m\u001b[1;33m,\u001b[0m\u001b[1;33m\u001b[0m\u001b[1;33m\u001b[0m\u001b[0m\n\u001b[0;32m     68\u001b[0m                 \u001b[0mfunc\u001b[0m\u001b[1;33m,\u001b[0m\u001b[1;33m\u001b[0m\u001b[1;33m\u001b[0m\u001b[0m\n",
      "\u001b[1;32m~\\anaconda3\\lib\\site-packages\\optuna\\study\\_optimize.py\u001b[0m in \u001b[0;36m_optimize_sequential\u001b[1;34m(study, func, n_trials, timeout, catch, callbacks, gc_after_trial, reseed_sampler_rng, time_start, progress_bar)\u001b[0m\n\u001b[0;32m    158\u001b[0m \u001b[1;33m\u001b[0m\u001b[0m\n\u001b[0;32m    159\u001b[0m         \u001b[1;32mtry\u001b[0m\u001b[1;33m:\u001b[0m\u001b[1;33m\u001b[0m\u001b[1;33m\u001b[0m\u001b[0m\n\u001b[1;32m--> 160\u001b[1;33m             \u001b[0mfrozen_trial\u001b[0m \u001b[1;33m=\u001b[0m \u001b[0m_run_trial\u001b[0m\u001b[1;33m(\u001b[0m\u001b[0mstudy\u001b[0m\u001b[1;33m,\u001b[0m \u001b[0mfunc\u001b[0m\u001b[1;33m,\u001b[0m \u001b[0mcatch\u001b[0m\u001b[1;33m)\u001b[0m\u001b[1;33m\u001b[0m\u001b[1;33m\u001b[0m\u001b[0m\n\u001b[0m\u001b[0;32m    161\u001b[0m         \u001b[1;32mfinally\u001b[0m\u001b[1;33m:\u001b[0m\u001b[1;33m\u001b[0m\u001b[1;33m\u001b[0m\u001b[0m\n\u001b[0;32m    162\u001b[0m             \u001b[1;31m# The following line mitigates memory problems that can be occurred in some\u001b[0m\u001b[1;33m\u001b[0m\u001b[1;33m\u001b[0m\u001b[0m\n",
      "\u001b[1;32m~\\anaconda3\\lib\\site-packages\\optuna\\study\\_optimize.py\u001b[0m in \u001b[0;36m_run_trial\u001b[1;34m(study, func, catch)\u001b[0m\n\u001b[0;32m    232\u001b[0m         \u001b[1;32mand\u001b[0m \u001b[1;32mnot\u001b[0m \u001b[0misinstance\u001b[0m\u001b[1;33m(\u001b[0m\u001b[0mfunc_err\u001b[0m\u001b[1;33m,\u001b[0m \u001b[0mcatch\u001b[0m\u001b[1;33m)\u001b[0m\u001b[1;33m\u001b[0m\u001b[1;33m\u001b[0m\u001b[0m\n\u001b[0;32m    233\u001b[0m     ):\n\u001b[1;32m--> 234\u001b[1;33m         \u001b[1;32mraise\u001b[0m \u001b[0mfunc_err\u001b[0m\u001b[1;33m\u001b[0m\u001b[1;33m\u001b[0m\u001b[0m\n\u001b[0m\u001b[0;32m    235\u001b[0m     \u001b[1;32mreturn\u001b[0m \u001b[0mfrozen_trial\u001b[0m\u001b[1;33m\u001b[0m\u001b[1;33m\u001b[0m\u001b[0m\n\u001b[0;32m    236\u001b[0m \u001b[1;33m\u001b[0m\u001b[0m\n",
      "\u001b[1;32m~\\anaconda3\\lib\\site-packages\\optuna\\study\\_optimize.py\u001b[0m in \u001b[0;36m_run_trial\u001b[1;34m(study, func, catch)\u001b[0m\n\u001b[0;32m    194\u001b[0m     \u001b[1;32mwith\u001b[0m \u001b[0mget_heartbeat_thread\u001b[0m\u001b[1;33m(\u001b[0m\u001b[0mtrial\u001b[0m\u001b[1;33m.\u001b[0m\u001b[0m_trial_id\u001b[0m\u001b[1;33m,\u001b[0m \u001b[0mstudy\u001b[0m\u001b[1;33m.\u001b[0m\u001b[0m_storage\u001b[0m\u001b[1;33m)\u001b[0m\u001b[1;33m:\u001b[0m\u001b[1;33m\u001b[0m\u001b[1;33m\u001b[0m\u001b[0m\n\u001b[0;32m    195\u001b[0m         \u001b[1;32mtry\u001b[0m\u001b[1;33m:\u001b[0m\u001b[1;33m\u001b[0m\u001b[1;33m\u001b[0m\u001b[0m\n\u001b[1;32m--> 196\u001b[1;33m             \u001b[0mvalue_or_values\u001b[0m \u001b[1;33m=\u001b[0m \u001b[0mfunc\u001b[0m\u001b[1;33m(\u001b[0m\u001b[0mtrial\u001b[0m\u001b[1;33m)\u001b[0m\u001b[1;33m\u001b[0m\u001b[1;33m\u001b[0m\u001b[0m\n\u001b[0m\u001b[0;32m    197\u001b[0m         \u001b[1;32mexcept\u001b[0m \u001b[0mexceptions\u001b[0m\u001b[1;33m.\u001b[0m\u001b[0mTrialPruned\u001b[0m \u001b[1;32mas\u001b[0m \u001b[0me\u001b[0m\u001b[1;33m:\u001b[0m\u001b[1;33m\u001b[0m\u001b[1;33m\u001b[0m\u001b[0m\n\u001b[0;32m    198\u001b[0m             \u001b[1;31m# TODO(mamu): Handle multi-objective cases.\u001b[0m\u001b[1;33m\u001b[0m\u001b[1;33m\u001b[0m\u001b[0m\n",
      "\u001b[1;32m~\\AppData\\Local\\Temp/ipykernel_21356/895993563.py\u001b[0m in \u001b[0;36mobjective\u001b[1;34m(trial)\u001b[0m\n\u001b[0;32m     16\u001b[0m   \u001b[0mcat_features\u001b[0m \u001b[1;33m=\u001b[0m \u001b[0mcategorical_features\u001b[0m\u001b[1;33m\u001b[0m\u001b[1;33m\u001b[0m\u001b[0m\n\u001b[0;32m     17\u001b[0m   \u001b[0mcat\u001b[0m \u001b[1;33m=\u001b[0m \u001b[0mCatBoostRegressor\u001b[0m\u001b[1;33m(\u001b[0m\u001b[1;33m**\u001b[0m\u001b[0mparam\u001b[0m\u001b[1;33m)\u001b[0m\u001b[1;33m\u001b[0m\u001b[1;33m\u001b[0m\u001b[0m\n\u001b[1;32m---> 18\u001b[1;33m   cat.fit(train_X, train_y,\n\u001b[0m\u001b[0;32m     19\u001b[0m           \u001b[0meval_set\u001b[0m\u001b[1;33m=\u001b[0m\u001b[1;33m[\u001b[0m\u001b[1;33m(\u001b[0m\u001b[0mtrain_X\u001b[0m\u001b[1;33m,\u001b[0m \u001b[0mtrain_y\u001b[0m\u001b[1;33m)\u001b[0m\u001b[1;33m,\u001b[0m \u001b[1;33m(\u001b[0m\u001b[0mX_valid\u001b[0m\u001b[1;33m,\u001b[0m\u001b[0my_valid\u001b[0m\u001b[1;33m)\u001b[0m\u001b[1;33m]\u001b[0m\u001b[1;33m,\u001b[0m\u001b[1;33m\u001b[0m\u001b[1;33m\u001b[0m\u001b[0m\n\u001b[0;32m     20\u001b[0m           \u001b[0mearly_stopping_rounds\u001b[0m\u001b[1;33m=\u001b[0m\u001b[1;36m35\u001b[0m\u001b[1;33m,\u001b[0m\u001b[0mcat_features\u001b[0m\u001b[1;33m=\u001b[0m\u001b[0mcat_features\u001b[0m\u001b[1;33m,\u001b[0m\u001b[1;33m\u001b[0m\u001b[1;33m\u001b[0m\u001b[0m\n",
      "\u001b[1;32m~\\anaconda3\\lib\\site-packages\\catboost\\core.py\u001b[0m in \u001b[0;36mfit\u001b[1;34m(self, X, y, cat_features, text_features, embedding_features, sample_weight, baseline, use_best_model, eval_set, verbose, logging_level, plot, plot_file, column_description, verbose_eval, metric_period, silent, early_stopping_rounds, save_snapshot, snapshot_file, snapshot_interval, init_model, callbacks, log_cout, log_cerr)\u001b[0m\n\u001b[0;32m   5728\u001b[0m             \u001b[0mCatBoostRegressor\u001b[0m\u001b[1;33m.\u001b[0m\u001b[0m_check_is_compatible_loss\u001b[0m\u001b[1;33m(\u001b[0m\u001b[0mparams\u001b[0m\u001b[1;33m[\u001b[0m\u001b[1;34m'loss_function'\u001b[0m\u001b[1;33m]\u001b[0m\u001b[1;33m)\u001b[0m\u001b[1;33m\u001b[0m\u001b[1;33m\u001b[0m\u001b[0m\n\u001b[0;32m   5729\u001b[0m \u001b[1;33m\u001b[0m\u001b[0m\n\u001b[1;32m-> 5730\u001b[1;33m         return self._fit(X, y, cat_features, text_features, embedding_features, None, sample_weight, None, None, None, None, baseline,\n\u001b[0m\u001b[0;32m   5731\u001b[0m                          \u001b[0muse_best_model\u001b[0m\u001b[1;33m,\u001b[0m \u001b[0meval_set\u001b[0m\u001b[1;33m,\u001b[0m \u001b[0mverbose\u001b[0m\u001b[1;33m,\u001b[0m \u001b[0mlogging_level\u001b[0m\u001b[1;33m,\u001b[0m \u001b[0mplot\u001b[0m\u001b[1;33m,\u001b[0m \u001b[0mplot_file\u001b[0m\u001b[1;33m,\u001b[0m \u001b[0mcolumn_description\u001b[0m\u001b[1;33m,\u001b[0m\u001b[1;33m\u001b[0m\u001b[1;33m\u001b[0m\u001b[0m\n\u001b[0;32m   5732\u001b[0m                          \u001b[0mverbose_eval\u001b[0m\u001b[1;33m,\u001b[0m \u001b[0mmetric_period\u001b[0m\u001b[1;33m,\u001b[0m \u001b[0msilent\u001b[0m\u001b[1;33m,\u001b[0m \u001b[0mearly_stopping_rounds\u001b[0m\u001b[1;33m,\u001b[0m\u001b[1;33m\u001b[0m\u001b[1;33m\u001b[0m\u001b[0m\n",
      "\u001b[1;32m~\\anaconda3\\lib\\site-packages\\catboost\\core.py\u001b[0m in \u001b[0;36m_fit\u001b[1;34m(self, X, y, cat_features, text_features, embedding_features, pairs, sample_weight, group_id, group_weight, subgroup_id, pairs_weight, baseline, use_best_model, eval_set, verbose, logging_level, plot, plot_file, column_description, verbose_eval, metric_period, silent, early_stopping_rounds, save_snapshot, snapshot_file, snapshot_interval, init_model, callbacks, log_cout, log_cerr)\u001b[0m\n\u001b[0;32m   2353\u001b[0m         \u001b[1;32mwith\u001b[0m \u001b[0mlog_fixup\u001b[0m\u001b[1;33m(\u001b[0m\u001b[0mlog_cout\u001b[0m\u001b[1;33m,\u001b[0m \u001b[0mlog_cerr\u001b[0m\u001b[1;33m)\u001b[0m\u001b[1;33m,\u001b[0m\u001b[0;31m \u001b[0m\u001b[0;31m\\\u001b[0m\u001b[1;33m\u001b[0m\u001b[1;33m\u001b[0m\u001b[0m\n\u001b[0;32m   2354\u001b[0m             \u001b[0mplot_wrapper\u001b[0m\u001b[1;33m(\u001b[0m\u001b[0mplot\u001b[0m\u001b[1;33m,\u001b[0m \u001b[0mplot_file\u001b[0m\u001b[1;33m,\u001b[0m \u001b[1;34m'Training plots'\u001b[0m\u001b[1;33m,\u001b[0m \u001b[1;33m[\u001b[0m\u001b[0m_get_train_dir\u001b[0m\u001b[1;33m(\u001b[0m\u001b[0mself\u001b[0m\u001b[1;33m.\u001b[0m\u001b[0mget_params\u001b[0m\u001b[1;33m(\u001b[0m\u001b[1;33m)\u001b[0m\u001b[1;33m)\u001b[0m\u001b[1;33m]\u001b[0m\u001b[1;33m)\u001b[0m\u001b[1;33m:\u001b[0m\u001b[1;33m\u001b[0m\u001b[1;33m\u001b[0m\u001b[0m\n\u001b[1;32m-> 2355\u001b[1;33m             self._train(\n\u001b[0m\u001b[0;32m   2356\u001b[0m                 \u001b[0mtrain_pool\u001b[0m\u001b[1;33m,\u001b[0m\u001b[1;33m\u001b[0m\u001b[1;33m\u001b[0m\u001b[0m\n\u001b[0;32m   2357\u001b[0m                 \u001b[0mtrain_params\u001b[0m\u001b[1;33m[\u001b[0m\u001b[1;34m\"eval_sets\"\u001b[0m\u001b[1;33m]\u001b[0m\u001b[1;33m,\u001b[0m\u001b[1;33m\u001b[0m\u001b[1;33m\u001b[0m\u001b[0m\n",
      "\u001b[1;32m~\\anaconda3\\lib\\site-packages\\catboost\\core.py\u001b[0m in \u001b[0;36m_train\u001b[1;34m(self, train_pool, test_pool, params, allow_clear_pool, init_model)\u001b[0m\n\u001b[0;32m   1757\u001b[0m \u001b[1;33m\u001b[0m\u001b[0m\n\u001b[0;32m   1758\u001b[0m     \u001b[1;32mdef\u001b[0m \u001b[0m_train\u001b[0m\u001b[1;33m(\u001b[0m\u001b[0mself\u001b[0m\u001b[1;33m,\u001b[0m \u001b[0mtrain_pool\u001b[0m\u001b[1;33m,\u001b[0m \u001b[0mtest_pool\u001b[0m\u001b[1;33m,\u001b[0m \u001b[0mparams\u001b[0m\u001b[1;33m,\u001b[0m \u001b[0mallow_clear_pool\u001b[0m\u001b[1;33m,\u001b[0m \u001b[0minit_model\u001b[0m\u001b[1;33m)\u001b[0m\u001b[1;33m:\u001b[0m\u001b[1;33m\u001b[0m\u001b[1;33m\u001b[0m\u001b[0m\n\u001b[1;32m-> 1759\u001b[1;33m         \u001b[0mself\u001b[0m\u001b[1;33m.\u001b[0m\u001b[0m_object\u001b[0m\u001b[1;33m.\u001b[0m\u001b[0m_train\u001b[0m\u001b[1;33m(\u001b[0m\u001b[0mtrain_pool\u001b[0m\u001b[1;33m,\u001b[0m \u001b[0mtest_pool\u001b[0m\u001b[1;33m,\u001b[0m \u001b[0mparams\u001b[0m\u001b[1;33m,\u001b[0m \u001b[0mallow_clear_pool\u001b[0m\u001b[1;33m,\u001b[0m \u001b[0minit_model\u001b[0m\u001b[1;33m.\u001b[0m\u001b[0m_object\u001b[0m \u001b[1;32mif\u001b[0m \u001b[0minit_model\u001b[0m \u001b[1;32melse\u001b[0m \u001b[1;32mNone\u001b[0m\u001b[1;33m)\u001b[0m\u001b[1;33m\u001b[0m\u001b[1;33m\u001b[0m\u001b[0m\n\u001b[0m\u001b[0;32m   1760\u001b[0m         \u001b[0mself\u001b[0m\u001b[1;33m.\u001b[0m\u001b[0m_set_trained_model_attributes\u001b[0m\u001b[1;33m(\u001b[0m\u001b[1;33m)\u001b[0m\u001b[1;33m\u001b[0m\u001b[1;33m\u001b[0m\u001b[0m\n\u001b[0;32m   1761\u001b[0m \u001b[1;33m\u001b[0m\u001b[0m\n",
      "\u001b[1;32m_catboost.pyx\u001b[0m in \u001b[0;36m_catboost._CatBoost._train\u001b[1;34m()\u001b[0m\n",
      "\u001b[1;32m_catboost.pyx\u001b[0m in \u001b[0;36m_catboost._CatBoost._train\u001b[1;34m()\u001b[0m\n",
      "\u001b[1;31mKeyboardInterrupt\u001b[0m: "
     ]
    }
   ],
   "source": [
    "sampler = TPESampler(seed=42)\n",
    "study = optuna.create_study(\n",
    "    study_name = 'cat_parameter_opt',\n",
    "    direction = 'minimize',\n",
    "    sampler = sampler,\n",
    ")\n",
    "\n",
    "study.optimize(objective, n_trials=10)\n",
    "print(\"Best Score:\",study.best_value)\n",
    "print(\"Best trial\",study.best_trial.params)"
   ]
  },
  {
   "cell_type": "code",
   "execution_count": 20,
   "metadata": {},
   "outputs": [],
   "source": [
    "cat_param = {'learning_rate': 0.04763628595029446, 'bagging_temperature': 21.368329072358772, 'n_estimators': 1455,\n",
    "             'max_depth': 6, 'random_strength': 18, 'colsample_bylevel': 0.5825453457757226,\n",
    "             'l2_leaf_reg': 1.5747445384650815e-05, 'min_child_samples': 46, 'max_bin': 287, 'od_type': 'IncToDec'}"
   ]
  },
  {
   "cell_type": "code",
   "execution_count": 21,
   "metadata": {},
   "outputs": [],
   "source": [
    "scores = []  # CV 결과 저장\n",
    "oof_pred = np.zeros(X_test.shape[0])  # OOF 저장\n",
    "kfold = KFold(n_splits=NFOLDS, shuffle=True, random_state=0) # K-Folds cross-validator\n",
    "#shuffle한 상태에서 fold 5개로 쪼개도록 함\n",
    "\n",
    "for train_index, valid_index in kfold.split(X_train, y_train):\n",
    "    \n",
    "    train_x, valid_x = X_train.iloc[train_index], X_train.iloc[valid_index]\n",
    "    train_y, valid_y = y_train.iloc[train_index], y_train.iloc[valid_index] #직접 분할된 데이터 주고 알아서 학습, 예측하도록 만들음\n",
    "\n",
    "    model = CatBoostRegressor(**cat_param, cat_features=categorical_features, verbose=False, random_state=SEED) \n",
    "    model.fit(train_x, train_y,\n",
    "              eval_set=[(valid_x,valid_y)],\n",
    "              early_stopping_rounds=95,\n",
    "             )\n",
    "\n",
    "    # CV 스코어 계산 및 저장\n",
    "    rmse = np.sqrt(mean_squared_error(valid_y, model.predict(valid_x)))\n",
    "    scores.append(rmse)\n",
    "\n",
    "    # OOF 예측값 저장\n",
    "    oof_pred += model.predict(X_test) / kfold.get_n_splits() "
   ]
  },
  {
   "cell_type": "code",
   "execution_count": 22,
   "metadata": {
    "scrolled": false
   },
   "outputs": [
    {
     "name": "stdout",
     "output_type": "stream",
     "text": [
      "CV scores:  [826.96945817 805.6545722  831.1228208  797.72843032 804.21435262]\n",
      "CV mean = 813.14 with std = 13.33\n"
     ]
    }
   ],
   "source": [
    "scores = np.array(scores) \n",
    "print(\"CV scores: \", scores)\n",
    "print(\"CV mean = %.2f\" % scores.mean(), \"with std = %.2f\" % scores.std())"
   ]
  },
  {
   "cell_type": "code",
   "execution_count": null,
   "metadata": {},
   "outputs": [],
   "source": [
    "# submission 화일 생성\n",
    "filename = f'catboost_v5_{CATBOOST_VERSION}_{scores.mean():.2f}.csv'\n",
    "pd.DataFrame({'ID':test_id, 'Salary':oof_pred}).to_csv(filename, index=False)"
   ]
  },
  {
   "cell_type": "markdown",
   "metadata": {},
   "source": [
    "<font color=\"#CC3D3D\"><p>\n",
    "# End"
   ]
  },
  {
   "cell_type": "markdown",
   "metadata": {},
   "source": [
    "CV scores:  [830.50175353 806.43110368 827.46646546 797.52277874 805.3208563 ]\n",
    "CV mean = 813.45 with std = 13.09\n",
    "\n",
    "\n",
    "\n",
    "percentile 100: 812.16\n",
    "percentile 50: CV mean = 816.07 with std = 11.84\n",
    "percentile 75: 815.46\n",
    "percentile 90: CV mean = 813.91 with std = 13.72\n",
    "\n",
    "전체피쳐\n",
    "percentile 95 \n",
    "CV scores:  [836.71252844 807.80361209 832.69461643 794.06535892 807.39827016]\n",
    "CV mean = 815.73 with std = 16.31\n",
    "\n",
    "percentile 60\n",
    "CV scores:  [836.81741412 808.11825277 829.89546152 793.99577272 806.90407616]\n",
    "CV mean = 815.15 with std = 15.82\n",
    "\n",
    "percentile 50\n",
    "CV scores:  [836.40363285 804.88665896 828.39000384 796.42095896 812.8611949 ]\n",
    "CV mean = 815.79 with std = 14.74\n",
    "\n",
    "percentile 40\n",
    "CV scores:  [842.6255108  819.98962733 839.70991437 799.06223169 818.90493555]\n",
    "CV mean = 824.06 with std = 15.86\n",
    "\n",
    "percentile 70\n",
    "CV scores:  [834.10272333 804.01934987 831.80347717 794.21377048 805.26255204]\n",
    "CV mean = 813.88 with std = 16.05\n",
    "\n",
    "percentile 70 + 직무태그 pca\n",
    "CV scores:  [836.65481564 802.84800066 829.32672385 795.91353505 806.21168567]\n",
    "CV mean = 814.19 with std = 15.88\n",
    "\n",
    "percentile 80 + 직무태그 pca\n",
    "CV scores:  [834.60848045 805.60274404 829.82713751 797.9322805  806.57619634]\n",
    "CV mean = 814.91 with std = 14.52\n",
    "\n",
    "percentile 80 + 직무태그 pca +직무태그 합친 범주형 삭제\n",
    "CV scores:  [837.77862678 806.54426778 835.30116892 790.41663035 808.96769864]\n",
    "CV mean = 815.80 with std = 18.11\n",
    "\n",
    "\n",
    "\n",
    "\n",
    "\n",
    "percentile 95 / 수치형통합 피쳐 삭제\n",
    "CV scores:  [835.13187907 804.50290401 831.93398899 790.50776301 806.15872006]\n",
    "CV mean = 813.65 with std = 17.15\n",
    "\n",
    "\n",
    "00 percentile 95 / 수치형통합 피쳐, 범주형2개수치형 삭제\n",
    "CV scores:  [831.36258418 806.02406093 831.15401957 796.43511705 809.76151448]\n",
    "CV mean = 814.95 with std = 14.01\n",
    "\n",
    "percentile 100 / 수치형통합 피쳐, 범주형2개수치형 삭제\n",
    "CV scores:  [833.6774408  810.86029671 833.02058329 793.8382778  806.93972436]\n",
    "CV mean = 815.67 with std = 15.50\n",
    "\n",
    "percentile 80 / 수치형통합 피쳐, 범주형2개수치형 삭제\n",
    "CV scores:  [838.63174969 806.3728515  832.01589065 793.0634965  807.62202214]\n",
    "CV mean = 815.54 with std = 17.07\n",
    "\n",
    " percentile 95 / 수치형통합 피쳐 삭제, 범주형3개피쳐삭제\n",
    "CV scores:  [835.26584048 806.72037255 828.40970125 794.94522071 802.95958858]\n",
    "CV mean = 813.66 with std = 15.47"
   ]
  },
  {
   "cell_type": "code",
   "execution_count": null,
   "metadata": {},
   "outputs": [],
   "source": [
    "def plot_feature_importance(importance, names, model_type):\n",
    "    \n",
    "    feature_importance = np.array(importance)\n",
    "    feature_names = np.array(names)\n",
    "    \n",
    "    data={'feature_names':feature_names,'feature_importance':feature_importance}\n",
    "    fi_df = pd.DataFrame(data)\n",
    "    \n",
    "    fi_df.sort_values(by=['feature_importance'], ascending=False,inplace=True)\n",
    "\n",
    "    plt.figure(figsize=(10,20))\n",
    "\n",
    "    sns.barplot(x=fi_df['feature_importance'], y=fi_df['feature_names'])\n",
    "\n",
    "    plt.title(model_type + ' Feature Importance')\n",
    "    plt.xlabel('Feature Importance')\n",
    "    plt.ylabel('Feature Names')\n",
    "\n",
    "plt.rcParams['font.family'] = 'NanumGothic'\n",
    "plot_feature_importance(model.get_feature_importance(), X_test.columns, 'CATBOOST')"
   ]
  },
  {
   "cell_type": "code",
   "execution_count": null,
   "metadata": {},
   "outputs": [],
   "source": []
  }
 ],
 "metadata": {
  "kernelspec": {
   "display_name": "Python 3 (ipykernel)",
   "language": "python",
   "name": "python3"
  },
  "language_info": {
   "codemirror_mode": {
    "name": "ipython",
    "version": 3
   },
   "file_extension": ".py",
   "mimetype": "text/x-python",
   "name": "python",
   "nbconvert_exporter": "python",
   "pygments_lexer": "ipython3",
   "version": "3.9.7"
  }
 },
 "nbformat": 4,
 "nbformat_minor": 1
}
