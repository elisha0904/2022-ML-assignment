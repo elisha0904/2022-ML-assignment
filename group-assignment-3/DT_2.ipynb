{
 "cells": [
  {
   "cell_type": "code",
   "execution_count": 1,
   "id": "c3052253",
   "metadata": {},
   "outputs": [],
   "source": [
    "import pandas as pd\n",
    "import numpy as np\n",
    "import matplotlib.pyplot as plt\n",
    "%matplotlib inline\n",
    "import warnings\n",
    "warnings.filterwarnings(\"ignore\")"
   ]
  },
  {
   "cell_type": "code",
   "execution_count": 2,
   "id": "2789ddc0",
   "metadata": {},
   "outputs": [],
   "source": [
    "test = pd.read_csv('data/test.csv')\n",
    "train = pd.read_csv('data/train.csv')"
   ]
  },
  {
   "cell_type": "code",
   "execution_count": 3,
   "id": "007b9fd0",
   "metadata": {
    "scrolled": true
   },
   "outputs": [],
   "source": [
    "X_train = train.copy().drop(['target'], axis=1)\n",
    "y_train = train['target']\n",
    "X_test = test.copy()"
   ]
  },
  {
   "cell_type": "markdown",
   "id": "7e703d5c",
   "metadata": {},
   "source": [
    "* * *"
   ]
  },
  {
   "cell_type": "markdown",
   "id": "4b761669",
   "metadata": {},
   "source": [
    "### 결측치 최빈값 대체"
   ]
  },
  {
   "cell_type": "code",
   "execution_count": 4,
   "id": "38307579",
   "metadata": {},
   "outputs": [],
   "source": [
    "cat = ['id','bin_0','bin_1','bin_2','bin_3','bin_4','nom_0','nom_1','nom_2','nom_3','nom_4','nom_5','nom_6','nom_7','nom_8','nom_9','ord_0','ord_1','ord_2','ord_3','ord_4','ord_5','day','month']"
   ]
  },
  {
   "cell_type": "code",
   "execution_count": 5,
   "id": "2252fddf",
   "metadata": {},
   "outputs": [],
   "source": [
    "from sklearn.impute import SimpleImputer \n",
    "\n",
    "imp = SimpleImputer(strategy=\"most_frequent\")\n",
    "X_train[cat] = imp.fit_transform(X_train[cat])\n",
    "X_test[cat] = imp.fit_transform(X_test[cat])"
   ]
  },
  {
   "cell_type": "markdown",
   "id": "dd86fc81",
   "metadata": {},
   "source": [
    "### bin_3, bin_4\n",
    "binary encoding"
   ]
  },
  {
   "cell_type": "code",
   "execution_count": null,
   "id": "83d4e6a3",
   "metadata": {
    "scrolled": false
   },
   "outputs": [],
   "source": [
    "X_train['bin_3'].value_counts()"
   ]
  },
  {
   "cell_type": "code",
   "execution_count": null,
   "id": "d20dac2e",
   "metadata": {},
   "outputs": [],
   "source": [
    "import category_encoders as ce\n",
    "BE = ce.binary.BinaryEncoder(['bin_3'])\n",
    "\n",
    "X_train_be3 = BE.fit_transform(X_train['bin_3'], y_train)\n",
    "X_test_be3 = BE.transform(X_test['bin_3'])"
   ]
  },
  {
   "cell_type": "code",
   "execution_count": null,
   "id": "8f2ed3cc",
   "metadata": {},
   "outputs": [],
   "source": [
    "X_train = pd.concat([X_train, X_train_be3], axis=1)\n",
    "X_test = pd.concat([X_test, X_test_be3], axis=1)"
   ]
  },
  {
   "cell_type": "code",
   "execution_count": null,
   "id": "86d546b3",
   "metadata": {},
   "outputs": [],
   "source": [
    "X_train.drop(['bin_3'], axis=1, inplace=True)\n",
    "X_test.drop(['bin_3'], axis=1, inplace=True)"
   ]
  },
  {
   "cell_type": "code",
   "execution_count": null,
   "id": "2e9907a7",
   "metadata": {},
   "outputs": [],
   "source": [
    "X_train.info()"
   ]
  },
  {
   "cell_type": "code",
   "execution_count": null,
   "id": "2833c744",
   "metadata": {
    "scrolled": true
   },
   "outputs": [],
   "source": [
    "X_train['bin_4'].value_counts()"
   ]
  },
  {
   "cell_type": "code",
   "execution_count": null,
   "id": "fd3689c9",
   "metadata": {},
   "outputs": [],
   "source": [
    "import category_encoders as ce\n",
    "BE = ce.binary.BinaryEncoder(['bin_4'])\n",
    "\n",
    "X_train_be4 = BE.fit_transform(X_train['bin_4'], y_train)\n",
    "X_test_be4 = BE.transform(X_test['bin_4'])"
   ]
  },
  {
   "cell_type": "code",
   "execution_count": null,
   "id": "5fbb9b31",
   "metadata": {},
   "outputs": [],
   "source": [
    "X_train = pd.concat([X_train, X_train_be4], axis=1)\n",
    "X_test = pd.concat([X_test, X_test_be4], axis=1)"
   ]
  },
  {
   "cell_type": "code",
   "execution_count": null,
   "id": "59e4a22f",
   "metadata": {},
   "outputs": [],
   "source": [
    "X_train.drop(['bin_4'], axis=1, inplace=True)\n",
    "X_test.drop(['bin_4'], axis=1, inplace=True)"
   ]
  },
  {
   "cell_type": "code",
   "execution_count": null,
   "id": "e5508726",
   "metadata": {},
   "outputs": [],
   "source": [
    "X_train.info()"
   ]
  },
  {
   "cell_type": "markdown",
   "id": "b31eb889",
   "metadata": {},
   "source": [
    "### nom_0, nom_1, nom_2, nom_3, nom_4\n",
    "label(ordinal) encoding"
   ]
  },
  {
   "cell_type": "code",
   "execution_count": 6,
   "id": "9f2eb833",
   "metadata": {},
   "outputs": [],
   "source": [
    "cat = ['nom_0', 'nom_1', 'nom_2', 'nom_3', 'nom_4']"
   ]
  },
  {
   "cell_type": "code",
   "execution_count": 7,
   "id": "1a33cd23",
   "metadata": {},
   "outputs": [
    {
     "data": {
      "text/html": [
       "<div>\n",
       "<style scoped>\n",
       "    .dataframe tbody tr th:only-of-type {\n",
       "        vertical-align: middle;\n",
       "    }\n",
       "\n",
       "    .dataframe tbody tr th {\n",
       "        vertical-align: top;\n",
       "    }\n",
       "\n",
       "    .dataframe thead th {\n",
       "        text-align: right;\n",
       "    }\n",
       "</style>\n",
       "<table border=\"1\" class=\"dataframe\">\n",
       "  <thead>\n",
       "    <tr style=\"text-align: right;\">\n",
       "      <th></th>\n",
       "      <th>nom_0</th>\n",
       "      <th>nom_1</th>\n",
       "      <th>nom_2</th>\n",
       "      <th>nom_3</th>\n",
       "      <th>nom_4</th>\n",
       "    </tr>\n",
       "  </thead>\n",
       "  <tbody>\n",
       "    <tr>\n",
       "      <th>0</th>\n",
       "      <td>2</td>\n",
       "      <td>4</td>\n",
       "      <td>3</td>\n",
       "      <td>5</td>\n",
       "      <td>0</td>\n",
       "    </tr>\n",
       "    <tr>\n",
       "      <th>1</th>\n",
       "      <td>2</td>\n",
       "      <td>3</td>\n",
       "      <td>0</td>\n",
       "      <td>4</td>\n",
       "      <td>3</td>\n",
       "    </tr>\n",
       "    <tr>\n",
       "      <th>2</th>\n",
       "      <td>2</td>\n",
       "      <td>5</td>\n",
       "      <td>3</td>\n",
       "      <td>0</td>\n",
       "      <td>0</td>\n",
       "    </tr>\n",
       "    <tr>\n",
       "      <th>3</th>\n",
       "      <td>2</td>\n",
       "      <td>0</td>\n",
       "      <td>3</td>\n",
       "      <td>3</td>\n",
       "      <td>3</td>\n",
       "    </tr>\n",
       "    <tr>\n",
       "      <th>4</th>\n",
       "      <td>2</td>\n",
       "      <td>5</td>\n",
       "      <td>3</td>\n",
       "      <td>2</td>\n",
       "      <td>3</td>\n",
       "    </tr>\n",
       "    <tr>\n",
       "      <th>...</th>\n",
       "      <td>...</td>\n",
       "      <td>...</td>\n",
       "      <td>...</td>\n",
       "      <td>...</td>\n",
       "      <td>...</td>\n",
       "    </tr>\n",
       "    <tr>\n",
       "      <th>599995</th>\n",
       "      <td>2</td>\n",
       "      <td>1</td>\n",
       "      <td>0</td>\n",
       "      <td>4</td>\n",
       "      <td>3</td>\n",
       "    </tr>\n",
       "    <tr>\n",
       "      <th>599996</th>\n",
       "      <td>0</td>\n",
       "      <td>1</td>\n",
       "      <td>2</td>\n",
       "      <td>2</td>\n",
       "      <td>1</td>\n",
       "    </tr>\n",
       "    <tr>\n",
       "      <th>599997</th>\n",
       "      <td>2</td>\n",
       "      <td>0</td>\n",
       "      <td>0</td>\n",
       "      <td>5</td>\n",
       "      <td>3</td>\n",
       "    </tr>\n",
       "    <tr>\n",
       "      <th>599998</th>\n",
       "      <td>2</td>\n",
       "      <td>1</td>\n",
       "      <td>0</td>\n",
       "      <td>4</td>\n",
       "      <td>2</td>\n",
       "    </tr>\n",
       "    <tr>\n",
       "      <th>599999</th>\n",
       "      <td>0</td>\n",
       "      <td>5</td>\n",
       "      <td>2</td>\n",
       "      <td>5</td>\n",
       "      <td>3</td>\n",
       "    </tr>\n",
       "  </tbody>\n",
       "</table>\n",
       "<p>600000 rows × 5 columns</p>\n",
       "</div>"
      ],
      "text/plain": [
       "        nom_0  nom_1  nom_2  nom_3  nom_4\n",
       "0           2      4      3      5      0\n",
       "1           2      3      0      4      3\n",
       "2           2      5      3      0      0\n",
       "3           2      0      3      3      3\n",
       "4           2      5      3      2      3\n",
       "...       ...    ...    ...    ...    ...\n",
       "599995      2      1      0      4      3\n",
       "599996      0      1      2      2      1\n",
       "599997      2      0      0      5      3\n",
       "599998      2      1      0      4      2\n",
       "599999      0      5      2      5      3\n",
       "\n",
       "[600000 rows x 5 columns]"
      ]
     },
     "execution_count": 7,
     "metadata": {},
     "output_type": "execute_result"
    }
   ],
   "source": [
    "from sklearn.preprocessing import OrdinalEncoder\n",
    "\n",
    "X_train_oe, X_test_oe, = X_train.copy(), X_test.copy()\n",
    "\n",
    "le = OrdinalEncoder(handle_unknown='use_encoded_value',\n",
    "                    unknown_value=-1, dtype=int)\n",
    "\n",
    "X_train_oe[cat] = le.fit_transform(X_train[cat])\n",
    "X_test_oe[cat] = le.transform(X_test[cat])\n",
    "\n",
    "\n",
    "X_train_oe[cat]"
   ]
  },
  {
   "cell_type": "code",
   "execution_count": 8,
   "id": "5b20724e",
   "metadata": {},
   "outputs": [
    {
     "name": "stdout",
     "output_type": "stream",
     "text": [
      "<class 'pandas.core.frame.DataFrame'>\n",
      "RangeIndex: 600000 entries, 0 to 599999\n",
      "Data columns (total 24 columns):\n",
      " #   Column  Non-Null Count   Dtype \n",
      "---  ------  --------------   ----- \n",
      " 0   id      600000 non-null  object\n",
      " 1   bin_0   600000 non-null  object\n",
      " 2   bin_1   600000 non-null  object\n",
      " 3   bin_2   600000 non-null  object\n",
      " 4   bin_3   600000 non-null  object\n",
      " 5   bin_4   600000 non-null  object\n",
      " 6   nom_0   600000 non-null  int32 \n",
      " 7   nom_1   600000 non-null  int32 \n",
      " 8   nom_2   600000 non-null  int32 \n",
      " 9   nom_3   600000 non-null  int32 \n",
      " 10  nom_4   600000 non-null  int32 \n",
      " 11  nom_5   600000 non-null  object\n",
      " 12  nom_6   600000 non-null  object\n",
      " 13  nom_7   600000 non-null  object\n",
      " 14  nom_8   600000 non-null  object\n",
      " 15  nom_9   600000 non-null  object\n",
      " 16  ord_0   600000 non-null  object\n",
      " 17  ord_1   600000 non-null  object\n",
      " 18  ord_2   600000 non-null  object\n",
      " 19  ord_3   600000 non-null  object\n",
      " 20  ord_4   600000 non-null  object\n",
      " 21  ord_5   600000 non-null  object\n",
      " 22  day     600000 non-null  object\n",
      " 23  month   600000 non-null  object\n",
      "dtypes: int32(5), object(19)\n",
      "memory usage: 98.4+ MB\n"
     ]
    }
   ],
   "source": [
    "X_train[cat] = X_train_oe[cat]\n",
    "X_test[cat] = X_test_oe[cat]\n",
    "\n",
    "X_train.info()"
   ]
  },
  {
   "cell_type": "markdown",
   "id": "895f484b",
   "metadata": {},
   "source": [
    "### nom_5, nom_6, nom_7\n",
    "\n",
    "target encoding"
   ]
  },
  {
   "cell_type": "code",
   "execution_count": 9,
   "id": "30e2469d",
   "metadata": {},
   "outputs": [],
   "source": [
    "cat = ['nom_5', 'nom_6', 'nom_7']"
   ]
  },
  {
   "cell_type": "code",
   "execution_count": null,
   "id": "9acc4149",
   "metadata": {},
   "outputs": [],
   "source": [
    "from category_encoders import TargetEncoder\n",
    "\n",
    "\n",
    "X_train_te, X_test_te, = X_train.copy(), X_test.copy()\n",
    "\n",
    "te = TargetEncoder(cols=cat, min_samples_leaf=5, smoothing=30) \n",
    "X_train_te[cat] = te.fit_transform(X_train[cat], y_train)\n",
    "X_test_te[cat] = te.transform(X_test[cat])\n",
    "\n",
    "\n",
    "X_train_te[cat]"
   ]
  },
  {
   "cell_type": "code",
   "execution_count": null,
   "id": "e925be62",
   "metadata": {},
   "outputs": [],
   "source": [
    "X_train[cat] = X_train_oe[cat]\n",
    "X_test[cat] = X_test_oe[cat]\n",
    "\n",
    "X_train.info()"
   ]
  },
  {
   "cell_type": "markdown",
   "id": "87452bd7",
   "metadata": {},
   "source": [
    "### nom_6"
   ]
  },
  {
   "cell_type": "code",
   "execution_count": null,
   "id": "2f269fcb",
   "metadata": {
    "scrolled": true
   },
   "outputs": [],
   "source": [
    "X_train['nom_6'].value_counts()"
   ]
  },
  {
   "cell_type": "code",
   "execution_count": null,
   "id": "cb205936",
   "metadata": {},
   "outputs": [],
   "source": [
    "# Frequency Encoding\n",
    "fe = X_train.groupby(\"nom_6\").size()/len(X_train)\n",
    "X_train.loc[:, \"nom_6_freq_encode\"] = X_train[\"nom_6\"].map(fe)"
   ]
  },
  {
   "cell_type": "code",
   "execution_count": null,
   "id": "036daa90",
   "metadata": {},
   "outputs": [],
   "source": [
    "#여기 잘 모르겠음 일단 test를 train 기준으로 변환하겠음\n",
    "X_test.loc[:, \"nom_6_freq_encode\"] = X_test[\"nom_6\"].map(fe)"
   ]
  },
  {
   "cell_type": "markdown",
   "id": "71d120c3",
   "metadata": {},
   "source": [
    "### nom_7"
   ]
  },
  {
   "cell_type": "code",
   "execution_count": null,
   "id": "c6351922",
   "metadata": {
    "scrolled": true
   },
   "outputs": [],
   "source": [
    "X_train['nom_7'].value_counts()"
   ]
  },
  {
   "cell_type": "code",
   "execution_count": null,
   "id": "fd50629f",
   "metadata": {},
   "outputs": [],
   "source": [
    "# Frequency Encoding\n",
    "fe = X_train.groupby(\"nom_7\").size()/len(X_train)\n",
    "X_train.loc[:, \"nom_7_freq_encode\"] = X_train[\"nom_7\"].map(fe)"
   ]
  },
  {
   "cell_type": "code",
   "execution_count": null,
   "id": "a4072f0e",
   "metadata": {},
   "outputs": [],
   "source": [
    "#여기 잘 모르겠음 일단 test를 train 기준으로 변환하겠음\n",
    "X_test.loc[:, \"nom_7_freq_encode\"] = X_test[\"nom_7\"].map(fe)"
   ]
  },
  {
   "cell_type": "markdown",
   "id": "78f7d1a7",
   "metadata": {},
   "source": [
    "### nom_8"
   ]
  },
  {
   "cell_type": "code",
   "execution_count": null,
   "id": "e004d4f5",
   "metadata": {
    "scrolled": true
   },
   "outputs": [],
   "source": [
    "X_train['nom_8'].value_counts()"
   ]
  },
  {
   "cell_type": "code",
   "execution_count": null,
   "id": "99447b5a",
   "metadata": {},
   "outputs": [],
   "source": [
    "# Frequency Encoding\n",
    "fe = X_train.groupby(\"nom_8\").size()/len(X_train)\n",
    "X_train.loc[:, \"nom_8_freq_encode\"] = X_train[\"nom_8\"].map(fe)"
   ]
  },
  {
   "cell_type": "code",
   "execution_count": null,
   "id": "b9fe905c",
   "metadata": {},
   "outputs": [],
   "source": [
    "#여기 잘 모르겠음 일단 test를 train 기준으로 변환하겠음\n",
    "X_test.loc[:, \"nom_8_freq_encode\"] = X_test[\"nom_8\"].map(fe)"
   ]
  },
  {
   "cell_type": "markdown",
   "id": "83c1a3f3",
   "metadata": {},
   "source": [
    "### nom_9"
   ]
  },
  {
   "cell_type": "code",
   "execution_count": null,
   "id": "e9370460",
   "metadata": {
    "scrolled": true
   },
   "outputs": [],
   "source": [
    "X_train['nom_9'].value_counts()"
   ]
  },
  {
   "cell_type": "code",
   "execution_count": null,
   "id": "c61db8a5",
   "metadata": {},
   "outputs": [],
   "source": [
    "# Frequency Encoding\n",
    "fe = X_train.groupby(\"nom_9\").size()/len(X_train)\n",
    "X_train.loc[:, \"nom_9_freq_encode\"] = X_train[\"nom_9\"].map(fe)"
   ]
  },
  {
   "cell_type": "code",
   "execution_count": null,
   "id": "690df310",
   "metadata": {},
   "outputs": [],
   "source": [
    "#여기 잘 모르겠음 일단 test를 train 기준으로 변환하겠음\n",
    "X_test.loc[:, \"nom_9_freq_encode\"] = X_test[\"nom_9\"].map(fe)"
   ]
  },
  {
   "cell_type": "markdown",
   "id": "5d7dfdfc",
   "metadata": {},
   "source": [
    "### ord_1"
   ]
  },
  {
   "cell_type": "code",
   "execution_count": null,
   "id": "443b2fe7",
   "metadata": {
    "scrolled": true
   },
   "outputs": [],
   "source": [
    "X_train['ord_1'].value_counts()"
   ]
  },
  {
   "cell_type": "code",
   "execution_count": null,
   "id": "f97c8383",
   "metadata": {
    "scrolled": true
   },
   "outputs": [],
   "source": [
    "train[train['target'] == 1]['ord_1'].value_counts()"
   ]
  },
  {
   "cell_type": "markdown",
   "id": "2052f12a",
   "metadata": {},
   "source": [
    "- 실력차이에 따라 target이 바뀌는듯 하다. Weight of Evidence Encoding "
   ]
  },
  {
   "cell_type": "code",
   "execution_count": null,
   "id": "5dc145e5",
   "metadata": {},
   "outputs": [],
   "source": [
    "# 각 범주가 target = 1일 확률(좋은(Good) = 1일 확률)을 계산한다.\n",
    "woe_df = train.groupby('ord_1')['target'].mean()\n",
    "woe_df = pd.DataFrame(woe_df)\n",
    "# 칼럼의 이름을 \"Good\"으로 바꾸어 좀 더 이해하기 쉽게 한다.\n",
    "woe_df = woe_df.rename(columns = {'target':'good'})\n",
    "# \"Bad\"는 \"Good\"의 확률에 반대되는 부분의 확률이다.\n",
    "woe_df['bad'] = 1-woe_df.good\n",
    "# 분모에 최소한의 값을 더하여 0으로 나뉘는 일을 막는다.\n",
    "woe_df['bad'] = np.where(woe_df['bad'] == 0, 1e-6, woe_df['bad'])\n",
    "# WoE를 계산한다. \n",
    "woe_df['WoE'] = np.log(woe_df.good/woe_df.bad)\n",
    "woe_df"
   ]
  },
  {
   "cell_type": "code",
   "execution_count": null,
   "id": "2a8f6ffa",
   "metadata": {},
   "outputs": [],
   "source": [
    "X_train.loc[:, 'ord_1_WoE_Encode'] = X_train['ord_1'].map(woe_df['WoE'])"
   ]
  },
  {
   "cell_type": "code",
   "execution_count": null,
   "id": "4ab85044",
   "metadata": {},
   "outputs": [],
   "source": [
    "X_test.loc[:, 'ord_1_WoE_Encode'] = X_train['ord_1'].map(woe_df['WoE'])"
   ]
  },
  {
   "cell_type": "markdown",
   "id": "40604381",
   "metadata": {},
   "source": [
    "### ord_2"
   ]
  },
  {
   "cell_type": "code",
   "execution_count": null,
   "id": "02f8aa87",
   "metadata": {
    "scrolled": true
   },
   "outputs": [],
   "source": [
    "X_train['ord_2'].value_counts()"
   ]
  },
  {
   "cell_type": "code",
   "execution_count": null,
   "id": "d645c8c6",
   "metadata": {},
   "outputs": [],
   "source": [
    "train[train['target'] == 1]['ord_2'].value_counts()"
   ]
  },
  {
   "cell_type": "code",
   "execution_count": null,
   "id": "38a5062d",
   "metadata": {},
   "outputs": [],
   "source": [
    "# 각 범주가 target = 1일 확률(좋은(Good) = 1일 확률)을 계산한다.\n",
    "woe_df = train.groupby('ord_2')['target'].mean()\n",
    "woe_df = pd.DataFrame(woe_df)\n",
    "# 칼럼의 이름을 \"Good\"으로 바꾸어 좀 더 이해하기 쉽게 한다.\n",
    "woe_df = woe_df.rename(columns = {'target':'good'})\n",
    "# \"Bad\"는 \"Good\"의 확률에 반대되는 부분의 확률이다.\n",
    "woe_df['bad'] = 1-woe_df.good\n",
    "# 분모에 최소한의 값을 더하여 0으로 나뉘는 일을 막는다.\n",
    "woe_df['bad'] = np.where(woe_df['bad'] == 0, 1e-6, woe_df['bad'])\n",
    "# WoE를 계산한다. \n",
    "woe_df['WoE'] = np.log(woe_df.good/woe_df.bad)\n",
    "woe_df"
   ]
  },
  {
   "cell_type": "code",
   "execution_count": null,
   "id": "99157bc4",
   "metadata": {},
   "outputs": [],
   "source": [
    "X_train.loc[:, 'ord_2_WoE_Encode'] = X_train['ord_2'].map(woe_df['WoE'])\n",
    "X_test.loc[:, 'ord_2_WoE_Encode'] = X_train['ord_2'].map(woe_df['WoE'])"
   ]
  },
  {
   "cell_type": "markdown",
   "id": "036e9e77",
   "metadata": {},
   "source": [
    "### ord_3"
   ]
  },
  {
   "cell_type": "code",
   "execution_count": null,
   "id": "051f01d0",
   "metadata": {},
   "outputs": [],
   "source": [
    "X_train['ord_3'].value_counts()"
   ]
  },
  {
   "cell_type": "code",
   "execution_count": null,
   "id": "a1f866f2",
   "metadata": {},
   "outputs": [],
   "source": [
    "a = pd.DataFrame(X_train['ord_3'].value_counts())"
   ]
  },
  {
   "cell_type": "code",
   "execution_count": null,
   "id": "2ea8be74",
   "metadata": {},
   "outputs": [],
   "source": [
    "a"
   ]
  },
  {
   "cell_type": "code",
   "execution_count": null,
   "id": "dfd5ae87",
   "metadata": {},
   "outputs": [],
   "source": [
    "b=pd.DataFrame(train[train['target'] == 1]['ord_3'].value_counts())"
   ]
  },
  {
   "cell_type": "code",
   "execution_count": null,
   "id": "05d6b0e2",
   "metadata": {},
   "outputs": [],
   "source": [
    "b"
   ]
  },
  {
   "cell_type": "code",
   "execution_count": null,
   "id": "90a521e4",
   "metadata": {},
   "outputs": [],
   "source": [
    "ord_3_df = pd.concat([a,b], axis=1)"
   ]
  },
  {
   "cell_type": "code",
   "execution_count": null,
   "id": "38a1b6c7",
   "metadata": {},
   "outputs": [],
   "source": [
    "ord_3_df['ord_3_full'] = ord_3_df.iloc[:,0]"
   ]
  },
  {
   "cell_type": "code",
   "execution_count": null,
   "id": "65094c27",
   "metadata": {},
   "outputs": [],
   "source": [
    "ord_3_df['ord_3_sub'] = ord_3_df.iloc[:,1]"
   ]
  },
  {
   "cell_type": "code",
   "execution_count": null,
   "id": "fcdaea3c",
   "metadata": {},
   "outputs": [],
   "source": [
    "ord_3_df['비율'] = ord_3_df['ord_3_sub']/ord_3_df['ord_3_full']"
   ]
  },
  {
   "cell_type": "code",
   "execution_count": null,
   "id": "6a81416e",
   "metadata": {},
   "outputs": [],
   "source": [
    "ord_3_df['비율'].sort_values()"
   ]
  },
  {
   "cell_type": "markdown",
   "id": "20dca113",
   "metadata": {},
   "source": [
    "- 알파벳 순서로 뒤로 갈수록 target이 1인 경우가 많다는 것을 확인\n",
    "- 순서가 의미가 있는 Ordinal-encoding"
   ]
  },
  {
   "cell_type": "code",
   "execution_count": null,
   "id": "7d794ace",
   "metadata": {},
   "outputs": [],
   "source": [
    "# Mapping을 활용환 Ordinal Encoding\n",
    "alpha_dict = {\"a\": 1, \"b\": 2, \"c\": 3, \"d\": 4, 'e':5, 'f':6, 'g':7, 'h':8, 'i':9, 'j':10, 'k':11, 'l':12, 'm':13, 'n':14, 'o':15}\n",
    "X_train[\"ord_3_ordinal\"] = X_train.ord_3.map(alpha_dict)\n",
    "X_test[\"ord_3_ordinal\"] = X_test.ord_3.map(alpha_dict)"
   ]
  },
  {
   "cell_type": "markdown",
   "id": "4afd09b7",
   "metadata": {},
   "source": [
    "### ord_4"
   ]
  },
  {
   "cell_type": "code",
   "execution_count": null,
   "id": "bfb85068",
   "metadata": {},
   "outputs": [],
   "source": [
    "X_train['ord_4'].value_counts()"
   ]
  },
  {
   "cell_type": "code",
   "execution_count": null,
   "id": "a857004d",
   "metadata": {},
   "outputs": [],
   "source": [
    "a = pd.DataFrame(X_train['ord_4'].value_counts())"
   ]
  },
  {
   "cell_type": "code",
   "execution_count": null,
   "id": "62e995b6",
   "metadata": {},
   "outputs": [],
   "source": [
    "b=pd.DataFrame(train[train['target'] == 1]['ord_4'].value_counts())"
   ]
  },
  {
   "cell_type": "code",
   "execution_count": null,
   "id": "6714c029",
   "metadata": {},
   "outputs": [],
   "source": [
    "ord_4_df = pd.concat([a,b], axis=1)\n",
    "ord_4_df['ord_4_full'] = ord_4_df.iloc[:,0]\n",
    "ord_4_df['ord_4_sub'] = ord_4_df.iloc[:,1]\n",
    "ord_4_df['비율'] = ord_4_df['ord_4_sub']/ord_4_df['ord_4_full']\n",
    "ord_4_df['비율'].sort_values()"
   ]
  },
  {
   "cell_type": "markdown",
   "id": "4984178e",
   "metadata": {},
   "source": [
    "- 거의 알파벳순임. 순서가 의미가 있는 Ordinal-encoding helmert가 의미가 있답니다."
   ]
  },
  {
   "cell_type": "code",
   "execution_count": null,
   "id": "1cef06aa",
   "metadata": {},
   "outputs": [],
   "source": [
    "alpha_dict = {\"A\": 1, \"B\": 2, \"C\": 3, \"D\": 4, 'E':5, 'F':6, 'G':7, 'H':8, 'I':9, 'J':10, 'K':11, 'L':12, 'M':13, 'N':14, 'O':15,\n",
    "             'P':16, 'Q':17, 'R':18, 'S':19, 'T':20, 'U':21, 'V':22, 'W':23, 'X':24, 'Y':25, 'Z':26}\n",
    "X_train[\"ord_4_ordinal\"] = X_train.ord_4.map(alpha_dict)\n",
    "X_test[\"ord_4_ordinal\"] = X_test.ord_4.map(alpha_dict)"
   ]
  },
  {
   "cell_type": "markdown",
   "id": "3c0d81ca",
   "metadata": {},
   "source": [
    "### ord_5"
   ]
  },
  {
   "cell_type": "code",
   "execution_count": null,
   "id": "f1bea7d7",
   "metadata": {
    "scrolled": true
   },
   "outputs": [],
   "source": [
    "X_train['ord_5'].value_counts()"
   ]
  },
  {
   "cell_type": "code",
   "execution_count": null,
   "id": "7e0e4769",
   "metadata": {},
   "outputs": [],
   "source": [
    "from sklearn.preprocessing import OrdinalEncoder\n",
    "\n",
    "X_train_oe, X_test_oe, = X_train.copy(), X_test.copy()\n",
    "\n",
    "le = OrdinalEncoder(handle_unknown='use_encoded_value', unknown_value=-1, dtype=int) #학습데이터에 없는컬럼은 -1로 채워버리겠다.\n",
    "X_train_oe['ord_5'] = le.fit_transform(X_train['ord_5'])\n",
    "X_test_oe['ord_5'] = le.transform(X_test['ord_5'])\n",
    "\n",
    "X_train_oe[cat]"
   ]
  },
  {
   "cell_type": "code",
   "execution_count": null,
   "id": "5df23a8c",
   "metadata": {},
   "outputs": [],
   "source": [
    "from sklearn.linear_model import LogisticRegression\n",
    "model = LogisticRegression()\n",
    "model.fit(X_train, y_train)"
   ]
  },
  {
   "cell_type": "code",
   "execution_count": null,
   "id": "cbf1ec26",
   "metadata": {},
   "outputs": [],
   "source": []
  }
 ],
 "metadata": {
  "kernelspec": {
   "display_name": "Python 3 (ipykernel)",
   "language": "python",
   "name": "python3"
  },
  "language_info": {
   "codemirror_mode": {
    "name": "ipython",
    "version": 3
   },
   "file_extension": ".py",
   "mimetype": "text/x-python",
   "name": "python",
   "nbconvert_exporter": "python",
   "pygments_lexer": "ipython3",
   "version": "3.9.7"
  }
 },
 "nbformat": 4,
 "nbformat_minor": 5
}
