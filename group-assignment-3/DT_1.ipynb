{
 "cells": [
  {
   "cell_type": "code",
   "execution_count": null,
   "id": "51aafd44",
   "metadata": {},
   "outputs": [],
   "source": [
    "import pandas as pd\n",
    "import numpy as np\n",
    "import matplotlib.pyplot as plt\n",
    "%matplotlib inline\n",
    "import warnings\n",
    "warnings.filterwarnings(\"ignore\")"
   ]
  },
  {
   "cell_type": "code",
   "execution_count": null,
   "id": "300cdb25",
   "metadata": {},
   "outputs": [],
   "source": [
    "test = pd.read_csv('data/test.csv')\n",
    "train = pd.read_csv('data/train.csv')"
   ]
  },
  {
   "cell_type": "code",
   "execution_count": null,
   "id": "d31ed751",
   "metadata": {},
   "outputs": [],
   "source": [
    "X_train = train.copy().drop(['target'], axis=1)\n",
    "y_train = train['target']\n",
    "X_test = test.copy()"
   ]
  },
  {
   "cell_type": "markdown",
   "id": "e622b108",
   "metadata": {},
   "source": [
    "#### 결측치 최빈값으로 대체"
   ]
  },
  {
   "cell_type": "code",
   "execution_count": null,
   "id": "caa15be4",
   "metadata": {},
   "outputs": [],
   "source": [
    "cat = ['bin_0', 'bin_1', 'bin_2', 'bin_3', 'bin_4', 'nom_0', 'nom_1',\n",
    "       'nom_2', 'nom_3', 'nom_4', 'nom_5', 'nom_6', 'nom_7', 'nom_8', 'nom_9',\n",
    "       'ord_0', 'ord_1', 'ord_2', 'ord_3', 'ord_4', 'ord_5', 'day', 'month']"
   ]
  },
  {
   "cell_type": "code",
   "execution_count": null,
   "id": "b8f2a6bd",
   "metadata": {},
   "outputs": [],
   "source": [
    "from sklearn.impute import SimpleImputer \n",
    "\n",
    "imp = SimpleImputer(strategy=\"most_frequent\")\n",
    "X_train[cat] = imp.fit_transform(X_train[cat])\n",
    "X_test[cat] = imp.fit_transform(X_test[cat])"
   ]
  },
  {
   "cell_type": "code",
   "execution_count": null,
   "id": "bc154aed",
   "metadata": {},
   "outputs": [],
   "source": [
    "X_train.info()"
   ]
  },
  {
   "cell_type": "markdown",
   "id": "757acabc",
   "metadata": {},
   "source": [
    "## Decision Tree"
   ]
  },
  {
   "cell_type": "code",
   "execution_count": null,
   "id": "301d2754",
   "metadata": {},
   "outputs": [],
   "source": [
    "from sklearn.tree import DecisionTreeClassifier\n",
    "\n",
    "tree = DecisionTreeClassifier()\n",
    "def sub(X_train_encode, X_test_encode, encodingname):\n",
    "    tree.fit(X_train_encode[cat], y_train)\n",
    "    submission = X_test.id.to_frame()\n",
    "    submission['target'] = tree.predict_proba(X_test_encode[cat])[:, 1]\n",
    "    submission.to_csv('DT_' + encodingname + '.csv', index = False)"
   ]
  },
  {
   "cell_type": "markdown",
   "id": "5eb71768",
   "metadata": {},
   "source": [
    "### 1) Label Encoding (Ordinal)"
   ]
  },
  {
   "cell_type": "code",
   "execution_count": null,
   "id": "b8526fa4",
   "metadata": {},
   "outputs": [],
   "source": [
    "from sklearn.preprocessing import OrdinalEncoder\n",
    "\n",
    "\n",
    "X_train_oe, X_test_oe, = X_train.copy(), X_test.copy()\n",
    "\n",
    "\n",
    "le = OrdinalEncoder(handle_unknown='use_encoded_value',\n",
    "                    unknown_value=-1, dtype=int)\n",
    "\n",
    "X_train_oe[cat] = le.fit_transform(X_train[cat])\n",
    "X_test_oe[cat] = le.transform(X_test[cat])\n",
    "\n",
    "\n",
    "X_train_oe[cat]"
   ]
  },
  {
   "cell_type": "code",
   "execution_count": null,
   "id": "223f9d7f",
   "metadata": {},
   "outputs": [],
   "source": [
    "sub(X_train_oe, X_test_oe, 'OrdinalEncoding')"
   ]
  },
  {
   "cell_type": "markdown",
   "id": "4a8d4684",
   "metadata": {},
   "source": [
    "### 2) Target Encoding"
   ]
  },
  {
   "cell_type": "code",
   "execution_count": null,
   "id": "6043dbb7",
   "metadata": {},
   "outputs": [],
   "source": [
    "from category_encoders import TargetEncoder\n",
    "\n",
    "\n",
    "X_train_te, X_test_te, = X_train.copy(), X_test.copy()\n",
    "\n",
    "te = TargetEncoder(cols=cat, min_samples_leaf=5, smoothing=50) \n",
    "X_train_te[cat] = te.fit_transform(X_train[cat], y_train)\n",
    "X_test_te[cat] = te.transform(X_test[cat])\n",
    "\n",
    "\n",
    "X_train_te[cat]"
   ]
  },
  {
   "cell_type": "code",
   "execution_count": null,
   "id": "a11ec0ea",
   "metadata": {},
   "outputs": [],
   "source": [
    "sub(X_train_te, X_test_te, 'TargetEncoding')"
   ]
  },
  {
   "cell_type": "markdown",
   "id": "bd67879e",
   "metadata": {},
   "source": [
    "### 3) Helmert Encoding"
   ]
  },
  {
   "cell_type": "code",
   "execution_count": null,
   "id": "2f6902e2",
   "metadata": {},
   "outputs": [],
   "source": [
    "import category_encoders as ce\n",
    "\n",
    "X_train_he = X_train.copy().drop(['id'], axis=1)\n",
    "X_test_he =  X_test.copy().drop(['id'], axis=1)\n",
    "\n",
    "HE = ce.HelmertEncoder(cat) #, drop_invariant=True\n",
    "X_train_he = HE.fit(X_train[cat], y_train)\n",
    "X_test_he = HE.transform(X_test[cat])\n",
    "\n",
    "X_train_he"
   ]
  },
  {
   "cell_type": "code",
   "execution_count": null,
   "id": "b0a24f8e",
   "metadata": {},
   "outputs": [],
   "source": [
    "sub(X_train_he, X_test_he, 'TargetEncoding')"
   ]
  },
  {
   "cell_type": "markdown",
   "id": "644d6ec3",
   "metadata": {},
   "source": [
    "### 4) Binary Encoding"
   ]
  },
  {
   "cell_type": "code",
   "execution_count": null,
   "id": "b4ea91c9",
   "metadata": {},
   "outputs": [],
   "source": [
    "BE = ce.binary.BinaryEncoder(cat)\n",
    "\n",
    "X_train_be = X_train.copy().drop(['id'], axis=1)\n",
    "X_test_be = X_test.copy().drop(['id'], axis=1)\n",
    "\n",
    "X_train_be = BE.fit_transform(X_train[cat], y_train)\n",
    "X_test_be = BE.transform(X_test[cat])\n",
    "\n",
    "X_train_be"
   ]
  },
  {
   "cell_type": "code",
   "execution_count": null,
   "id": "79e0fd25",
   "metadata": {},
   "outputs": [],
   "source": [
    "cat = X_train_be.columns\n",
    "sub(X_train_be, X_test_be, 'BinaryEncoding')"
   ]
  },
  {
   "cell_type": "markdown",
   "id": "5460715e",
   "metadata": {},
   "source": [
    "### 5) Frequency Encoding"
   ]
  },
  {
   "cell_type": "code",
   "execution_count": null,
   "id": "f88e6f28",
   "metadata": {},
   "outputs": [],
   "source": [
    "def FE(colname):\n",
    "    freq = (X_train.groupby(colname).size())/len(X_train)\n",
    "    X_train_fe.loc[:,colname] = X_train_fe[colname].map(freq)\n",
    "    X_test_fe.loc[:,colname] = X_test_fe[colname].map(freq)"
   ]
  },
  {
   "cell_type": "code",
   "execution_count": null,
   "id": "570a7dc0",
   "metadata": {},
   "outputs": [],
   "source": [
    "X_train_fe = X_train.copy().drop(['id'], axis=1)\n",
    "X_test_fe = X_test.copy().drop(['id'], axis=1)"
   ]
  },
  {
   "cell_type": "code",
   "execution_count": null,
   "id": "1676cf2b",
   "metadata": {},
   "outputs": [],
   "source": [
    "for x in (X_train_fe.columns):\n",
    "    FE(x)"
   ]
  },
  {
   "cell_type": "code",
   "execution_count": null,
   "id": "081b0673",
   "metadata": {},
   "outputs": [],
   "source": [
    "X_test_fe.nom_6.value_counts()"
   ]
  },
  {
   "cell_type": "code",
   "execution_count": null,
   "id": "7f7ca95c",
   "metadata": {},
   "outputs": [],
   "source": [
    "X_test_fe.nom_6 = X_test_fe.nom_6.fillna(#최빈값)"
   ]
  },
  {
   "cell_type": "code",
   "execution_count": null,
   "id": "86e11d60",
   "metadata": {},
   "outputs": [],
   "source": [
    "cat = X_train_fe.columns\n",
    "sub(X_train_fe, X_test_fe, 'FrequencyEncoding')"
   ]
  },
  {
   "cell_type": "markdown",
   "id": "a7cd9f7d",
   "metadata": {},
   "source": [
    "### 6) Weight of Evidence Encoding"
   ]
  },
  {
   "cell_type": "code",
   "execution_count": null,
   "id": "4c3e6bcb",
   "metadata": {},
   "outputs": [],
   "source": [
    "X_train_woe = X_train.copy().drop(['id'], axis=1)\n",
    "X_test_woe = X_test.copy().drop(['id'], axis=1)\n",
    "\n",
    "def Woe(colname):\n",
    "    WOE = train.groupby(colname)['target'].mean()\n",
    "    WOE = pd.DataFrame(WOE)\n",
    "    WOE = WOE.rename(columns = {'target':'good'})\n",
    "    WOE['bad'] = 1 - WOE.good\n",
    "    WOE['bad'] = np.where(WOE['bad'] == 0,0.000001, WOE['bad'])\n",
    "\n",
    "    WOE['WOE'] = np.log(WOE.good/WOE.bad)\n",
    "\n",
    "    X_train_woe.loc[:,colname] = X_train_woe[colname].map(WOE['WOE'])\n",
    "    X_test_woe.loc[:,colname] = X_test_woe[colname].map(WOE['WOE'])"
   ]
  },
  {
   "cell_type": "code",
   "execution_count": null,
   "id": "3c6b504d",
   "metadata": {},
   "outputs": [],
   "source": [
    "for x in (X_train_woe.columns):\n",
    "    Woe(x)"
   ]
  },
  {
   "cell_type": "code",
   "execution_count": null,
   "id": "4418b7e0",
   "metadata": {},
   "outputs": [],
   "source": [
    "X_test_woe.nom_6 = X_test_woe.nom_6.fillna(-1.540948)"
   ]
  },
  {
   "cell_type": "code",
   "execution_count": null,
   "id": "af13251d",
   "metadata": {},
   "outputs": [],
   "source": [
    "X_train_woe = X_train_woe.replace([-np.inf], -10)\n",
    "X_test_woe = X_test_woe.replace([-np.inf], -10)"
   ]
  },
  {
   "cell_type": "code",
   "execution_count": null,
   "id": "1df5789a",
   "metadata": {},
   "outputs": [],
   "source": [
    "cat = X_train_woe.columns\n",
    "sub(X_train_woe, X_test_woe, 'WeightofEvidenceEncoding')"
   ]
  },
  {
   "cell_type": "markdown",
   "id": "c91c485d",
   "metadata": {},
   "source": [
    "### 7) James-Stein Encoding"
   ]
  },
  {
   "cell_type": "code",
   "execution_count": null,
   "id": "1752499f",
   "metadata": {},
   "outputs": [],
   "source": [
    "X_train_jse = X_train.copy().drop(['id'], axis=1)\n",
    "X_test_jse = X_test.copy().drop(['id'], axis=1)\n",
    "cat = X_train_jse.columns\n",
    "\n",
    "from category_encoders.james_stein import JamesSteinEncoder\n",
    "\n",
    "JSE_encoder = JamesSteinEncoder()\n",
    "X_train_jse = JSE_encoder.fit_transform(X_train_jse[cat], y_train)\n",
    "X_test_jse = JSE_encoder.transform(X_test_jse[cat])"
   ]
  },
  {
   "cell_type": "code",
   "execution_count": null,
   "id": "517052ae",
   "metadata": {},
   "outputs": [],
   "source": [
    "cat = X_train_jse.columns\n",
    "sub(X_train_jse, X_test_jse, 'JamesSteinEncoding')"
   ]
  },
  {
   "cell_type": "markdown",
   "id": "9634503e",
   "metadata": {},
   "source": [
    "### 8) Leave-One-Out Encoding"
   ]
  },
  {
   "cell_type": "code",
   "execution_count": null,
   "id": "83bd495f",
   "metadata": {},
   "outputs": [],
   "source": [
    "X_train_looe = X_train.copy().drop(['id'], axis=1)\n",
    "X_test_looe = X_test.copy().drop(['id'], axis=1)\n",
    "cat = X_train_looe.columns\n",
    "\n",
    "from category_encoders.leave_one_out import LeaveOneOutEncoder\n",
    "\n",
    "LOOE_encoder = LeaveOneOutEncoder()\n",
    "X_train_looe = LOOE_encoder.fit_transform(X_train_looe[cat], y_train)\n",
    "X_test_looe = LOOE_encoder.transform(X_test_looe[cat])"
   ]
  },
  {
   "cell_type": "code",
   "execution_count": null,
   "id": "32efd681",
   "metadata": {},
   "outputs": [],
   "source": [
    "cat = X_train_looe.columns\n",
    "sub(X_train_looe, X_test_looe, 'LeaveOneOutEncoding')"
   ]
  },
  {
   "cell_type": "markdown",
   "id": "6c8d48f0",
   "metadata": {},
   "source": [
    "### 9) Catboost Encoding"
   ]
  },
  {
   "cell_type": "code",
   "execution_count": null,
   "id": "251dd4f8",
   "metadata": {},
   "outputs": [],
   "source": [
    "X_train_cbe = X_train.copy().drop(['id'], axis=1)\n",
    "X_test_cbe = X_test.copy().drop(['id'], axis=1)\n",
    "cat = X_train_cbe.columns\n",
    "\n",
    "from category_encoders.cat_boost import CatBoostEncoder\n",
    "\n",
    "CBE_encoder = CatBoostEncoder()\n",
    "X_train_cbe = CBE_encoder.fit_transform(X_train_cbe[cat], y_train)\n",
    "X_test_cbe = CBE_encoder.transform(X_test_cbe[cat])"
   ]
  },
  {
   "cell_type": "code",
   "execution_count": null,
   "id": "d547ed7c",
   "metadata": {},
   "outputs": [],
   "source": [
    "cat = X_train_cbe.columns\n",
    "sub(X_train_cbe, X_test_cbe, 'CatboostEncoding')"
   ]
  },
  {
   "cell_type": "markdown",
   "id": "0ec462ed",
   "metadata": {},
   "source": [
    "* * *"
   ]
  }
 ],
 "metadata": {
  "kernelspec": {
   "display_name": "Python 3 (ipykernel)",
   "language": "python",
   "name": "python3"
  },
  "language_info": {
   "codemirror_mode": {
    "name": "ipython",
    "version": 3
   },
   "file_extension": ".py",
   "mimetype": "text/x-python",
   "name": "python",
   "nbconvert_exporter": "python",
   "pygments_lexer": "ipython3",
   "version": "3.9.7"
  }
 },
 "nbformat": 4,
 "nbformat_minor": 5
}
